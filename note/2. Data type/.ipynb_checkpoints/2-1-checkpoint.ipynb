{
 "cells": [
  {
   "cell_type": "markdown",
   "id": "diagnostic-yesterday",
   "metadata": {},
   "source": [
    "# 2-1. 객체(Type)의 분류\n",
    "\n",
    "\n",
    "#### <목표>\n",
    "\n",
    "- Type(DataType)을 구분하는 몇 가지 기준에 대해서 알아보자.\n",
    "- 내장 DataType(Built-in Type)을 구분기준에 따라서 살펴보자.\n",
    "<br>\n",
    "\n",
    "## 2-1-1. Python 객체와 Type의 특징\n",
    "\n",
    "- Python의 Datatype 혹은 Type은 곧 Class.\n",
    "\n",
    "**Dynamic typing(동적자료형)** : 객체 할당이 자료형을 결정.\n",
    "\n",
    "    - Python의 모든 것은 \"객체(Object)\"이며 그 모든 객체들은 Type(속성,특성)을 갖는다. \n",
    "    - 식별자(변수)에 객체를 어떤 메모리 공간을 참조하게 binding한다는 것은 어떤 Type의 Class의 객체를 할당하는 것과 같은 의미.\n",
    "\n",
    "\n",
    "**Strong Typing(강한자료형)** : 임이의 클래스를 사용하여 자료형을 처리\n",
    "\n",
    "    - 객체에 대한 자료형이 항상 클래스로 결정되어있음.\n",
    "    - 대게 강한 자료형은 같은 클래스로 만들어진 객체일때만 연산가능"
   ]
  },
  {
   "cell_type": "code",
   "execution_count": 1,
   "id": "hydraulic-commissioner",
   "metadata": {},
   "outputs": [
    {
     "data": {
      "text/plain": [
       "list"
      ]
     },
     "execution_count": 1,
     "metadata": {},
     "output_type": "execute_result"
    }
   ],
   "source": [
    "#Dynamic typing이해\n",
    "# a에 list를 바인딩(할당) => Type과 __class__메소드를통해 자료형이 결정되었음을 확인.\n",
    "a = []\n",
    "type(a)"
   ]
  },
  {
   "cell_type": "code",
   "execution_count": 2,
   "id": "serious-birmingham",
   "metadata": {},
   "outputs": [
    {
     "data": {
      "text/plain": [
       "list"
      ]
     },
     "execution_count": 2,
     "metadata": {},
     "output_type": "execute_result"
    }
   ],
   "source": [
    "a.__class__"
   ]
  },
  {
   "cell_type": "code",
   "execution_count": 3,
   "id": "fatal-contemporary",
   "metadata": {},
   "outputs": [
    {
     "ename": "NameError",
     "evalue": "name 'b' is not defined",
     "output_type": "error",
     "traceback": [
      "\u001b[0;31m---------------------------------------------------------------------------\u001b[0m",
      "\u001b[0;31mNameError\u001b[0m                                 Traceback (most recent call last)",
      "\u001b[0;32m<ipython-input-3-9d6aae76d362>\u001b[0m in \u001b[0;36m<module>\u001b[0;34m\u001b[0m\n\u001b[1;32m      1\u001b[0m \u001b[0;31m#Strong Typing이해\u001b[0m\u001b[0;34m\u001b[0m\u001b[0;34m\u001b[0m\u001b[0;34m\u001b[0m\u001b[0m\n\u001b[1;32m      2\u001b[0m \u001b[0;31m# b는 할당되어있지 않다면 자료형이 결정되어있지 않음.\u001b[0m\u001b[0;34m\u001b[0m\u001b[0;34m\u001b[0m\u001b[0;34m\u001b[0m\u001b[0m\n\u001b[0;32m----> 3\u001b[0;31m \u001b[0mb\u001b[0m\u001b[0;34m\u001b[0m\u001b[0;34m\u001b[0m\u001b[0m\n\u001b[0m",
      "\u001b[0;31mNameError\u001b[0m: name 'b' is not defined"
     ]
    }
   ],
   "source": [
    "# b는 할당되어있지 않다면 자료형이 결정되어있지 않음.\n",
    "b"
   ]
  },
  {
   "cell_type": "code",
   "execution_count": 4,
   "id": "tender-observer",
   "metadata": {},
   "outputs": [
    {
     "data": {
      "text/plain": [
       "int"
      ]
     },
     "execution_count": 4,
     "metadata": {},
     "output_type": "execute_result"
    }
   ],
   "source": [
    "# Strong typing 이해\n",
    "\n",
    "c = int('100')# 정수객체 만들기\n",
    "type(c)# int라는 클래스의 객체임."
   ]
  },
  {
   "cell_type": "code",
   "execution_count": 5,
   "id": "premium-screw",
   "metadata": {},
   "outputs": [
    {
     "ename": "TypeError",
     "evalue": "unsupported operand type(s) for +: 'int' and 'str'",
     "output_type": "error",
     "traceback": [
      "\u001b[0;31m---------------------------------------------------------------------------\u001b[0m",
      "\u001b[0;31mTypeError\u001b[0m                                 Traceback (most recent call last)",
      "\u001b[0;32m<ipython-input-5-17e9c6e8a9d7>\u001b[0m in \u001b[0;36m<module>\u001b[0;34m\u001b[0m\n\u001b[1;32m      2\u001b[0m \u001b[0;31m# 당연, 각 Type에 해당하는 Class에 다른 Type과의 연산자 오버로딩을 정의하지 않았기 때문.\u001b[0m\u001b[0;34m\u001b[0m\u001b[0;34m\u001b[0m\u001b[0;34m\u001b[0m\u001b[0m\n\u001b[1;32m      3\u001b[0m \u001b[0;34m\u001b[0m\u001b[0m\n\u001b[0;32m----> 4\u001b[0;31m \u001b[0mb\u001b[0m \u001b[0;34m+\u001b[0m \u001b[0;34m'100'\u001b[0m\u001b[0;34m\u001b[0m\u001b[0;34m\u001b[0m\u001b[0m\n\u001b[0m",
      "\u001b[0;31mTypeError\u001b[0m: unsupported operand type(s) for +: 'int' and 'str'"
     ]
    }
   ],
   "source": [
    "# int형과 문자열 -> 강한 자료형의 다른 Type끼리의 연산불가.\n",
    "# 당연, 각 Type에 해당하는 Class에 다른 Type과의 연산자 오버로딩을 정의하지 않았기 때문.\n",
    "\n",
    "b + '100'"
   ]
  },
  {
   "cell_type": "code",
   "execution_count": 6,
   "id": "ranking-bailey",
   "metadata": {},
   "outputs": [],
   "source": [
    "# 함수와 메소드는 어떤 객체로부터 왔을까?\n",
    "\n",
    "class A(object):\n",
    "    def func(self):\n",
    "        print(\"Hello world\")"
   ]
  },
  {
   "cell_type": "code",
   "execution_count": 7,
   "id": "competent-replica",
   "metadata": {},
   "outputs": [
    {
     "data": {
      "text/plain": [
       "<function __main__.A.func(self)>"
      ]
     },
     "execution_count": 7,
     "metadata": {},
     "output_type": "execute_result"
    }
   ],
   "source": [
    "# func 객체이다.\n",
    "A.func"
   ]
  },
  {
   "cell_type": "code",
   "execution_count": 8,
   "id": "missing-hundred",
   "metadata": {},
   "outputs": [
    {
     "data": {
      "text/plain": [
       "<bound method A.func of <__main__.A object at 0x1101ec850>>"
      ]
     },
     "execution_count": 8,
     "metadata": {},
     "output_type": "execute_result"
    }
   ],
   "source": [
    "#  A의 메소드로 변환되어서 나타나짐\n",
    "a = A()\n",
    "a.func"
   ]
  },
  {
   "cell_type": "markdown",
   "id": "under-thirty",
   "metadata": {},
   "source": [
    "## 2-1-2. Container Type\n",
    "\n",
    "\n",
    "\n",
    "- 정의 : Container Type의 객체는 다른 Type의 객체의 \"참조\"를 포함하고있다.\n",
    "- 즉, Container Type의 요소(element)들은 다른 Type일 수 있으며, **쪼개질 수 있다.**\n",
    "    - DB의 원자성(Atomicity)\n",
    "- 쪼개졌을때 *의미*가 있어야한다.\n",
    "\n",
    "- Built-in DataType : List, Tuple, Set, String\n",
    "    - 숫자형 자료형은 숫자 그 자체로 의미를 가지기 때문에 쪼개면 의미가 없음.\n",
    "    \n",
    "#### Homogeneous vs Heterogeneous\n",
    "\n",
    "- Homogeneous : 일반적으로 Container Type중 한 가지의 클래스로 이루어진 것.\n",
    "    - String 자료형\n",
    "    - 'ABC' -> 'A' 'B' 'C' 쪼개도 의미가 잇다.\n",
    "    \n",
    "- Heterogeneous : 일반적으로 Container Type중 내부에 다른 Class로 참조가 되는 Container Type\n",
    "    - List, Tuple, Set\n",
    "\n",
    "#### vs Collection(Container datatype)\n",
    "\n",
    "- [Collection](https://docs.python.org/ko/3/library/collections.html?highlight=collection) 공식문서.\n",
    "- 일반적으로 Collection Class를 Container datatype이라고 공식문서에 명명되어있다. 그래서, Container라는 개념자체와 혼동하여 혹은 합쳐서 용어를 사용하는 경우가 있는데, Container Type은 *개념*의 일종이고 Collection은 python에서 구현한 Container Type에 속하는 **모듈**이다.\n",
    "\n",
    "\n",
    "- Collection 모듈 : 파이썬의 범용 내장 컨테이너 dict, list, set 및 tuple에 대한 대안을 제공하는 특수 Container DataType을 구현.\n",
    "- 자세한 내부 모듈은 공식문서 확인.\n",
    "\n",
    "    - collections.abc : 추상 클래스이며 여기에있는 메소드를 사용하여 len()등 우리가 익히 사용하는 함수 및 메소드를 구현(Class단원 참조)\n"
   ]
  },
  {
   "cell_type": "code",
   "execution_count": 9,
   "id": "activated-coral",
   "metadata": {},
   "outputs": [
    {
     "data": {
      "text/plain": [
       "'ABC'"
      ]
     },
     "execution_count": 9,
     "metadata": {},
     "output_type": "execute_result"
    }
   ],
   "source": [
    "# Heterogeneous : String포함.\n",
    "\n",
    "'ABC'"
   ]
  },
  {
   "cell_type": "code",
   "execution_count": 10,
   "id": "temporal-influence",
   "metadata": {},
   "outputs": [
    {
     "data": {
      "text/plain": [
       "'A'"
      ]
     },
     "execution_count": 10,
     "metadata": {},
     "output_type": "execute_result"
    }
   ],
   "source": [
    "'A'"
   ]
  },
  {
   "cell_type": "code",
   "execution_count": 11,
   "id": "provincial-alignment",
   "metadata": {},
   "outputs": [
    {
     "data": {
      "text/plain": [
       "'B'"
      ]
     },
     "execution_count": 11,
     "metadata": {},
     "output_type": "execute_result"
    }
   ],
   "source": [
    "'B' # 다 쪼개서 의미를 가질 수 있음."
   ]
  },
  {
   "cell_type": "markdown",
   "id": "bright-tracker",
   "metadata": {},
   "source": [
    "#### Container Type인지 아닌지 확인 : issubclass 함수사용"
   ]
  },
  {
   "cell_type": "code",
   "execution_count": 35,
   "id": "former-clone",
   "metadata": {},
   "outputs": [
    {
     "name": "stdout",
     "output_type": "stream",
     "text": [
      "True\n",
      "True\n",
      "True\n",
      "False\n"
     ]
    }
   ],
   "source": [
    "from collections.abc import Container\n",
    "\n",
    "print(issubclass(str, Container))\n",
    "print(issubclass(set, Container))\n",
    "print(issubclass(tuple, Container))\n",
    "\n",
    "# int는 아님.\n",
    "print(issubclass(int, Container))"
   ]
  },
  {
   "cell_type": "markdown",
   "id": "catholic-marking",
   "metadata": {},
   "source": [
    "#### Container 객체는 'in' keyword를 통해 내부에 *존재여부*를 알 수 있다."
   ]
  },
  {
   "cell_type": "code",
   "execution_count": 36,
   "id": "blond-theology",
   "metadata": {},
   "outputs": [
    {
     "data": {
      "text/plain": [
       "True"
      ]
     },
     "execution_count": 36,
     "metadata": {},
     "output_type": "execute_result"
    }
   ],
   "source": [
    "1 in [1,2,3,4]"
   ]
  },
  {
   "cell_type": "code",
   "execution_count": 38,
   "id": "experienced-travel",
   "metadata": {},
   "outputs": [
    {
     "data": {
      "text/plain": [
       "True"
      ]
     },
     "execution_count": 38,
     "metadata": {},
     "output_type": "execute_result"
    }
   ],
   "source": [
    "5 not in [1,2,3,4]"
   ]
  },
  {
   "cell_type": "code",
   "execution_count": 41,
   "id": "broke-cliff",
   "metadata": {},
   "outputs": [
    {
     "name": "stdout",
     "output_type": "stream",
     "text": [
      "x는 1입니다.\n",
      "x는 1입니다(2)\n",
      "Hello\n",
      "Hello(2)\n"
     ]
    }
   ],
   "source": [
    "# 우아한 사용\n",
    "\n",
    "# 코드 줄이기\n",
    "a= [1,2,3,4]\n",
    "\n",
    "for x in a:\n",
    "    if x == 1:\n",
    "        print(\"x는 1입니다.\")\n",
    "        \n",
    "if 1 in a:\n",
    "    print(\"x는 1입니다(2)\")\n",
    "    \n",
    "# or 연산 대용\n",
    "a = 2\n",
    "\n",
    "if a==1 or a==2:\n",
    "    print(\"Hello\")\n",
    "    \n",
    "if a in [1,2]:\n",
    "    print(\"Hello(2)\")"
   ]
  },
  {
   "cell_type": "markdown",
   "id": "pressed-ballet",
   "metadata": {},
   "source": [
    "## 2-1-2. Mutable Container Type vs Immutable Container Type\n",
    "\n",
    "- 모두 Container Type안에서의 분류이다.\n",
    "\n",
    "\n",
    "- Mutable : 내부주소값 그대로 사용하면서 재할당없이 내부를 바꿀 수 있는 객체\n",
    "    - 편리하나 바뀐지 모르는 경우가 있기 때문에 실수를 유발\n",
    "    - list, bytearray, Dict, set이 여기에 속한다.\n",
    "    - call by reference\n",
    "    \n",
    "    \n",
    "- Immutable : 재할당 해야지만 값을 바꿀 수 있음.\n",
    "    - 프로그래밍 관점에서 실수 혹은 오류를 줄일 수 있기 때문에 더 우아한 방법.\n",
    "    - bool, int, float, str, frozenset, tuple, bytes\n",
    "    - call by value\n",
    "    - 함수형 패러다임에서는 Immutable이 많음."
   ]
  },
  {
   "cell_type": "code",
   "execution_count": 15,
   "id": "abroad-documentation",
   "metadata": {},
   "outputs": [
    {
     "ename": "TypeError",
     "evalue": "'str' object does not support item assignment",
     "output_type": "error",
     "traceback": [
      "\u001b[0;31m---------------------------------------------------------------------------\u001b[0m",
      "\u001b[0;31mTypeError\u001b[0m                                 Traceback (most recent call last)",
      "\u001b[0;32m<ipython-input-15-915336cd6240>\u001b[0m in \u001b[0;36m<module>\u001b[0;34m\u001b[0m\n\u001b[1;32m      1\u001b[0m \u001b[0;31m# mutable실습\u001b[0m\u001b[0;34m\u001b[0m\u001b[0;34m\u001b[0m\u001b[0;34m\u001b[0m\u001b[0m\n\u001b[1;32m      2\u001b[0m \u001b[0mvar\u001b[0m \u001b[0;34m=\u001b[0m \u001b[0;34m\"문자열\"\u001b[0m\u001b[0;34m\u001b[0m\u001b[0;34m\u001b[0m\u001b[0m\n\u001b[0;32m----> 3\u001b[0;31m \u001b[0mvar\u001b[0m\u001b[0;34m[\u001b[0m\u001b[0;36m0\u001b[0m\u001b[0;34m]\u001b[0m \u001b[0;34m=\u001b[0m \u001b[0;34m\"가\"\u001b[0m\u001b[0;31m#변경불가\u001b[0m\u001b[0;34m\u001b[0m\u001b[0;34m\u001b[0m\u001b[0m\n\u001b[0m",
      "\u001b[0;31mTypeError\u001b[0m: 'str' object does not support item assignment"
     ]
    }
   ],
   "source": [
    "# Immutable 실습\n",
    "var = \"문자열\"\n",
    "var[0] = \"가\"#변경불가"
   ]
  },
  {
   "cell_type": "code",
   "execution_count": 17,
   "id": "final-stomach",
   "metadata": {},
   "outputs": [
    {
     "name": "stdout",
     "output_type": "stream",
     "text": [
      "가자열\n",
      "문자열\n"
     ]
    }
   ],
   "source": [
    "# replace함수를 통해 s에 재할당\n",
    "s = var.replace(\"문\",\"가\")\n",
    "print(s)\n",
    "print(var)"
   ]
  },
  {
   "cell_type": "code",
   "execution_count": 18,
   "id": "tight-creature",
   "metadata": {},
   "outputs": [
    {
     "data": {
      "text/plain": [
       "['100', 2, 3, 4]"
      ]
     },
     "execution_count": 18,
     "metadata": {},
     "output_type": "execute_result"
    }
   ],
   "source": [
    "# Mutable 실습\n",
    "li = [1,2,3,4]\n",
    "li[0] = '100'\n",
    "li"
   ]
  },
  {
   "cell_type": "code",
   "execution_count": 19,
   "id": "fifteen-intervention",
   "metadata": {},
   "outputs": [
    {
     "data": {
      "text/plain": [
       "['100', 999, 3, 4]"
      ]
     },
     "execution_count": 19,
     "metadata": {},
     "output_type": "execute_result"
    }
   ],
   "source": [
    "# __setitem__\n",
    "li.__setitem__(1,999)\n",
    "li"
   ]
  },
  {
   "cell_type": "markdown",
   "id": "assigned-estate",
   "metadata": {},
   "source": [
    "#### Mutable class인지 아닌지 구분?\n",
    "\n",
    "- 모든 Class에는 속성과 함수 등을 관리하는 \\__dict__가 구현되며, 여기에 java에서의 getter, setter가 구현되어있음.\n",
    "\n",
    "- immutable일때는 **변경불가** 이므로 \\__setitem__과 \\__delitem__구현이 되어있지 않음."
   ]
  },
  {
   "cell_type": "code",
   "execution_count": 27,
   "id": "later-discretion",
   "metadata": {},
   "outputs": [
    {
     "name": "stdout",
     "output_type": "stream",
     "text": [
      "True\n",
      "False\n",
      "False\n"
     ]
    }
   ],
   "source": [
    "# immutable : __getitem__존재, __setitem__과 __delitem__ 존재하지 않음.\n",
    "print('__getitem__' in str.__dict__)\n",
    "print('__setitem__' in str.__dict__)\n",
    "print('__delitem__' in str.__dict__)"
   ]
  },
  {
   "cell_type": "code",
   "execution_count": 28,
   "id": "acknowledged-tiger",
   "metadata": {},
   "outputs": [
    {
     "name": "stdout",
     "output_type": "stream",
     "text": [
      "True\n",
      "True\n",
      "True\n"
     ]
    }
   ],
   "source": [
    "# mutable : 모두 구현\n",
    "print('__getitem__' in list.__dict__)\n",
    "print('__setitem__' in list.__dict__)\n",
    "print('__delitem__' in list.__dict__)"
   ]
  },
  {
   "cell_type": "markdown",
   "id": "unlikely-jewel",
   "metadata": {},
   "source": [
    "# to be continued( sequence, iterable(container))"
   ]
  },
  {
   "cell_type": "code",
   "execution_count": null,
   "id": "divided-storage",
   "metadata": {},
   "outputs": [],
   "source": []
  }
 ],
 "metadata": {
  "kernelspec": {
   "display_name": "Python 3",
   "language": "python",
   "name": "python3"
  },
  "language_info": {
   "codemirror_mode": {
    "name": "ipython",
    "version": 3
   },
   "file_extension": ".py",
   "mimetype": "text/x-python",
   "name": "python",
   "nbconvert_exporter": "python",
   "pygments_lexer": "ipython3",
   "version": "3.9.1"
  }
 },
 "nbformat": 4,
 "nbformat_minor": 5
}
