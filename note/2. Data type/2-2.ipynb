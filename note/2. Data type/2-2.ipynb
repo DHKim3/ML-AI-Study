{
 "cells": [
  {
   "cell_type": "markdown",
   "id": "coastal-norman",
   "metadata": {},
   "source": [
    "# 2-2. 객체(Type)의 분류 2 - Sequence"
   ]
  },
  {
   "cell_type": "markdown",
   "id": "compatible-attribute",
   "metadata": {},
   "source": [
    "## 2-2-1. Sequence Container Type\n",
    "\n",
    "- 상식적으로 Sequence type은 내부적으로 어떠한 객체를 포함하고 있기에 Container Type이다.\n",
    "\n",
    "- 기억 : sequence type의 객체들은 순서가 있다.\n",
    "\n",
    "- 순서가 있으므로 인해 할 수 있는 2가지가 가능하다는 특징이 있다.\n",
    "    - indexing(색인)\n",
    "    - slicing(슬라이싱)\n",
    "    \n",
    "    \n",
    "- non-sequencing type : 순서가 없다."
   ]
  },
  {
   "cell_type": "markdown",
   "id": "flying-default",
   "metadata": {},
   "source": [
    "#### indexing(색인)\n",
    "\n",
    "- indexing(색인)을 하기 위해서는 2가지 방법.\n",
    "\n",
    "    1. 대괄호(\\[ \\])\n",
    "    2. operator module의 getitem 혹은 \\_\\_getitem__ 메소드.\n",
    "\n",
    "\n",
    "- mutable data인 경우 내부를 변경하기 위한 2가지 방법\n",
    "\n",
    "    1. 할당\n",
    "    2. operator module의 setitem 메소드\n",
    "\n",
    "\n",
    "- IndexError\n",
    "    - 인덱스는 타 언어의 배열과 같게 0 ~ n-1까지 존재. 이 범위를 벗어나면 IndexError 발생.\n",
    "    \n",
    "    \n",
    "- Minus index\n",
    "    - Circular하게 -는 뒤에서부터 시작. 즉, 0을 기준으로 \n",
    "    \n",
    "    - ... -3 -2 -1 0 1 2 3 ... 이러한 방식으로 계산.\n",
    "    "
   ]
  },
  {
   "cell_type": "code",
   "execution_count": 23,
   "id": "challenging-knight",
   "metadata": {},
   "outputs": [
    {
     "name": "stdout",
     "output_type": "stream",
     "text": [
      "0 5\n"
     ]
    }
   ],
   "source": [
    "# indexing\n",
    "\n",
    "a = list(range(0,10))\n",
    "\n",
    "a\n",
    "\n",
    "print(a[0],a[5])"
   ]
  },
  {
   "cell_type": "code",
   "execution_count": 24,
   "id": "characteristic-bibliography",
   "metadata": {},
   "outputs": [
    {
     "ename": "IndexError",
     "evalue": "list index out of range",
     "output_type": "error",
     "traceback": [
      "\u001b[0;31m---------------------------------------------------------------------------\u001b[0m",
      "\u001b[0;31mIndexError\u001b[0m                                Traceback (most recent call last)",
      "\u001b[0;32m<ipython-input-24-ea245e74d42d>\u001b[0m in \u001b[0;36m<module>\u001b[0;34m\u001b[0m\n\u001b[1;32m      1\u001b[0m \u001b[0;31m# IndexError\u001b[0m\u001b[0;34m\u001b[0m\u001b[0;34m\u001b[0m\u001b[0;34m\u001b[0m\u001b[0m\n\u001b[0;32m----> 2\u001b[0;31m \u001b[0ma\u001b[0m\u001b[0;34m[\u001b[0m\u001b[0;36m10\u001b[0m\u001b[0;34m]\u001b[0m\u001b[0;34m\u001b[0m\u001b[0;34m\u001b[0m\u001b[0m\n\u001b[0m",
      "\u001b[0;31mIndexError\u001b[0m: list index out of range"
     ]
    }
   ],
   "source": [
    "# IndexError\n",
    "a[10]"
   ]
  },
  {
   "cell_type": "code",
   "execution_count": 25,
   "id": "adverse-chambers",
   "metadata": {},
   "outputs": [
    {
     "name": "stdout",
     "output_type": "stream",
     "text": [
      "3\n",
      "4\n",
      "5\n"
     ]
    }
   ],
   "source": [
    "# operator module - getitem\n",
    "# getitem(a,b) - a에 b번째 index를 반환한다.\n",
    "\n",
    "import operator as op\n",
    "\n",
    "print(op.getitem(a,3))\n",
    "print(op.__getitem__(a,4))\n",
    "print(a.__getitem__(5))"
   ]
  },
  {
   "cell_type": "code",
   "execution_count": 26,
   "id": "pacific-hollow",
   "metadata": {},
   "outputs": [
    {
     "data": {
      "text/plain": [
       "[0, 1, 2, 3, 4]"
      ]
     },
     "execution_count": 26,
     "metadata": {},
     "output_type": "execute_result"
    }
   ],
   "source": [
    "# 내부 변경\n",
    "\n",
    "b = list(range(0,5))\n",
    "\n",
    "b"
   ]
  },
  {
   "cell_type": "code",
   "execution_count": 28,
   "id": "practical-variation",
   "metadata": {},
   "outputs": [
    {
     "data": {
      "text/plain": [
       "[2, 1, 2, 3, 4]"
      ]
     },
     "execution_count": 28,
     "metadata": {},
     "output_type": "execute_result"
    }
   ],
   "source": [
    "b[0] = 2\n",
    "\n",
    "b"
   ]
  },
  {
   "cell_type": "code",
   "execution_count": 32,
   "id": "global-sweden",
   "metadata": {},
   "outputs": [
    {
     "data": {
      "text/plain": [
       "[2, 1, 999, 1000, 500]"
      ]
     },
     "execution_count": 32,
     "metadata": {},
     "output_type": "execute_result"
    }
   ],
   "source": [
    "# operator module - setitem\n",
    "# setitem(a,b,c) - a의 b번째 index 값을 c로 변경.\n",
    "\n",
    "import operator as op\n",
    "\n",
    "op.setitem(b,2,999)\n",
    "op.__setitem__(b,3,1000)\n",
    "b.__setitem__(4,500)\n",
    "\n",
    "b"
   ]
  },
  {
   "cell_type": "code",
   "execution_count": 42,
   "id": "native-staff",
   "metadata": {},
   "outputs": [
    {
     "name": "stdout",
     "output_type": "stream",
     "text": [
      "4\n"
     ]
    }
   ],
   "source": [
    "# - index\n",
    "\n",
    "c = [1,2,3,4]\n",
    "\n",
    "print(c[-1])"
   ]
  },
  {
   "cell_type": "markdown",
   "id": "smooth-knock",
   "metadata": {},
   "source": [
    "### Slicing\n",
    "\n",
    "    - slice 객체를 통해 sequence 객체 내부의 특정 범위의 부분집합을 가져오는 것을 뜻한다.\n",
    "    - 기본적인 literal은 색인 literal인 []안의 \"a:b\"를 통해서 쉽게 slice객체를 만들 수 있다.\n",
    "    - 새로 만든 부분집합은 기존의 부분집합과 다른 객체이다.\n",
    "    - None == 0\n",
    "    - index와 같이 circular하기 때문에 (-)를 통해서 뒤에서부터 slicing 가능.\n",
    "    - slice의 3번째 인자는 부분집합을 생성하는 범위의 step size를 정해줄 수 있다.\n",
    "    - slice객체의 범위가 현재 sequence객체의 index범위를 벗어나도 가능하다."
   ]
  },
  {
   "cell_type": "code",
   "execution_count": 40,
   "id": "painted-tours",
   "metadata": {},
   "outputs": [
    {
     "name": "stdout",
     "output_type": "stream",
     "text": [
      "[1, 2] False\n"
     ]
    }
   ],
   "source": [
    "# 일반적인 slicing\n",
    "a = [0,1,2,3,4]\n",
    "\n",
    "a1 = a[1:3]\n",
    "\n",
    "print(a1, a is a1)"
   ]
  },
  {
   "cell_type": "code",
   "execution_count": 43,
   "id": "disciplinary-exploration",
   "metadata": {},
   "outputs": [
    {
     "name": "stdout",
     "output_type": "stream",
     "text": [
      "[0, 1, 2] [0, 1, 2]\n"
     ]
    }
   ],
   "source": [
    "# Slice객체 만들기\n",
    "\n",
    "b = [0,1,2,3,4]\n",
    "\n",
    "s = slice(None, 3)\n",
    "s1 = slice(0 , 3)\n",
    "\n",
    "# s와 s1은 같다, 즉 None==0\n",
    "print(b[s],b[s1])"
   ]
  },
  {
   "cell_type": "code",
   "execution_count": 44,
   "id": "accessible-secret",
   "metadata": {},
   "outputs": [
    {
     "name": "stdout",
     "output_type": "stream",
     "text": [
      "[0, 1, 2] [0, 1, 2] [0, 1, 2]\n"
     ]
    }
   ],
   "source": [
    "# None == 0\n",
    "\n",
    "c = [0,1,2,3,4,5]\n",
    "\n",
    "print(c[0:3],c[None:3],c[:3])"
   ]
  },
  {
   "cell_type": "code",
   "execution_count": 45,
   "id": "formal-brick",
   "metadata": {},
   "outputs": [
    {
     "name": "stdout",
     "output_type": "stream",
     "text": [
      "[3] [4] []\n"
     ]
    }
   ],
   "source": [
    "# -통해 거꾸로 slicing\n",
    "\n",
    "d = [0,1,2,3,4]\n",
    "\n",
    "print(d[-2:-1],d[-1:],d[4:-3])"
   ]
  },
  {
   "cell_type": "markdown",
   "id": "documented-collect",
   "metadata": {},
   "source": [
    "    - d[4:-3]처럼 앞 index가 뒤 index보다 더 뒷 index를 접근하게되면 아무것도 담기지 않게 된다."
   ]
  },
  {
   "cell_type": "code",
   "execution_count": 47,
   "id": "global-train",
   "metadata": {},
   "outputs": [
    {
     "name": "stdout",
     "output_type": "stream",
     "text": [
      "[0, 2] [0, 2]\n",
      "[0, 3]\n"
     ]
    }
   ],
   "source": [
    "# Step Size\n",
    "\n",
    "e = [0,1,2,3,4]\n",
    "\n",
    "s = slice(0,4,2)\n",
    "\n",
    "print(e[0:4:2],e[s])\n",
    "\n",
    "# Step size가 딱 떨어지지않아도 가능.\n",
    "print(e[0:4:3])"
   ]
  },
  {
   "cell_type": "code",
   "execution_count": 48,
   "id": "statistical-demand",
   "metadata": {},
   "outputs": [
    {
     "data": {
      "text/plain": [
       "[0, 1, 2, 3, 4]"
      ]
     },
     "execution_count": 48,
     "metadata": {},
     "output_type": "execute_result"
    }
   ],
   "source": [
    "# index 범위를 벗어나도 slicing 가능\n",
    "\n",
    "f = [0,1,2,3,4]\n",
    "\n",
    "f[:2020]"
   ]
  },
  {
   "cell_type": "markdown",
   "id": "understanding-excellence",
   "metadata": {},
   "source": [
    "#### Python의 경지\n",
    "\n",
    "- python을 잘 쓰게된다면 이해되는 글귀들 모음"
   ]
  },
  {
   "cell_type": "code",
   "execution_count": 1,
   "id": "continuous-press",
   "metadata": {},
   "outputs": [
    {
     "name": "stdout",
     "output_type": "stream",
     "text": [
      "The Zen of Python, by Tim Peters\n",
      "\n",
      "Beautiful is better than ugly.\n",
      "Explicit is better than implicit.\n",
      "Simple is better than complex.\n",
      "Complex is better than complicated.\n",
      "Flat is better than nested.\n",
      "Sparse is better than dense.\n",
      "Readability counts.\n",
      "Special cases aren't special enough to break the rules.\n",
      "Although practicality beats purity.\n",
      "Errors should never pass silently.\n",
      "Unless explicitly silenced.\n",
      "In the face of ambiguity, refuse the temptation to guess.\n",
      "There should be one-- and preferably only one --obvious way to do it.\n",
      "Although that way may not be obvious at first unless you're Dutch.\n",
      "Now is better than never.\n",
      "Although never is often better than *right* now.\n",
      "If the implementation is hard to explain, it's a bad idea.\n",
      "If the implementation is easy to explain, it may be a good idea.\n",
      "Namespaces are one honking great idea -- let's do more of those!\n"
     ]
    }
   ],
   "source": [
    "import this"
   ]
  },
  {
   "cell_type": "markdown",
   "id": "expensive-stable",
   "metadata": {},
   "source": [
    "- \"Although that way may not be obvious at first unless you're Dutch.\"\n",
    "\n",
    "- 네델란드인이 아니라면 처음에는 명백하지 않을 것.\n",
    " \n",
    "- 해석 : python의 창시자인 귀도반 로섬은 네델란드인.\n",
    "\n",
    "- 즉, indexing은 정확해야하나 slicing은 영역을 대충잡아도 에러가 나지않게 구현해놓음."
   ]
  },
  {
   "cell_type": "markdown",
   "id": "antique-bidding",
   "metadata": {},
   "source": [
    "#### Iterable형 Data Type\n",
    "\n",
    "- Iterable은 \"순회가능한\"이란 의미로, 일반적인 언어의 용어로써 indexing이 가능한 Sequence 자료구조에 대해서 반복문을 통해서 하나씩 원소를 꺼내는 것을 뜻한다.\n",
    "- 일반적으로 function signature를 보면 Iterable형 객체를 인자로 넣으라고 명시되어있기 때문에 개념만 다룰 예정임. 자세한 Iterrator객체는 generator단원에서 다룰 것이다.\n"
   ]
  },
  {
   "cell_type": "code",
   "execution_count": 5,
   "id": "established-honduras",
   "metadata": {},
   "outputs": [
    {
     "name": "stdout",
     "output_type": "stream",
     "text": [
      "Help on built-in function sum in module builtins:\n",
      "\n",
      "sum(iterable, /, start=0)\n",
      "    Return the sum of a 'start' value (default: 0) plus an iterable of numbers\n",
      "    \n",
      "    When the iterable is empty, return the start value.\n",
      "    This function is intended specifically for use with numeric values and may\n",
      "    reject non-numeric types.\n",
      "\n"
     ]
    }
   ],
   "source": [
    "# Function signature확인\n",
    "# 순회가능한 (Iterable한) 객체를 넣어 하나하나씩 더한다는 의미.\n",
    "help(sum)"
   ]
  },
  {
   "cell_type": "markdown",
   "id": "fancy-needle",
   "metadata": {},
   "source": [
    "- 일반적인 선수지식으로 Collection.abc 추상 클래스를 상속받는 클래스는 필수적으로 구현해야할 추상메소드가 존재한다.\n",
    "- 물론, 각 자료구조(클래스)마다 실제 구현은 다 다르지만 추상 클래스의 특성상 이름은 똑같다.(오버라이딩)\n",
    "\n",
    "- Sequence클래스와 Collection클래스를 보자"
   ]
  },
  {
   "cell_type": "code",
   "execution_count": 12,
   "id": "ranking-preference",
   "metadata": {},
   "outputs": [
    {
     "name": "stdout",
     "output_type": "stream",
     "text": [
      "<class 'collections.abc.Sequence'>\n",
      "<class 'collections.abc.Collection'>\n",
      "frozenset({'__len__', '__getitem__'})\n",
      "frozenset({'__contains__', '__iter__', '__len__'})\n"
     ]
    }
   ],
   "source": [
    "from collections.abc import Sequence, Collection\n",
    "\n",
    "print(Sequence)\n",
    "print(Collection)\n",
    "print(Sequence.__abstractmethods__)\n",
    "print(Collection.__abstractmethods__)"
   ]
  },
  {
   "cell_type": "markdown",
   "id": "southeast-pipeline",
   "metadata": {},
   "source": [
    "- 즉, Sequence클래스를 상속 받으려면 len과 indexing을 위한 메소드를 구현해야한다.\n",
    "- Collection클래스를 상속 받으려면 앞선 메소드를 구현해야한다.\n",
    "\n",
    "- 여기서 issubclass 메소드가 중요해지는데, 우리는 개념만 익히기 위함이기 때문에 list만 보기로 한다."
   ]
  },
  {
   "cell_type": "code",
   "execution_count": 17,
   "id": "swedish-helmet",
   "metadata": {},
   "outputs": [
    {
     "data": {
      "text/plain": [
       "True"
      ]
     },
     "execution_count": 17,
     "metadata": {},
     "output_type": "execute_result"
    }
   ],
   "source": [
    "issubclass(list,Collection)"
   ]
  },
  {
   "cell_type": "code",
   "execution_count": 38,
   "id": "negative-piano",
   "metadata": {},
   "outputs": [
    {
     "name": "stdout",
     "output_type": "stream",
     "text": [
      "list은 Iterable을 상속받나요 ?  True\n"
     ]
    },
    {
     "data": {
      "text/plain": [
       "True"
      ]
     },
     "execution_count": 38,
     "metadata": {},
     "output_type": "execute_result"
    }
   ],
   "source": [
    "from collections.abc import Iterable\n",
    "\n",
    "print(list.__name__+\"은 \"+Iterable.__name__+\"을 상속받나요 ? \",issubclass(list,Iterable))\n",
    "'__iter__' in dir(list)"
   ]
  },
  {
   "cell_type": "markdown",
   "id": "polyphonic-analysis",
   "metadata": {},
   "source": [
    "- 즉, \\_\\_iter__이 존재한다 -> 그 자료구조는 iterable(순회가능)하다.\n",
    "\n",
    "- 또한, 가장 큰 특징으로는 \"순회가능\"하다는 뜻은 \"반복문\"에서 하나씩 indexing하여 꺼내 올 수 있는지를 뜻하기 때문에 for반복문의 **in**뒤에 올 수 있어야 한다.(중요)"
   ]
  },
  {
   "cell_type": "markdown",
   "id": "intense-boost",
   "metadata": {},
   "source": [
    "**그렇다면 왜? 우리는 iterable의 개념을 배우는가?**\n",
    "\n",
    "   - **Lazy evaluation을 통한 메모리 안정성**이 가장 큰 이유이다."
   ]
  },
  {
   "cell_type": "markdown",
   "id": "bearing-cooler",
   "metadata": {},
   "source": [
    "- 사실, 결과만을 이용하려면 comprehension기법을 사용하는 것이 더 코드상 간단하고 좋다. 하지만, iterable인 generator를 사용하는 이유는 바로 big data를 메모리 상에 올릴 때 문제가 생기기 때문이다.\n",
    "\n",
    "- Iterable객체는 메모리상에 lazy loading되기 때문에 메모리 제약을 덜 받는다.\n",
    "    - eager loading : 일반 배열객체를 생성할 당시에 모두 메모리에 적재시킨다.\n",
    "    - lazy loading : iterable객체를 지정한 객체와 그 규칙은 모두 담고 있지만, 생성당시 메모리에 할당하지 않고 꺼낼 때 메모리에 적재한다."
   ]
  },
  {
   "cell_type": "code",
   "execution_count": null,
   "id": "analyzed-masters",
   "metadata": {},
   "outputs": [],
   "source": [
    "# 오래걸려서 실행은 안했지만 위는 메모리상에서 다 담을 수 없어 오류가 뜨고,\n",
    "# 밑은 실행가능하다.\n",
    "big_list = [i for i in range(1, 100000000000000000000+1)]\n",
    "big_gen = (i for i in range(1, 10000000000000000000000000000+1))"
   ]
  },
  {
   "cell_type": "markdown",
   "id": "ambient-begin",
   "metadata": {},
   "source": [
    "- 이 다음 내용은 Comprehension과 Generator단원에서 더 자세하게 다루겠다."
   ]
  }
 ],
 "metadata": {
  "kernelspec": {
   "display_name": "Python 3",
   "language": "python",
   "name": "python3"
  },
  "language_info": {
   "codemirror_mode": {
    "name": "ipython",
    "version": 3
   },
   "file_extension": ".py",
   "mimetype": "text/x-python",
   "name": "python",
   "nbconvert_exporter": "python",
   "pygments_lexer": "ipython3",
   "version": "3.9.1"
  }
 },
 "nbformat": 4,
 "nbformat_minor": 5
}
