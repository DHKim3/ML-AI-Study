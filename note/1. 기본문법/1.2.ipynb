{
 "cells": [
  {
   "cell_type": "markdown",
   "id": "outdoor-commons",
   "metadata": {},
   "source": [
    "# 1.2 식별자/name"
   ]
  },
  {
   "cell_type": "markdown",
   "id": "floppy-penetration",
   "metadata": {},
   "source": [
    "---\n",
    "\n",
    "## 정의\n",
    "* [파이썬 언어레퍼런스 참고](https://docs.python.org/ko/3/reference/lexical_analysis.html#identifiers)"
   ]
  },
  {
   "cell_type": "markdown",
   "id": "healthy-nebraska",
   "metadata": {},
   "source": [
    "### 1.2.1 식별자(Identifier)\n",
    "\n",
    "- 일반적인 프로그래밍에서는 변수라 불리지만 python에서는 할당 연산자(`=`) 기준으로 왼쪽은 identifier/name(식별자)라고 한다.\n",
    "- 다양한 자료형 할당 가능\n",
    "- keyword는 이름으로 사용할 수 없음(방법이 존재)\n",
    "- 즉, 식별자에는 다양한 자료형을 할당 가능하고, 그 할당된 것에 \"이름을 부여한다\"라고해서 name이라고도 한다.\n",
    "\n",
    "###### 참고사항\n",
    "- 파이썬은 플랫폼에 independant하기 때문에, 유니코드를 지원하지 않는 플랫폼에서는 한글변수는 사용하지 않는 것이 좋다.\n",
    "- 즉, 한글변수는 사용할 수 있지만, 권장하지 않음.\n",
    "- 앞서 설명한 locals(),globals()들은 이 식별자 혹은 name들을 출력."
   ]
  },
  {
   "cell_type": "code",
   "execution_count": 2,
   "id": "intelligent-joseph",
   "metadata": {},
   "outputs": [],
   "source": [
    "a =1 # 식별자 a에 1을 할당하라"
   ]
  },
  {
   "cell_type": "code",
   "execution_count": 3,
   "id": "backed-sodium",
   "metadata": {},
   "outputs": [
    {
     "name": "stdout",
     "output_type": "stream",
     "text": [
      "Variable   Type    Data/Info\n",
      "----------------------------\n",
      "a          int     1\n"
     ]
    }
   ],
   "source": [
    "%whos"
   ]
  },
  {
   "cell_type": "code",
   "execution_count": 4,
   "id": "prospective-samba",
   "metadata": {},
   "outputs": [
    {
     "ename": "NameError",
     "evalue": "name 'b' is not defined",
     "output_type": "error",
     "traceback": [
      "\u001b[0;31m---------------------------------------------------------------------------\u001b[0m",
      "\u001b[0;31mNameError\u001b[0m                                 Traceback (most recent call last)",
      "\u001b[0;32m<ipython-input-4-89e6c98d9288>\u001b[0m in \u001b[0;36m<module>\u001b[0;34m\u001b[0m\n\u001b[0;32m----> 1\u001b[0;31m \u001b[0mb\u001b[0m\u001b[0;34m\u001b[0m\u001b[0;34m\u001b[0m\u001b[0m\n\u001b[0m",
      "\u001b[0;31mNameError\u001b[0m: name 'b' is not defined"
     ]
    }
   ],
   "source": [
    "b\n",
    "# NameError : 식별자가 존재 하지 않을 때 나는 Error."
   ]
  },
  {
   "cell_type": "markdown",
   "id": "postal-sixth",
   "metadata": {},
   "source": [
    "### 1.2.2 Keyword\n",
    "\n",
    "- *Keywords* 또는 예약어(Reserved word)라고 불리면서 python에서 해당 단어들은 미리 어떠한 역할을 부여 했기때문에 일반적인 식별자로 쓸 수 없음."
   ]
  },
  {
   "cell_type": "code",
   "execution_count": 5,
   "id": "modular-substance",
   "metadata": {},
   "outputs": [],
   "source": [
    "import keyword"
   ]
  },
  {
   "cell_type": "code",
   "execution_count": 6,
   "id": "dynamic-aircraft",
   "metadata": {
    "scrolled": true
   },
   "outputs": [
    {
     "data": {
      "text/plain": [
       "['__all__',\n",
       " '__builtins__',\n",
       " '__cached__',\n",
       " '__doc__',\n",
       " '__file__',\n",
       " '__loader__',\n",
       " '__name__',\n",
       " '__package__',\n",
       " '__spec__',\n",
       " 'iskeyword',\n",
       " 'issoftkeyword',\n",
       " 'kwlist',\n",
       " 'softkwlist']"
      ]
     },
     "execution_count": 6,
     "metadata": {},
     "output_type": "execute_result"
    }
   ],
   "source": [
    "# module -> dir : 해당 모듈의 Attribute list출력.\n",
    "dir(keyword)"
   ]
  },
  {
   "cell_type": "markdown",
   "id": "athletic-myrtle",
   "metadata": {},
   "source": [
    "<br><br>\n",
    "\n",
    "- 다음 keyword는 식별자로 쓸 수 없다.\n",
    "- 총 35개.\n",
    "<br>\n",
    "(참고)<br>\n",
    "\n",
    "```python\n",
    "len(keyword.kwlist) == 35\n",
    "```"
   ]
  },
  {
   "cell_type": "code",
   "execution_count": 9,
   "id": "variable-multiple",
   "metadata": {},
   "outputs": [
    {
     "data": {
      "text/plain": [
       "['False',\n",
       " 'None',\n",
       " 'True',\n",
       " '__peg_parser__',\n",
       " 'and',\n",
       " 'as',\n",
       " 'assert',\n",
       " 'async',\n",
       " 'await',\n",
       " 'break',\n",
       " 'class',\n",
       " 'continue',\n",
       " 'def',\n",
       " 'del',\n",
       " 'elif',\n",
       " 'else',\n",
       " 'except',\n",
       " 'finally',\n",
       " 'for',\n",
       " 'from',\n",
       " 'global',\n",
       " 'if',\n",
       " 'import',\n",
       " 'in',\n",
       " 'is',\n",
       " 'lambda',\n",
       " 'nonlocal',\n",
       " 'not',\n",
       " 'or',\n",
       " 'pass',\n",
       " 'raise',\n",
       " 'return',\n",
       " 'try',\n",
       " 'while',\n",
       " 'with',\n",
       " 'yield']"
      ]
     },
     "execution_count": 9,
     "metadata": {},
     "output_type": "execute_result"
    }
   ],
   "source": [
    "keyword.kwlist"
   ]
  },
  {
   "cell_type": "code",
   "execution_count": 14,
   "id": "white-gardening",
   "metadata": {},
   "outputs": [
    {
     "ename": "SyntaxError",
     "evalue": "invalid syntax (<ipython-input-14-4a31d9bf3a80>, line 2)",
     "output_type": "error",
     "traceback": [
      "\u001b[0;36m  File \u001b[0;32m\"<ipython-input-14-4a31d9bf3a80>\"\u001b[0;36m, line \u001b[0;32m2\u001b[0m\n\u001b[0;31m    if = \"asdf\"\u001b[0m\n\u001b[0m       ^\u001b[0m\n\u001b[0;31mSyntaxError\u001b[0m\u001b[0;31m:\u001b[0m invalid syntax\n"
     ]
    }
   ],
   "source": [
    "# keyword에 할당하려하면, SyntaxError\n",
    "if = \"asdf\""
   ]
  },
  {
   "cell_type": "markdown",
   "id": "female-swing",
   "metadata": {},
   "source": [
    "## 1.2.3 Naming\n",
    "---\n",
    "### PEP\n",
    "\n",
    "- PEP(Python Enhancement Proposal) \n",
    "    - 자비로운 종신 독재자 귀도 반 로섬(Python 창시자) : 프로젝트내에서 논쟁거리가 있을 때 최종적으로 결론지을 수 있는 개발리더에게 부여되는 칭호.\n",
    "    - 귀도 반 로섬이 최종적으로 결정하는 Python 개선 제안서<br>\n",
    "    \n",
    "    - Standard\n",
    "        > Standard(표준) : 위에서 결정한 내용이기때문에, 따르지 않으면 Error 발생<br>\n",
    "        > de facto(사실상 표준), recommandation(권장사항) : 다양한 사람들이 많이 사용해서 표준이 됨<br>\n",
    "        > Web Standard : 권장사항을 표준처럼.\n",
    "        \n",
    "    <br>\n",
    "    - 제안(proposal)의 종류 :\n",
    "        1. Standard Track : 새로운 기능이나 구현을 제안\n",
    "        2. Informational : (구현을 포함하지 않으면서) 파이썬의 디자인 이슈나 일반적인 지침, 혹은 커뮤니티에의 정보를 제안\n",
    "        3. Process : 파이썬 개발 과정의 개선을 제안\n",
    "        \n",
    "    - 따라서, PEP 8는 Python의 *coding convention* 으로, 언어적인 coding style에 대한 guideline을 제시해주고 있음.\n",
    "<br><br>\n",
    "\n",
    "- [PEP8](https://www.python.org/dev/peps/pep-0008/) : 파이썬 창시자인 귀도의 목적 중 하나가 \"파이썬은 읽는 것이 더 쉬워야 한다\"임. 그래서 협업에서 \"일관성(Consistency)\"있게 코딩하기 위해서 제안한 recommandation"
   ]
  },
  {
   "cell_type": "markdown",
   "id": "alone-trust",
   "metadata": {},
   "source": [
    "###  PEP8\n",
    "* PEP 내용 중, Naming부분만 다룰 예정\n",
    "\n",
    "    ####  *Naming 방식*\n",
    "\n",
    "    1. Snake 방식\n",
    "        - hello_word\n",
    "        - function, module\n",
    "\n",
    "    2. Camel 방식(Capsword / Pascal)\n",
    "        - helloWord / HelloWorld\n",
    "        - Class / Exception(Error message)\n",
    "\n",
    "    3. All CAPS / ALL BIG \n",
    "        - HELLOWORD\n",
    "        - Constant(상수)\n",
    "\n",
    "    4. All small\n",
    "        - helloword\n",
    "        - module/function\n",
    "        - 일반 variable\n",
    "    5. \\_(밑줄)\n",
    "        - \\_* (밑줄 1개) : 내부 scope에서 사용하기위한 밑줄 (protected의 개념)\n",
    "        - \\_\\_* (밑줄 2개) : class 내부에서 내부 속성을 encapsulation하기 위함이 목적(private의 개념), \\_class명\\_\\_속성명으로 바뀌어서 저장됨\n",
    "        - *\\_*\\_* : 파이썬 기본 keyword와 충돌을 피할려고 사용.\n",
    "<br><br><br>\n",
    "\n",
    "* 주의사항\n",
    "    - 소문자 L, 대문자 O , 대문자 I 는 변수명으로 사용하지 않기를 권장( 어떤 폰트에서는 깨질 수 있음 )\n",
    "    - 파이썬은 상수라는 개념이 존재하지 않기 때문에, 모두 대문자로 naming하여 상수처럼 쓰기를 권장\n",
    "    - instance method의 첫 번째 인자는 무조건 \"self\"\n",
    "    - class method의 첫 번째 인자는 무조건 \"cls\"\n",
    "    \n",
    "\n",
    "**예외(권장사항을 지키지 않아도 되는 경우)**\n",
    "\n",
    "- PEP8에 따라서 코드를 읽는 사람임에도 불구하고, 가이드라인을 적용하는 것이 코드의 가독성을 해칠 경우\n",
    "- 과거에 PEP8을 준수하지 않고 일관성있게 짠 코드일 경우 (과거 코딩 스타일 존중)\n",
    "- 코드작성시기가 PEP8보다 앞선 과거의 시점이며, 수정이 필요하지않은 경우.\n",
    "- 과거 버전으로 작선된 코드와 호환될 필요가 있는 경우"
   ]
  },
  {
   "cell_type": "code",
   "execution_count": 56,
   "id": "careful-smith",
   "metadata": {},
   "outputs": [],
   "source": [
    "# 중요한 점 : 파라미터로 self, cls로 명시하고 인자로 자동으로 해당 instance혹은 class가 내부적으로 대입.\n",
    "class A():\n",
    "    def asdf2(self):\n",
    "        return \"this is instnace method\"\n",
    "    \n",
    "    @classmethod\n",
    "    def asdf3(cls):\n",
    "        return \"this is class method\""
   ]
  },
  {
   "cell_type": "code",
   "execution_count": 57,
   "id": "noted-fiber",
   "metadata": {},
   "outputs": [
    {
     "ename": "TypeError",
     "evalue": "asdf2() missing 1 required positional argument: 'self'",
     "output_type": "error",
     "traceback": [
      "\u001b[0;31m---------------------------------------------------------------------------\u001b[0m",
      "\u001b[0;31mTypeError\u001b[0m                                 Traceback (most recent call last)",
      "\u001b[0;32m<ipython-input-57-5e85758aed8f>\u001b[0m in \u001b[0;36m<module>\u001b[0;34m\u001b[0m\n\u001b[0;32m----> 1\u001b[0;31m \u001b[0mA\u001b[0m\u001b[0;34m.\u001b[0m\u001b[0masdf2\u001b[0m\u001b[0;34m(\u001b[0m\u001b[0;34m)\u001b[0m\u001b[0;34m\u001b[0m\u001b[0;34m\u001b[0m\u001b[0m\n\u001b[0m",
      "\u001b[0;31mTypeError\u001b[0m: asdf2() missing 1 required positional argument: 'self'"
     ]
    }
   ],
   "source": [
    "A.asdf2()"
   ]
  },
  {
   "cell_type": "code",
   "execution_count": 58,
   "id": "representative-lincoln",
   "metadata": {},
   "outputs": [
    {
     "data": {
      "text/plain": [
       "'this is instnace method'"
      ]
     },
     "execution_count": 58,
     "metadata": {},
     "output_type": "execute_result"
    }
   ],
   "source": [
    "a = A()\n",
    "a.asdf2()"
   ]
  },
  {
   "cell_type": "code",
   "execution_count": 59,
   "id": "prepared-civilian",
   "metadata": {},
   "outputs": [
    {
     "data": {
      "text/plain": [
       "'this is class method'"
      ]
     },
     "execution_count": 59,
     "metadata": {},
     "output_type": "execute_result"
    }
   ],
   "source": [
    "A.asdf3()"
   ]
  }
 ],
 "metadata": {
  "kernelspec": {
   "display_name": "Python 3",
   "language": "python",
   "name": "python3"
  },
  "language_info": {
   "codemirror_mode": {
    "name": "ipython",
    "version": 3
   },
   "file_extension": ".py",
   "mimetype": "text/x-python",
   "name": "python",
   "nbconvert_exporter": "python",
   "pygments_lexer": "ipython3",
   "version": "3.9.1"
  }
 },
 "nbformat": 4,
 "nbformat_minor": 5
}
