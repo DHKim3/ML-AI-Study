{
 "cells": [
  {
   "cell_type": "markdown",
   "id": "former-contributor",
   "metadata": {},
   "source": [
    "# 1.3 선언과 할당"
   ]
  },
  {
   "cell_type": "markdown",
   "id": "entire-scanning",
   "metadata": {},
   "source": [
    "## 1.3.1 선언과 정의\n",
    "\n",
    "#### 선언과 정의의 뜻\n",
    "\n",
    "- 선언(declaration) : 일반적인 프로그래밍 언어에서 컴파일러에 어떤 대상의 이름을 알려주는 행위\n",
    "- 정의(definition) : 일반적인 프로그래밍 언어에서 컴파일러에게 어떤 대상의 실제 내용을 알려주는 행위 => 메모리에 해당 변수이름에 대해 바인딩이됨.\n",
    "<br>\n",
    "\n",
    "#### Python에서의 선언과 정의\n",
    "\n",
    "- Python에서는 다음과 같은 선언과 정의가 *없다*\n",
    "```python\n",
    "int a \n",
    "```\n",
    "\n",
    "- [Class 선언](https://docs.python.org/ko/3/reference/compound_stmts.html#class-definitions) 존재\n",
    "- [Function 선언](https://docs.python.org/ko/3/reference/compound_stmts.html#function-definitions) 존재\n",
    "- 그 외의 선어는 **할당과 선언**이 동시에 이루어짐.\n",
    "<br>\n",
    "\n",
    "- 즉, Python에서는 Class와 함수만 선언을 한다.\n",
    "- C나 JAVA와 같이 선언과 할당이 나뉘어져 있지 않다."
   ]
  },
  {
   "cell_type": "markdown",
   "id": "developing-laugh",
   "metadata": {},
   "source": [
    "1. Class 정의(선언)\n",
    "\n",
    "```python\n",
    "class Foo():\n",
    "    pass\n",
    "```\n",
    "\n",
    "2. Function 정의(선언)\n",
    "```python\n",
    "def func(): pass\n",
    "```"
   ]
  },
  {
   "cell_type": "markdown",
   "id": "cloudy-transmission",
   "metadata": {},
   "source": [
    "3. 일반 선언 및 정의\n",
    "\n",
    "- Syntax Error발생"
   ]
  },
  {
   "cell_type": "code",
   "execution_count": 1,
   "id": "southern-language",
   "metadata": {},
   "outputs": [
    {
     "ename": "SyntaxError",
     "evalue": "invalid syntax (<ipython-input-1-060d44925657>, line 1)",
     "output_type": "error",
     "traceback": [
      "\u001b[0;36m  File \u001b[0;32m\"<ipython-input-1-060d44925657>\"\u001b[0;36m, line \u001b[0;32m1\u001b[0m\n\u001b[0;31m    int a\u001b[0m\n\u001b[0m        ^\u001b[0m\n\u001b[0;31mSyntaxError\u001b[0m\u001b[0;31m:\u001b[0m invalid syntax\n"
     ]
    }
   ],
   "source": [
    "int a\n",
    "a = 10"
   ]
  },
  {
   "cell_type": "code",
   "execution_count": 4,
   "id": "increased-maker",
   "metadata": {},
   "outputs": [
    {
     "ename": "SyntaxError",
     "evalue": "invalid syntax (<ipython-input-4-103560c4c395>, line 1)",
     "output_type": "error",
     "traceback": [
      "\u001b[0;36m  File \u001b[0;32m\"<ipython-input-4-103560c4c395>\"\u001b[0;36m, line \u001b[0;32m1\u001b[0m\n\u001b[0;31m    int b=10\u001b[0m\n\u001b[0m        ^\u001b[0m\n\u001b[0;31mSyntaxError\u001b[0m\u001b[0;31m:\u001b[0m invalid syntax\n"
     ]
    }
   ],
   "source": [
    "int b=10"
   ]
  },
  {
   "cell_type": "code",
   "execution_count": 1,
   "id": "covered-moment",
   "metadata": {},
   "outputs": [],
   "source": [
    "# 선언과 정의, 할당이 동시에\n",
    "# 선언과 정의 : a를 메모리에 쓴다고 알려줌\n",
    "# 할당 : a라는 이름의 변수에 값을 넣음.\n",
    "a = 1"
   ]
  },
  {
   "cell_type": "markdown",
   "id": "acquired-division",
   "metadata": {},
   "source": [
    "## 1.3.2 할당"
   ]
  },
  {
   "cell_type": "markdown",
   "id": "referenced-profession",
   "metadata": {},
   "source": [
    "#### Python의 할당의 6가지 종류\n",
    "\n",
    "1. 기본 할당문\n",
    "\n",
    "```python\n",
    "a = 2\n",
    "```\n",
    "\n",
    "2. Packing & Unpacking\n",
    "\n",
    "```python\n",
    "x = 1,2\n",
    "a,b = x\n",
    "```\n",
    "\n",
    "3. 복합 할당문\n",
    "\n",
    "```python\n",
    "a=b=c=3\n",
    "```\n",
    "\n",
    "4. Starred 할당문\n",
    "\n",
    "```python\n",
    "a,*b = 1,2,3,4\n",
    "```\n",
    "\n",
    "5. 증감 할당문\n",
    "```python\n",
    "a=1\n",
    "a+=1\n",
    "```\n",
    "\n",
    "6. Global, Nonlocal\n",
    "```python\n",
    "global a\n",
    "a=3\n",
    "nonlocal b\n",
    "b=3\n",
    "```"
   ]
  },
  {
   "cell_type": "markdown",
   "id": "acute-priority",
   "metadata": {},
   "source": [
    "### (2) Packing & Unpacking \n",
    "\n",
    "- Packing : tuple\n",
    "- Unpacking : SWAP\n",
    "- Dynamic Programming \n",
    "    - 내부적으로 동시에 SWAP하기 때문\n",
    "    - 코드 줄이기.\n",
    "    \n",
    "- ValueError : unpacking시 원소갯수와 식별작 갯수가 같아야함."
   ]
  },
  {
   "cell_type": "code",
   "execution_count": 52,
   "id": "dangerous-drove",
   "metadata": {},
   "outputs": [
    {
     "name": "stdout",
     "output_type": "stream",
     "text": [
      "(1, 2) (1,) (1, 3)\n"
     ]
    }
   ],
   "source": [
    "# Packing - Tuple을 만듦\n",
    "args = 1,2\n",
    "args3 = (1,3)\n",
    "\n",
    "# 고수들\n",
    "args2 = 1,\n",
    "print(args,args2,args3)"
   ]
  },
  {
   "cell_type": "code",
   "execution_count": 46,
   "id": "northern-ability",
   "metadata": {},
   "outputs": [
    {
     "data": {
      "text/plain": [
       "1"
      ]
     },
     "execution_count": 46,
     "metadata": {},
     "output_type": "execute_result"
    }
   ],
   "source": [
    "# Unpacking\n",
    "\n",
    "a,b = args\n",
    "\n",
    "a"
   ]
  },
  {
   "cell_type": "code",
   "execution_count": 47,
   "id": "naked-threat",
   "metadata": {},
   "outputs": [
    {
     "data": {
      "text/plain": [
       "(2, 1)"
      ]
     },
     "execution_count": 47,
     "metadata": {},
     "output_type": "execute_result"
    }
   ],
   "source": [
    "# SWAP(1)\n",
    "a,b = args\n",
    "a,b = b,a\n",
    "\n",
    "a,b\n"
   ]
  },
  {
   "cell_type": "code",
   "execution_count": 48,
   "id": "motivated-exhaust",
   "metadata": {},
   "outputs": [
    {
     "data": {
      "text/plain": [
       "(2, 3)"
      ]
     },
     "execution_count": 48,
     "metadata": {},
     "output_type": "execute_result"
    }
   ],
   "source": [
    "# SWAP(1)\n",
    "a,b = args\n",
    "\n",
    "a,b = b,a+b\n",
    "\n",
    "a,b"
   ]
  },
  {
   "cell_type": "code",
   "execution_count": 36,
   "id": "removable-recipe",
   "metadata": {},
   "outputs": [
    {
     "ename": "ValueError",
     "evalue": "too many values to unpack (expected 2)",
     "output_type": "error",
     "traceback": [
      "\u001b[0;31m---------------------------------------------------------------------------\u001b[0m",
      "\u001b[0;31mValueError\u001b[0m                                Traceback (most recent call last)",
      "\u001b[0;32m<ipython-input-36-9895aefac031>\u001b[0m in \u001b[0;36m<module>\u001b[0;34m\u001b[0m\n\u001b[1;32m      1\u001b[0m \u001b[0;31m#Value Error\u001b[0m\u001b[0;34m\u001b[0m\u001b[0;34m\u001b[0m\u001b[0;34m\u001b[0m\u001b[0m\n\u001b[1;32m      2\u001b[0m \u001b[0;34m\u001b[0m\u001b[0m\n\u001b[0;32m----> 3\u001b[0;31m \u001b[0ma\u001b[0m\u001b[0;34m,\u001b[0m\u001b[0mb\u001b[0m \u001b[0;34m=\u001b[0m \u001b[0;36m1\u001b[0m\u001b[0;34m,\u001b[0m\u001b[0;36m2\u001b[0m\u001b[0;34m,\u001b[0m\u001b[0;36m3\u001b[0m\u001b[0;34m\u001b[0m\u001b[0;34m\u001b[0m\u001b[0m\n\u001b[0m",
      "\u001b[0;31mValueError\u001b[0m: too many values to unpack (expected 2)"
     ]
    }
   ],
   "source": [
    "#Value Error\n",
    "\n",
    "a,b = 1,2,3"
   ]
  },
  {
   "cell_type": "markdown",
   "id": "waiting-hello",
   "metadata": {},
   "source": [
    "### (3) 복합할당문\n",
    "\n",
    "- mutable&immutable 개념에서 중요<br>\n",
    "\n",
    "<할당의 관점>\n",
    "- immutable : 다른 것 변경 x\n",
    "- mutable : 다른 것 변경 o"
   ]
  },
  {
   "cell_type": "code",
   "execution_count": 14,
   "id": "distant-binding",
   "metadata": {},
   "outputs": [
    {
     "name": "stdout",
     "output_type": "stream",
     "text": [
      "a:b:c : 3 3 3\n",
      "a:b:c : 4 3 3\n",
      "4462778768 4462778736 4462778736\n"
     ]
    }
   ],
   "source": [
    "#immutable - homogeneous(int)\n",
    "a=b=c=3 \n",
    "d=3\n",
    "# 같은 값은 같은 메모리를 가리키게 해놓았다.\n",
    "print(\"a:b:c :\",a,b,c)\n",
    "\n",
    "a=4\n",
    "\n",
    "print(\"a:b:c :\",a,b,c)\n",
    "\n",
    "print(id(a),id(b),id(d))"
   ]
  },
  {
   "cell_type": "code",
   "execution_count": 15,
   "id": "placed-birthday",
   "metadata": {},
   "outputs": [
    {
     "name": "stdout",
     "output_type": "stream",
     "text": [
      "(1, 2) (1, 2) (1, 2)\n",
      "(1, 2, 1) (1, 2) (1, 2)\n",
      "4497043008 4496073408 4496073408\n"
     ]
    }
   ],
   "source": [
    "#immutable - tuple\n",
    "\n",
    "a=b=c=1,2\n",
    "\n",
    "print(a,b,c)\n",
    "\n",
    "a = a+ (1,)\n",
    "\n",
    "print(a,b,c)\n",
    "print(id(a),id(b),id(c))"
   ]
  },
  {
   "cell_type": "code",
   "execution_count": 16,
   "id": "occupied-special",
   "metadata": {},
   "outputs": [
    {
     "name": "stdout",
     "output_type": "stream",
     "text": [
      "[1, 2] [1, 2] [1, 2]\n",
      "[1, 2, 3] [1, 2, 3] [1, 2, 3]\n",
      "4496856128 4496856128 4496856128 4497519168\n"
     ]
    }
   ],
   "source": [
    "# mutable - list\n",
    "a=b=c=[1,2]\n",
    "d = [1,2]\n",
    "print(a,b,c)\n",
    "\n",
    "a.append(3)\n",
    "print(a,b,c)\n",
    "\n",
    "print(id(a),id(b),id(c),id(d))\n",
    "# mutable은 변화해도 되니까 메모리주소까지 같다."
   ]
  },
  {
   "cell_type": "markdown",
   "id": "qualified-convertible",
   "metadata": {},
   "source": [
    "### (4) Starred 할당문\n",
    "\n",
    "- \\* : 나머지 모두를 * 가붙은 식별자에 list형식으로 반환\n",
    "    - list형식인 이유 : mutable(가변)적이여서.\n",
    "- 하나의 문(statement)에서는 할당시에 * 1개만 사용\n",
    "- 단독으로 사용불가\n",
    "    - 할당연산자(=)기준 왼쪽 오른쪽 둘 다 unpacking 가능\n",
    "- unpacking ValueError의 해결방안"
   ]
  },
  {
   "cell_type": "code",
   "execution_count": 64,
   "id": "hybrid-dragon",
   "metadata": {},
   "outputs": [
    {
     "ename": "ValueError",
     "evalue": "too many values to unpack (expected 2)",
     "output_type": "error",
     "traceback": [
      "\u001b[0;31m---------------------------------------------------------------------------\u001b[0m",
      "\u001b[0;31mValueError\u001b[0m                                Traceback (most recent call last)",
      "\u001b[0;32m<ipython-input-64-bf18ec26c8bd>\u001b[0m in \u001b[0;36m<module>\u001b[0;34m\u001b[0m\n\u001b[0;32m----> 1\u001b[0;31m \u001b[0ma\u001b[0m\u001b[0;34m,\u001b[0m\u001b[0mb\u001b[0m \u001b[0;34m=\u001b[0m \u001b[0;36m1\u001b[0m\u001b[0;34m,\u001b[0m\u001b[0;36m2\u001b[0m\u001b[0;34m,\u001b[0m\u001b[0;36m3\u001b[0m\u001b[0;34m,\u001b[0m\u001b[0;36m4\u001b[0m\u001b[0;34m\u001b[0m\u001b[0;34m\u001b[0m\u001b[0m\n\u001b[0m",
      "\u001b[0;31mValueError\u001b[0m: too many values to unpack (expected 2)"
     ]
    }
   ],
   "source": [
    "a,b = 1,2,3,4"
   ]
  },
  {
   "cell_type": "code",
   "execution_count": 65,
   "id": "quiet-hobby",
   "metadata": {},
   "outputs": [
    {
     "name": "stdout",
     "output_type": "stream",
     "text": [
      "1 [2, 3, 4]\n"
     ]
    }
   ],
   "source": [
    "a,*b = 1,2,3,4\n",
    "print(a,b)"
   ]
  },
  {
   "cell_type": "code",
   "execution_count": 67,
   "id": "concrete-halifax",
   "metadata": {},
   "outputs": [
    {
     "name": "stdout",
     "output_type": "stream",
     "text": [
      "1 [2, 3, 4] 5\n"
     ]
    }
   ],
   "source": [
    "a,*b,c=1,2,3,4,5\n",
    "\n",
    "print(a,b,c)"
   ]
  },
  {
   "cell_type": "code",
   "execution_count": 75,
   "id": "alpha-africa",
   "metadata": {
    "scrolled": true
   },
   "outputs": [
    {
     "ename": "SyntaxError",
     "evalue": "starred assignment target must be in a list or tuple (<ipython-input-75-3974182acad6>, line 1)",
     "output_type": "error",
     "traceback": [
      "\u001b[0;36m  File \u001b[0;32m\"<ipython-input-75-3974182acad6>\"\u001b[0;36m, line \u001b[0;32m1\u001b[0m\n\u001b[0;31m    *a = 1,2,3,4\u001b[0m\n\u001b[0m    ^\u001b[0m\n\u001b[0;31mSyntaxError\u001b[0m\u001b[0;31m:\u001b[0m starred assignment target must be in a list or tuple\n"
     ]
    }
   ],
   "source": [
    "*a = 1,2,3,4\n",
    "\n",
    "# SyntaxError : 왼쪽 식별자에 할당할 때, 식별자부분이 tuple 형식 혹은 list형식이어야 한다."
   ]
  },
  {
   "cell_type": "code",
   "execution_count": 80,
   "id": "sophisticated-track",
   "metadata": {},
   "outputs": [
    {
     "name": "stdout",
     "output_type": "stream",
     "text": [
      "1 2 1 2 1 2\n"
     ]
    }
   ],
   "source": [
    "# 즉, 다음은 동일 a,b => tuple [e,f] => list\n",
    "# (c,d), [e,f] 모두 unpacking의 개념으로 생각.\n",
    "a,b = 1,2\n",
    "(c,d)=1,2\n",
    "[e,f]=1,2\n",
    "print(a,b,c,d,e,f)"
   ]
  },
  {
   "cell_type": "code",
   "execution_count": 81,
   "id": "fifteen-pressing",
   "metadata": {},
   "outputs": [
    {
     "ename": "SyntaxError",
     "evalue": "multiple starred expressions in assignment (<ipython-input-81-c4bcd818b5f0>, line 1)",
     "output_type": "error",
     "traceback": [
      "\u001b[0;36m  File \u001b[0;32m\"<ipython-input-81-c4bcd818b5f0>\"\u001b[0;36m, line \u001b[0;32m1\u001b[0m\n\u001b[0;31m    a,*b,*c,d = 1,2,3,4,5,6\u001b[0m\n\u001b[0m    ^\u001b[0m\n\u001b[0;31mSyntaxError\u001b[0m\u001b[0;31m:\u001b[0m multiple starred expressions in assignment\n"
     ]
    }
   ],
   "source": [
    "a,*b,*c,d = 1,2,3,4,5,6\n",
    "\n",
    "# SyntaxError : 가변적이기 때문에 몇 개가 각각 *b,*c에 할당되는지 모름."
   ]
  },
  {
   "cell_type": "markdown",
   "id": "unavailable-airline",
   "metadata": {},
   "source": [
    "### (5) 증감할당문\n",
    "\n",
    "- x++불가능\n",
    "- --x,++x : 부호연산자로 생각\n",
    "- 기존에 할당되어져 있는 식별자/이름만 가능"
   ]
  },
  {
   "cell_type": "code",
   "execution_count": 92,
   "id": "aboriginal-steps",
   "metadata": {},
   "outputs": [
    {
     "data": {
      "text/plain": [
       "2"
      ]
     },
     "execution_count": 92,
     "metadata": {},
     "output_type": "execute_result"
    }
   ],
   "source": [
    "a=3\n",
    "a+=1\n",
    "a-=2\n",
    "a"
   ]
  },
  {
   "cell_type": "code",
   "execution_count": 93,
   "id": "editorial-arbitration",
   "metadata": {},
   "outputs": [
    {
     "ename": "SyntaxError",
     "evalue": "invalid syntax (<ipython-input-93-22e3d6dc1353>, line 1)",
     "output_type": "error",
     "traceback": [
      "\u001b[0;36m  File \u001b[0;32m\"<ipython-input-93-22e3d6dc1353>\"\u001b[0;36m, line \u001b[0;32m1\u001b[0m\n\u001b[0;31m    a++\u001b[0m\n\u001b[0m       ^\u001b[0m\n\u001b[0;31mSyntaxError\u001b[0m\u001b[0;31m:\u001b[0m invalid syntax\n"
     ]
    }
   ],
   "source": [
    "a++"
   ]
  },
  {
   "cell_type": "code",
   "execution_count": 94,
   "id": "linear-charity",
   "metadata": {},
   "outputs": [
    {
     "data": {
      "text/plain": [
       "4"
      ]
     },
     "execution_count": 94,
     "metadata": {},
     "output_type": "execute_result"
    }
   ],
   "source": [
    "# +(+a) = a\n",
    "a =4\n",
    "++a"
   ]
  },
  {
   "cell_type": "code",
   "execution_count": 95,
   "id": "harmful-memphis",
   "metadata": {},
   "outputs": [
    {
     "data": {
      "text/plain": [
       "4"
      ]
     },
     "execution_count": 95,
     "metadata": {},
     "output_type": "execute_result"
    }
   ],
   "source": [
    "# -(-a) = a\n",
    "a = 4\n",
    "--a"
   ]
  },
  {
   "cell_type": "markdown",
   "id": "sensitive-addition",
   "metadata": {},
   "source": [
    "### (6) Global, nonlocal할당\n",
    "\n",
    "- 참고 : Call by value와 Call by reference의 개념\n",
    "- immutable 자료형에 영향을 주려고할 때.\n",
    "- Global : 어떤 지역에서 같은이름의 global변수에 영향을 주려고할 때.\n",
    "- Nonlocal : 어떤 함수의 지역에서 한 단계 바깥쪽 scope인 함수 영역에 있는 변수에 영향을 주려고 할 때\n",
    "    - nonlocal를 통해서 global영역 참조 **불가능**"
   ]
  },
  {
   "cell_type": "code",
   "execution_count": 104,
   "id": "wrapped-flight",
   "metadata": {},
   "outputs": [
    {
     "name": "stdout",
     "output_type": "stream",
     "text": [
      "3 5 (1, 2, 3, 4)\n"
     ]
    }
   ],
   "source": [
    "a = 3\n",
    "b = 4\n",
    "c = (1,2,3)\n",
    "def x():\n",
    "    global b\n",
    "    global c\n",
    "    a=4\n",
    "    b = 5\n",
    "    c = c +(4,)\n",
    "x()\n",
    "\n",
    "print(a,b,c)"
   ]
  },
  {
   "cell_type": "code",
   "execution_count": 106,
   "id": "seeing-springer",
   "metadata": {},
   "outputs": [
    {
     "data": {
      "text/plain": [
       "5"
      ]
     },
     "execution_count": 106,
     "metadata": {},
     "output_type": "execute_result"
    }
   ],
   "source": [
    "x = 3\n",
    "def x1():\n",
    "    x = 4\n",
    "    def x2():\n",
    "        global x\n",
    "        x=5\n",
    "        def x3():\n",
    "            x=6\n",
    "        x3()\n",
    "    x2()\n",
    "x1()\n",
    "\n",
    "x"
   ]
  },
  {
   "cell_type": "code",
   "execution_count": 113,
   "id": "meaningful-caribbean",
   "metadata": {},
   "outputs": [
    {
     "name": "stdout",
     "output_type": "stream",
     "text": [
      "1000\n",
      "4\n"
     ]
    }
   ],
   "source": [
    "x = 4\n",
    "def x1():\n",
    "    x =6\n",
    "    def x2():\n",
    "        nonlocal x\n",
    "        x =1000\n",
    "    x2()\n",
    "    print(x)\n",
    "x1()\n",
    "\n",
    "print(x)"
   ]
  },
  {
   "cell_type": "code",
   "execution_count": 114,
   "id": "modern-copper",
   "metadata": {},
   "outputs": [
    {
     "ename": "SyntaxError",
     "evalue": "no binding for nonlocal 'x' found (<ipython-input-114-bebebe74a548>, line 4)",
     "output_type": "error",
     "traceback": [
      "\u001b[0;36m  File \u001b[0;32m\"<ipython-input-114-bebebe74a548>\"\u001b[0;36m, line \u001b[0;32m4\u001b[0m\n\u001b[0;31m    nonlocal x\u001b[0m\n\u001b[0m    ^\u001b[0m\n\u001b[0;31mSyntaxError\u001b[0m\u001b[0;31m:\u001b[0m no binding for nonlocal 'x' found\n"
     ]
    }
   ],
   "source": [
    "# nonlocal ==> global처럼 쓰기 불가\n",
    "# Syntax Error\n",
    "x = 4\n",
    "def x1():\n",
    "    nonlocal x\n",
    "    x= 6\n",
    "\n",
    "x1()\n",
    "print(x)"
   ]
  },
  {
   "cell_type": "code",
   "execution_count": 115,
   "id": "serial-trace",
   "metadata": {},
   "outputs": [
    {
     "ename": "SyntaxError",
     "evalue": "no binding for nonlocal 'x' found (<ipython-input-115-3ba4c6c462ca>, line 6)",
     "output_type": "error",
     "traceback": [
      "\u001b[0;36m  File \u001b[0;32m\"<ipython-input-115-3ba4c6c462ca>\"\u001b[0;36m, line \u001b[0;32m6\u001b[0m\n\u001b[0;31m    nonlocal x\u001b[0m\n\u001b[0m    ^\u001b[0m\n\u001b[0;31mSyntaxError\u001b[0m\u001b[0;31m:\u001b[0m no binding for nonlocal 'x' found\n"
     ]
    }
   ],
   "source": [
    "x =100\n",
    "def x1():\n",
    "    global x\n",
    "    x= 200\n",
    "    def x2():\n",
    "        nonlocal x\n",
    "        x = 300\n",
    "    x2()\n",
    "    print(x)\n",
    "x1()\n",
    "print(x)"
   ]
  },
  {
   "cell_type": "code",
   "execution_count": 18,
   "id": "portuguese-guard",
   "metadata": {},
   "outputs": [
    {
     "name": "stdout",
     "output_type": "stream",
     "text": [
      "400\n",
      "200\n",
      "100\n"
     ]
    }
   ],
   "source": [
    "x =100\n",
    "def x1():\n",
    "    x=200\n",
    "    def x2():\n",
    "        x=300\n",
    "        def x3():\n",
    "            nonlocal x\n",
    "            x =400\n",
    "        \n",
    "        x3()\n",
    "        print(x)\n",
    "    x2()\n",
    "    print(x)\n",
    "x1()\n",
    "print(x)"
   ]
  },
  {
   "cell_type": "code",
   "execution_count": null,
   "id": "major-tribute",
   "metadata": {},
   "outputs": [],
   "source": []
  }
 ],
 "metadata": {
  "kernelspec": {
   "display_name": "Python 3",
   "language": "python",
   "name": "python3"
  },
  "language_info": {
   "codemirror_mode": {
    "name": "ipython",
    "version": 3
   },
   "file_extension": ".py",
   "mimetype": "text/x-python",
   "name": "python",
   "nbconvert_exporter": "python",
   "pygments_lexer": "ipython3",
   "version": "3.9.1"
  }
 },
 "nbformat": 4,
 "nbformat_minor": 5
}
