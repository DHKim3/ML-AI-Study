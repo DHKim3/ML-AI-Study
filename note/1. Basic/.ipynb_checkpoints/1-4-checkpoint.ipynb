{
 "cells": [
  {
   "cell_type": "markdown",
   "id": "brilliant-chase",
   "metadata": {},
   "source": [
    "# 1.4 값(Value)\n",
    "\n",
    "\n",
    "## 1.4.1 구문(Statement)\n",
    "\n",
    "###  정의\n",
    "\n",
    "- Statement는 프로그래밍 관점에서 실행가능한(excutable) 최소한의 단위를 뜻한다.\n",
    "- 즉, 코드에서 \"한 줄\"을 의미한다.\n",
    "- Compiler가 이해하고 실행할 수 있는 단위를 뜻한다.\n",
    "<br><br>\n",
    "\n",
    "- python에서는 여러가지 \"문(statement)\"가 있다(공식문서 참조.)\n",
    "- 여기서 알아야 할 것은, \"문\"을 만드는 명령어들은 모두 keyword에 포함되어 있다. 또한, 우리가 할당연산자(=)를 통해서 할당을 하는 것도 문의 한 종류인 대입문이다.\n",
    "- 내장함수 exec()를 통해서 문자열을 \"문\"으로 바꿔 \"실행\"시킬 수 있다.\n",
    "\n",
    "\n",
    "### 종류\n",
    "\n",
    "- [단순문(simple statment)](https://docs.python.org/ko/3/reference/simple_stmts.html#simple-statements) : 한 줄로 나타내어지는 \"문(statment)\", 13개가 있다.\n",
    "- [복합문(Compound statement)](https://docs.python.org/ko/3/reference/compound_stmts.html#compound-statements) : 여러 줄을 통해 단순문들을 포함하여 *들여쓰기를 통해 범위를 제한*하고 그 안의 단순문들을 제어하는 문\n",
    "    - if문, for문, try문, while문, with문, 선언문 등등"
   ]
  },
  {
   "cell_type": "code",
   "execution_count": 5,
   "id": "covered-assurance",
   "metadata": {},
   "outputs": [
    {
     "name": "stdout",
     "output_type": "stream",
     "text": [
      "1 2 3 4\n"
     ]
    }
   ],
   "source": [
    "# 변수 ex1~ex4에 for문을 돌리면서 1부터 10까지 집어넣기.\n",
    "for i in range(1,5):\n",
    "    exec( \"ex\"+str(i)+\"=\"+str(i))\n",
    "    \n",
    "print(ex1,ex2,ex3,ex4)"
   ]
  },
  {
   "cell_type": "markdown",
   "id": "fuzzy-seller",
   "metadata": {},
   "source": [
    "## 1.4.2 [표현식(expression)](https://docs.python.org/ko/3/reference/expressions.html#expressions)\n",
    "\n",
    "\n",
    "### 정의\n",
    "\n",
    "- 표현식(expression) : 어떠한 연산을 통해서 \"하나의 값\"으로 \"표현\"될 수 있는 식.\n",
    "- 표현식 문(expression) : 표현식으로 이루어진 python에서의 simple statement\n",
    "- 내장함수인 eval()를 통해 문자열로된 \"식\"을 하나의 값으로 축약 가능.\n",
    "\n",
    "### 요약\n",
    "- 즉, 하나의 값으로 축약된다는 말은 return값이 존재한다는 뜻. \n",
    "- jupyter notebook에서 cell은 함수와 비슷 In :으로 문을 넣고 Out :을 통해 return값이 있으면 \"하나로 축약된 식\"을 print함.\n",
    "- 할당문의 관점에서 하나의 값으로 표현된 것은 할당 가능. 즉, 함수의 return값도 식이니까 할당가능.\n",
    "\n",
    "#### 표현식 vs 구문\n",
    "\n",
    "- 표현식 $\\subset$ 구문"
   ]
  },
  {
   "cell_type": "code",
   "execution_count": 10,
   "id": "actual-secretariat",
   "metadata": {},
   "outputs": [
    {
     "data": {
      "text/plain": [
       "3"
      ]
     },
     "execution_count": 10,
     "metadata": {},
     "output_type": "execute_result"
    }
   ],
   "source": [
    "# 예제1\n",
    "3"
   ]
  },
  {
   "cell_type": "code",
   "execution_count": 6,
   "id": "secondary-seminar",
   "metadata": {},
   "outputs": [
    {
     "data": {
      "text/plain": [
       "7"
      ]
     },
     "execution_count": 6,
     "metadata": {},
     "output_type": "execute_result"
    }
   ],
   "source": [
    "# 예제2\n",
    "3 + 4"
   ]
  },
  {
   "cell_type": "code",
   "execution_count": 7,
   "id": "employed-toyota",
   "metadata": {},
   "outputs": [
    {
     "data": {
      "text/plain": [
       "7"
      ]
     },
     "execution_count": 7,
     "metadata": {},
     "output_type": "execute_result"
    }
   ],
   "source": [
    "# 예제3\n",
    "eval(\"3+4\")"
   ]
  },
  {
   "cell_type": "markdown",
   "id": "pretty-electronics",
   "metadata": {},
   "source": [
    "## 1.4.3 값(Value)\n",
    "\n",
    "### [Literal](https://docs.python.org/ko/3/reference/lexical_analysis.html#literals)\n",
    "\n",
    "- 특수한 기호를 통해서 data type을 결정.\n",
    "- 큰따옴표 혹은 작은 따옴표는 문자열, 숫자로만 이루어진 값은 int형 등등 각각의 data type을 표현을 기호를 통해 결정\n",
    "\n",
    "\n",
    "### instance화\n",
    "\n",
    "- 객체지향 언어인경우.\n",
    "\n",
    "```python\n",
    "float('123.123')\n",
    "```"
   ]
  },
  {
   "cell_type": "code",
   "execution_count": null,
   "id": "modern-teach",
   "metadata": {},
   "outputs": [],
   "source": []
  }
 ],
 "metadata": {
  "kernelspec": {
   "display_name": "Python 3",
   "language": "python",
   "name": "python3"
  },
  "language_info": {
   "codemirror_mode": {
    "name": "ipython",
    "version": 3
   },
   "file_extension": ".py",
   "mimetype": "text/x-python",
   "name": "python",
   "nbconvert_exporter": "python",
   "pygments_lexer": "ipython3",
   "version": "3.9.1"
  }
 },
 "nbformat": 4,
 "nbformat_minor": 5
}
