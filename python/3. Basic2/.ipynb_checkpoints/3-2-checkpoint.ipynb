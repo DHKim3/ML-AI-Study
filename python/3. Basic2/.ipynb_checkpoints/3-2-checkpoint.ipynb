{
 "cells": [
  {
   "cell_type": "markdown",
   "id": "designing-pakistan",
   "metadata": {},
   "source": [
    "# 3-2. 제어문( 표현식-연산(논리,비교,비트) , if문 )\n",
    "\n",
    "---"
   ]
  },
  {
   "cell_type": "markdown",
   "id": "grateful-material",
   "metadata": {},
   "source": [
    "## 3-2-1. 표현식 - 연산\n",
    "   \n",
    "   \n",
    "- 논리연산( and, or, not )\n",
    "\n",
    "    - python의 논리연산에서는 항상 객체를 존재론적 관점에서 **True or False**로 ***취급***한다.\n",
    "        \n",
    "        - 존재론적 관점 : 어떠한 객체가 \"비어있다 == False\"와 \"채워져있다 == True\"로 계산\n",
    "        \n",
    "            - False : ' ', [ ] , { }, ( ), None(object자체가 없는상태), 인자없는경우 를 False로 **취급**한다. (취급이지 같은 것이 아니다.)         \n",
    "            \n",
    "        - **output을 결정한(연산을 확정짓는)** 값이 return값이 된다.<br><br>\n",
    "            \n",
    "    - **short circuit** : 논리연산 and와 or에서 **값이 결정되면 연산을 종료**하는 기법이다.(속도의 효율성)\n",
    "        \n",
    "        - and : 앞 False => return False \n",
    "        \n",
    "        - or : 앞 True => return True\n",
    "    \n",
    "        - ex : ZeroDivisionError<br><br>\n",
    "        \n",
    "- 비교연산( <=, >=, == , !=, > , <, is, is not )<br><br>\n",
    "\n",
    "    - 항상 True or False로 반환\n",
    "    \n",
    "    - == : 값비교 , is : 객체 reference(id값) 비교.\n",
    "\n",
    "    - is not은 논리연산 not이 아니다.(is의 뒤에 붙여서 씀)\n",
    "    \n",
    "    - 연산자 오버로딩\n",
    "    \n",
    "\n",
    "- 비트연산( &, |, ^) , shift연산( >> , <<)\n",
    "\n",
    "\n",
    "- 연산의 방향 : 왼쪽 ==> 오른쪽\n",
    "\n",
    "\n",
    "- [**연산자 우선순위**](https://docs.python.org/ko/3.9/reference/expressions.html#operator-precedence)\n",
    "    \n",
    "    - 논리 < 비교 < 비트\n",
    "    \n",
    "    - 가장 우선순위가 높은 괄호( ( ) )를 통해 명확히 하자.\n",
    "    - 예시\n",
    "    ```python\n",
    "     10 > 7 & 20 >=20 #답은?\n",
    "    ```\n",
    "     - 이유\n",
    "        1. 7 & 20 == 4 \n",
    "        2. 10 > 4 >= 20 \n",
    "        3. 10>4 ==  True\n",
    "        4. 4>=20 == False\n",
    "        5. False\n",
    "        \n",
    "c.f. 멤버쉽 검사 연산자 **in** : return값이 True or False"
   ]
  },
  {
   "cell_type": "code",
   "execution_count": 29,
   "id": "capital-layout",
   "metadata": {},
   "outputs": [
    {
     "name": "stdout",
     "output_type": "stream",
     "text": [
      "False\n",
      "False\n",
      "False\n",
      "False\n",
      "5\n",
      "0\n",
      "[]\n"
     ]
    }
   ],
   "source": [
    "# 논리연산\n",
    "# False : 존재론적 관점에서 없는 것.\n",
    "\n",
    "print('' or False)\n",
    "print([] or False)\n",
    "print(() or False)\n",
    "print(None or False)\n",
    "\n",
    "# 객체가 다르기때문에 다른 값과 다른 class이다. == >하지만 False취급\n",
    "type(False), type([]),type(None)\n",
    "\n",
    "\n",
    "# output이 결정된 값을 반환\n",
    "\n",
    "print(4 and 5)\n",
    "print(0 and 3)\n",
    "print([] and \"333\")\n"
   ]
  },
  {
   "cell_type": "code",
   "execution_count": 35,
   "id": "similar-pressure",
   "metadata": {
    "scrolled": true
   },
   "outputs": [
    {
     "name": "stdout",
     "output_type": "stream",
     "text": [
      "0\n",
      "{}\n",
      "3\n",
      "20\n"
     ]
    }
   ],
   "source": [
    "# short circuit - 뒤를 볼 필요 없는 경우.\n",
    "\n",
    "# and\n",
    "print(0 and 3)\n",
    "print({} and [])\n",
    "\n",
    "# or\n",
    "print(3 or 323242)\n",
    "print(20 or 32232323)"
   ]
  },
  {
   "cell_type": "code",
   "execution_count": 50,
   "id": "physical-harvey",
   "metadata": {},
   "outputs": [
    {
     "ename": "ZeroDivisionError",
     "evalue": "division by zero",
     "output_type": "error",
     "traceback": [
      "\u001b[0;31m---------------------------------------------------------------------------\u001b[0m",
      "\u001b[0;31mZeroDivisionError\u001b[0m                         Traceback (most recent call last)",
      "\u001b[0;32m<ipython-input-50-28a653f01dba>\u001b[0m in \u001b[0;36m<module>\u001b[0;34m\u001b[0m\n\u001b[1;32m      2\u001b[0m \u001b[0;31m# 0으로 나눌때 생기는 오류\u001b[0m\u001b[0;34m\u001b[0m\u001b[0;34m\u001b[0m\u001b[0;34m\u001b[0m\u001b[0m\n\u001b[1;32m      3\u001b[0m \u001b[0;34m\u001b[0m\u001b[0m\n\u001b[0;32m----> 4\u001b[0;31m \u001b[0;36m1\u001b[0m\u001b[0;34m/\u001b[0m\u001b[0;36m0\u001b[0m \u001b[0;32mor\u001b[0m \u001b[0;36m3\u001b[0m\u001b[0;34m\u001b[0m\u001b[0;34m\u001b[0m\u001b[0m\n\u001b[0m",
      "\u001b[0;31mZeroDivisionError\u001b[0m: division by zero"
     ]
    }
   ],
   "source": [
    "# short circuit 대표적 예시 : 1/0 => ZeroDivisionError \n",
    "# 0으로 나눌때 생기는 오류\n",
    "\n",
    "1/0 or 3"
   ]
  },
  {
   "cell_type": "code",
   "execution_count": 49,
   "id": "tamil-belle",
   "metadata": {},
   "outputs": [
    {
     "data": {
      "text/plain": [
       "3"
      ]
     },
     "execution_count": 49,
     "metadata": {},
     "output_type": "execute_result"
    }
   ],
   "source": [
    "# 오류 안남.\n",
    "3 or 1/0"
   ]
  },
  {
   "cell_type": "code",
   "execution_count": 43,
   "id": "editorial-sailing",
   "metadata": {},
   "outputs": [
    {
     "data": {
      "text/plain": [
       "True"
      ]
     },
     "execution_count": 43,
     "metadata": {},
     "output_type": "execute_result"
    }
   ],
   "source": [
    "# 비교연산자 오버로딩\n",
    "a=10; b=20\n",
    "\n",
    "\n",
    "(a<b and b>a) == (a.__lt__(b).__and__(b.__gt__(a)))"
   ]
  },
  {
   "cell_type": "code",
   "execution_count": 44,
   "id": "minute-flower",
   "metadata": {},
   "outputs": [
    {
     "name": "stdout",
     "output_type": "stream",
     "text": [
      "False\n",
      "True\n"
     ]
    }
   ],
   "source": [
    "# 연산자우선순위\n",
    "print(10 > 7 & 20 >=20)\n",
    "print( (10>7) & (20>=20))"
   ]
  },
  {
   "cell_type": "markdown",
   "id": "gothic-syria",
   "metadata": {},
   "source": [
    "## 3-2-2. if문\n",
    "\n",
    "\n",
    "- 키워드 if와 elif의 조건부 부분에 들어갈 수 있는 것.\n",
    "    \n",
    "    - 조건식의 결과가 True or False이거나 존재론적 관점에서 \"비어있다\" 혹은 \"채워져있다\"로 판별할 수 있는 모든 것.\n",
    "    \n",
    "    \n",
    "- keyword if 혹은 elif 뒤의 식이 \"참\"이면 내부로 진입. \"거짓\"이라면 다음 조건문 혹은 else문 실행.<br><br>\n",
    "- 조건에는 정수 비교연산의 연속사용이 가능 하다. \n",
    "    - 왼쪽에서 한번, 오른쪽에서 한 번 한뒤 and 연산.\n",
    "    - ex) 시험성적에 따른 if문.\n",
    "    \n",
    "    \n",
    "- recommandation : python에서는 else보다 조건이 명확하게 있는 elif사용을 권한다.\n",
    "\n",
    "\n",
    "- 삼항연사자(Ternary operators) 처리\n",
    "\n",
    "    - 삼항연산자 : if의 조건문이 참일경우는 문의 앞에 거짓일 경우는 else의 뒤에씀.<br><br>\n",
    "        \n",
    "        - 장점 : 간결함, code refactoring관점에서 좋음\n",
    "            - code refactoring : 동작과 결과의 변경 없이 확장성, 가독성을 위해 코드의 구조를 재조정함.\n",
    "            \n",
    "        - 단점 : 특정 조건이나 조건의 양이 많아지면 가독성이 떨어진다.<br><br>\n",
    "\n",
    "    - 구문 :\n",
    "        1. 기본\n",
    "            - A if 조건식 else B\n",
    "                - 조건식 : 참 => A\n",
    "                - 조건식 : 거짓 => B\n",
    "        \n",
    "        \n",
    "        2. 삼항연산자에서 여러조건(elif)을 구현 => 1을 반복.\n",
    "            - A if 조건식 else B if 조건식 else C\n",
    "            \n",
    "    - functional programming에서 자주 쓰는 기법."
   ]
  },
  {
   "cell_type": "code",
   "execution_count": 53,
   "id": "severe-broad",
   "metadata": {},
   "outputs": [
    {
     "name": "stdout",
     "output_type": "stream",
     "text": [
      "A\n",
      "A\n"
     ]
    }
   ],
   "source": [
    "# 비교연산의 연속사용. - 코드 사용에 이점\n",
    "\n",
    "c=95\n",
    "\n",
    "if 50< c <= 80 :\n",
    "    print(\"C\")\n",
    "elif 80 < c <=90:\n",
    "    print(\"B\")\n",
    "elif 90< c <= 100:\n",
    "    print(\"A\")\n",
    "    \n",
    "\n",
    "if 50< c and c <= 80:\n",
    "    print(\"C\")\n",
    "elif 80 < c and c <=90:\n",
    "    print(\"B\")\n",
    "elif 90< c and c <= 100:\n",
    "    print(\"A\")"
   ]
  },
  {
   "cell_type": "code",
   "execution_count": 62,
   "id": "noble-discovery",
   "metadata": {},
   "outputs": [
    {
     "data": {
      "text/plain": [
       "'C'"
      ]
     },
     "execution_count": 62,
     "metadata": {},
     "output_type": "execute_result"
    }
   ],
   "source": [
    "# 삼항연산자 - 괄호는 이해를 돕기 위해쓴 것.\n",
    "\n",
    "alpha = \"C\"\n",
    "\n",
    "\"B\" if alpha == \"B\" else (\n",
    "    \"C\" if alpha == \"C\" else \"A\"\n",
    ")\n",
    "\n",
    "\n",
    "# 연산 순서.\n",
    "# 1. alpha == \"B\"비교 , 참이면 \"C\", 거짓이면 다음 비교\n",
    "# 2. 다음 if alpha == \"C\"\n",
    "# 3. 참이면 \"C\", 거짓이면 \"A\""
   ]
  },
  {
   "cell_type": "markdown",
   "id": "accomplished-portland",
   "metadata": {},
   "source": [
    "### c.f. else의 용법 3가지.\n",
    "\n",
    "1. if ~ else 구문\n",
    "2. for,while ~ else 구문\n",
    "3. try catch else 구문"
   ]
  },
  {
   "cell_type": "markdown",
   "id": "harmful-section",
   "metadata": {},
   "source": [
    "## 3-2-3. switch-case \n",
    "\n",
    "- Python에서는 switch-case문이 존재하지 **않는다.**\n",
    "\n",
    "- 대안\n",
    "\n",
    "    1. 기본 if - elif - else<br><br>\n",
    "    \n",
    "    2. Dictionary와 keyword 'in'을 통한 구현 - 고수.<br><br>\n",
    "    3. default처리 -> dictionary의 get혹은 setdefault함수 사용."
   ]
  },
  {
   "cell_type": "code",
   "execution_count": 75,
   "id": "pleased-costume",
   "metadata": {},
   "outputs": [
    {
     "name": "stdout",
     "output_type": "stream",
     "text": [
      "10\n",
      "20\n"
     ]
    },
    {
     "data": {
      "text/plain": [
       "(None, None)"
      ]
     },
     "execution_count": 75,
     "metadata": {},
     "output_type": "execute_result"
    }
   ],
   "source": [
    "# 2. \n",
    "\n",
    "def func10():\n",
    "    print(10)\n",
    "    \n",
    "def func20():\n",
    "    print(20)\n",
    "    \n",
    "switch = {'10' : func10, '20': func20}\n",
    "\n",
    "# ()를 붙이는 것은 callable객체에 가능 -함수편참조.\n",
    "switch['10']() , switch['20']()\n",
    "\n",
    "\n",
    "# 질문. 왜 None이 출력될까 - 힌트 : in-place개념.?"
   ]
  },
  {
   "cell_type": "code",
   "execution_count": 76,
   "id": "foreign-service",
   "metadata": {},
   "outputs": [
    {
     "name": "stdout",
     "output_type": "stream",
     "text": [
      "10\n",
      "20\n",
      "20\n"
     ]
    }
   ],
   "source": [
    "# 3. dictionary에 정의되지 않은 '30'의 상황이라면?\n",
    "\n",
    "def func10():\n",
    "    print(10)\n",
    "    \n",
    "def func20():\n",
    "    print(20)\n",
    "    \n",
    "switch = {'10' : func10, '20': func20}\n",
    "\n",
    "switch.get('10')()\n",
    "switch.get('20')()\n",
    "\n",
    "#default설정\n",
    "switch.get('30',func20)()"
   ]
  }
 ],
 "metadata": {
  "kernelspec": {
   "display_name": "Python 3",
   "language": "python",
   "name": "python3"
  },
  "language_info": {
   "codemirror_mode": {
    "name": "ipython",
    "version": 3
   },
   "file_extension": ".py",
   "mimetype": "text/x-python",
   "name": "python",
   "nbconvert_exporter": "python",
   "pygments_lexer": "ipython3",
   "version": "3.9.1"
  }
 },
 "nbformat": 4,
 "nbformat_minor": 5
}
