{
 "cells": [
  {
   "cell_type": "markdown",
   "id": "appointed-sewing",
   "metadata": {},
   "source": [
    "# 3. Basic - 2"
   ]
  },
  {
   "cell_type": "markdown",
   "id": "labeled-louisville",
   "metadata": {},
   "source": [
    "- 우리는 앞선 Basic 1 파트에서 Statement의 개념을 배웠다.\n",
    "\n",
    "- 이번 장에서는 복합문(if,while,for,try문)에 대해서 배워보도록 하자.\n",
    "\n",
    "- 또한 단순문을 만드는 keyword중 어떤 keyword를 배웠는지 함수,클래스 파트를 들어가기 전 상기해보도록 하자."
   ]
  },
  {
   "cell_type": "markdown",
   "id": "lonely-reset",
   "metadata": {},
   "source": [
    "# 3-1. [Compound Statement(복합문) 개요](https://docs.python.org/ko/3/reference/compound_stmts.html#compound-statements)\n",
    "\n",
    "\n",
    "- Compound Statment(복합문) : 들여쓰기를 통하여 여러 줄로 이루어진 statement이다.\n",
    "    - 즉, 복합문은 단순문이 하나 또는 이상의 \"절\"로 이루어져 있으며, 복합문의 절은 **Header**과 **suite**로 구분 될 수 있다.\n",
    "        - Header(머리부) : 복합문임을 알리는 keyword를 통해 시작하여 콜론( : )로 끝난다.\n",
    "        - suite(몸체부) : 절(or header)에 의해 제어되는 문장 그룹으로 들여쓰기 혹은 세미콜론( ; )을 통해 구분되어짐.\n",
    "    - Indentation(tap) == space * 3\n",
    "    - IndentationError : 헤더에 대응되는 suite의 Indentation이 잘못되었을 때.\n",
    "    - Indentation을 통해 Dangling else(매달린 else)문제 해결\n",
    "        - Dangling else : 타 언어(C 등)에서 block을 {}지정해주는데, if - then - else문에서 { }를 쓰지않아 중첩 if문에서 else가 가장가까운 if를 가리키면서 우리가 원하는 if에 대응되는 else가 되지않아 생기는 문제.\n",
    "        - python은 들여쓰기를 통해서 해결\n",
    "        \n",
    "    - suite(몸체)가 짧은 경우 세미콜론( ; )를 통해서 한 줄에 작성 가능.\n",
    "    - 복합문의 suite에만 한정된 기법이 아니라 일반적인 코드에서도 작성 가능.\n",
    "    - 맨마지막은 안적어도됨, 구분을 위한 세미콜론( ; )임.\n",
    "        - 하지만, 기본적으로 ;을 써서 suite라는 것이 좋음.\n",
    "        \n",
    "- 복합문의 종류 : if, while, for, try, with, 함수 ,class, 코루틴(다루지 않을 예정)\n",
    "\n",
    "\n"
   ]
  },
  {
   "cell_type": "code",
   "execution_count": 5,
   "id": "posted-legend",
   "metadata": {},
   "outputs": [
    {
     "ename": "IndentationError",
     "evalue": "expected an indented block (<ipython-input-5-67f6a1356390>, line 3)",
     "output_type": "error",
     "traceback": [
      "\u001b[0;36m  File \u001b[0;32m\"<ipython-input-5-67f6a1356390>\"\u001b[0;36m, line \u001b[0;32m3\u001b[0m\n\u001b[0;31m    print(i)\u001b[0m\n\u001b[0m    ^\u001b[0m\n\u001b[0;31mIndentationError\u001b[0m\u001b[0;31m:\u001b[0m expected an indented block\n"
     ]
    }
   ],
   "source": [
    "# Header과 suite의 들여쓰기가 맞지않으면 오류가 난다. - IndentationError\n",
    "for i in range(10) :\n",
    "print(i)"
   ]
  },
  {
   "cell_type": "code",
   "execution_count": 6,
   "id": "necessary-national",
   "metadata": {},
   "outputs": [
    {
     "data": {
      "text/plain": [
       "(10, 20, 30)"
      ]
     },
     "execution_count": 6,
     "metadata": {},
     "output_type": "execute_result"
    }
   ],
   "source": [
    "# 세미콜론(;)을 이용하여 한 줄에 작성하기\n",
    "\n",
    "a = 10 ; b= 20 ; c= 30;\n",
    "a,b,c"
   ]
  },
  {
   "cell_type": "code",
   "execution_count": 8,
   "id": "cross-seminar",
   "metadata": {},
   "outputs": [
    {
     "name": "stdout",
     "output_type": "stream",
     "text": [
      "0\n",
      "Hello\n",
      "1\n",
      "Hello\n",
      "2\n",
      "Hello\n"
     ]
    }
   ],
   "source": [
    "# 복합문에 적용해보기\n",
    "\n",
    "for i in range(3) : print(i);print(\"Hello\");"
   ]
  },
  {
   "cell_type": "code",
   "execution_count": 15,
   "id": "informed-abraham",
   "metadata": {},
   "outputs": [
    {
     "name": "stdout",
     "output_type": "stream",
     "text": [
      "hi\n",
      "hi2\n",
      "hello\n"
     ]
    }
   ],
   "source": [
    "a,b = 3,4\n",
    "if a<b : print(\"hi\");\n",
    "\n",
    "#구분을 위한 ; 마지막에는 안써도됨.\n",
    "if a<b : print(\"hi2\"); print(\"hello\")"
   ]
  },
  {
   "cell_type": "markdown",
   "id": "employed-waste",
   "metadata": {},
   "source": [
    "#### Dangling else\n",
    "\n",
    "- 다음과 같은 코드를 실행했을 때, 2가 print되어야 하지만 아무것도 print되지 않는다.\n",
    "```c\n",
    "if (1==0)\n",
    "    if (1==1)\n",
    "        print(\"1\");\n",
    "else\n",
    "    print(\"2\");\n",
    "```\n",
    "- 이유 : The most closely nested declaration rule에 의해 else가 if(1==1) 대응 되기 때문.\n",
    "\n",
    "- 제대로 고치려면 다음과 같이 해야한다.\n",
    "```c\n",
    "if (1==0)\n",
    "{\n",
    "    if (1==1)\n",
    "        print(\"1\");\n",
    "}\n",
    "else\n",
    "    print(\"2\");\n",
    "```\n",
    "\n",
    "\n",
    "- Python에서는 이 문제를 해결하기 위해서 들여쓰기를 통해서 block을 지정해주고, most closely nested rule을 통해서 else를 if에 대응시킨다."
   ]
  },
  {
   "cell_type": "markdown",
   "id": "emotional-tucson",
   "metadata": {},
   "source": [
    "### c.f. Multi-Line Statements\n",
    "\n",
    "- 여러 줄을 통해 하나의 단순문을 만들고 싶을 때.\n",
    "    1. 숫자연산 - 역 슬래쉬( \\ )혹은 괄호( ( ) ) 를 사용\n",
    "    2. 배열형 자료형( tuple,dict,list,set) - literal의 끝으로 **닫을 때 까지** 한 문장으로 끝나지 않는 것으로 인식.  \n",
    "        - 줄바꿈을 할때는 관례적으로 쉼표( , )를 통해 바꾸는게 좀더 보기 좋음.\n",
    "    3. 문자열 - \"\"\" \"\"\" 를 통해 가능."
   ]
  },
  {
   "cell_type": "code",
   "execution_count": 29,
   "id": "upset-boating",
   "metadata": {},
   "outputs": [
    {
     "name": "stdout",
     "output_type": "stream",
     "text": [
      "600 600 <class 'int'> (600,) <class 'tuple'>\n"
     ]
    }
   ],
   "source": [
    "#1. 숫자연산 -> 역 슬래쉬(\\)을 통해 줄이 바뀐다는 것을 알림.\n",
    "\n",
    "a = 100 + \\\n",
    "    200 + \\\n",
    "    300\n",
    "\n",
    "b = ( 100 +200 + 300)# 튜플은 뒤에 쉼표(,)를 붙여주어야 한다.\n",
    "c = (100+200+300,)\n",
    "\n",
    "print(a, b,type(b),c,type(c))"
   ]
  },
  {
   "cell_type": "code",
   "execution_count": 30,
   "id": "printable-concept",
   "metadata": {},
   "outputs": [
    {
     "ename": "SyntaxError",
     "evalue": "invalid syntax (<ipython-input-30-518b79a21811>, line 2)",
     "output_type": "error",
     "traceback": [
      "\u001b[0;36m  File \u001b[0;32m\"<ipython-input-30-518b79a21811>\"\u001b[0;36m, line \u001b[0;32m2\u001b[0m\n\u001b[0;31m    a = 100 +\u001b[0m\n\u001b[0m             ^\u001b[0m\n\u001b[0;31mSyntaxError\u001b[0m\u001b[0;31m:\u001b[0m invalid syntax\n"
     ]
    }
   ],
   "source": [
    "# Syntax Error\n",
    "a = 100 +\n",
    "    200 +\n",
    "    300"
   ]
  },
  {
   "cell_type": "code",
   "execution_count": 31,
   "id": "built-filling",
   "metadata": {},
   "outputs": [
    {
     "data": {
      "text/plain": [
       "([1, 2, 4], {1, 2, 4}, {'one': 1, 'two': 2}, (1, 2, 3, 4))"
      ]
     },
     "execution_count": 31,
     "metadata": {},
     "output_type": "execute_result"
    }
   ],
   "source": [
    "# 2. 배열형 자료형\n",
    "\n",
    "l = [ 1,2,\n",
    "    4]\n",
    "se = {1,2,\n",
    "       4}\n",
    "di = {'one':1,\n",
    "     'two' : 2}\n",
    "\n",
    "t = (1,2,3\n",
    "    ,4)\n",
    "\n",
    "l,se,di,t"
   ]
  },
  {
   "cell_type": "code",
   "execution_count": 35,
   "id": "equivalent-sugar",
   "metadata": {},
   "outputs": [
    {
     "data": {
      "text/plain": [
       "'asdfasdf\\nasdfasdf\\nasdfasdf'"
      ]
     },
     "execution_count": 35,
     "metadata": {},
     "output_type": "execute_result"
    }
   ],
   "source": [
    "# 3. 문자열 - 줄바꿈을 하면 \\n이 들어감.\n",
    "\n",
    "s = \"\"\"asdfasdf\n",
    "asdfasdf\n",
    "asdfasdf\"\"\"\n",
    "\n",
    "s"
   ]
  }
 ],
 "metadata": {
  "kernelspec": {
   "display_name": "Python 3",
   "language": "python",
   "name": "python3"
  },
  "language_info": {
   "codemirror_mode": {
    "name": "ipython",
    "version": 3
   },
   "file_extension": ".py",
   "mimetype": "text/x-python",
   "name": "python",
   "nbconvert_exporter": "python",
   "pygments_lexer": "ipython3",
   "version": "3.9.1"
  }
 },
 "nbformat": 4,
 "nbformat_minor": 5
}
