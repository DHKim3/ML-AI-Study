{
 "cells": [
  {
   "cell_type": "markdown",
   "id": "great-company",
   "metadata": {},
   "source": [
    "# 2-5. Container 형 DataType(List, Tuple, Dict, Set) 살펴보기.\n",
    "\n",
    "- 앞서 분류를 통해 Container형 built-in class를 하나하나씩 살펴보자.\n",
    "- 이 내용은 [파이썬 표준 라이브러리 - 내장형](https://docs.python.org/ko/3/library/stdtypes.html#built-in-types) 문서에서 확인할 수 있다."
   ]
  },
  {
   "cell_type": "markdown",
   "id": "sustainable-virgin",
   "metadata": {},
   "source": [
    "## 2-5-1. 배열형 자료형 - [List](https://docs.python.org/ko/3/tutorial/datastructures.html#more-on-lists)\n",
    "\n",
    "- List는 heterogenous container type, sequence type, mutable, iterable한 자료형이다.\n",
    "\n",
    "- 내부 item으로는 object형 객체를 받을 수 있어, python의 모든 것은 object이기 때문에 모든 것을 item으로 넣을 수 있다.\n",
    "\n",
    "- 관련 메소드 :\n",
    "    1. 삭제 : pop, remove, clear\n",
    "        - pop() : 마지막 원소를 삭제, index를 통해서 특정 index의 원소를 삭제 할 수도 있음.\n",
    "        - remove() : 특정 원소를 삭제, 만약 여러개라면 제일 첫 번째 값을 삭제\n",
    "        - clear : 모든 원소 삭제 메소드.\n",
    "    2. 추가 : append ,insert\n",
    "        - append : index의 마지막에 인자로 넣은 원소를 추가.\n",
    "        - insert(idx,a) : list의 idx번째 index에 a를 넣는다-> 원래값은 한칸 뒤로 밀림.\n",
    "        \n",
    "    3. + , extend, *:\n",
    "        - a + b : list a,b에 대해서 a, blist내부 원소를 concatenate 한다.\n",
    "        - a.extend(b) : a뒤에 b를 concatenate한다. \n",
    "        - a * b : a가 list고 b가 숫자형일때 a를 b만큼 반복.\n",
    "        \n",
    "    4. 그 외 :\n",
    "        - sort : 오름차순으로 정렬(default)\n",
    "        - reverse : 거꾸로 뒤집기.\n",
    "        - ... 등등 이외에도 많다.\n",
    "        \n",
    "- 주의 :\n",
    "    1. indexing을 통한 할당으로는 새로운 원소를 추가할 수 없다.(재할당은 가능) - IndexError\n",
    "    2. mutable객체이기 때문에 return값 3가지 경우에 대해 주의 - 자기자신이 바뀔 수 있어 \"재할당의 관점\"이 아니라서 메모리주소 id()값이 같다.\n",
    "    "
   ]
  },
  {
   "cell_type": "code",
   "execution_count": 2,
   "id": "bright-healing",
   "metadata": {},
   "outputs": [
    {
     "ename": "IndexError",
     "evalue": "list assignment index out of range",
     "output_type": "error",
     "traceback": [
      "\u001b[0;31m---------------------------------------------------------------------------\u001b[0m",
      "\u001b[0;31mIndexError\u001b[0m                                Traceback (most recent call last)",
      "\u001b[0;32m<ipython-input-2-64383e613485>\u001b[0m in \u001b[0;36m<module>\u001b[0;34m\u001b[0m\n\u001b[1;32m      3\u001b[0m \u001b[0ma\u001b[0m  \u001b[0;34m=\u001b[0m \u001b[0;34m[\u001b[0m\u001b[0;36m1\u001b[0m\u001b[0;34m,\u001b[0m\u001b[0;36m2\u001b[0m\u001b[0;34m,\u001b[0m\u001b[0;36m3\u001b[0m\u001b[0;34m,\u001b[0m\u001b[0;36m4\u001b[0m\u001b[0;34m,\u001b[0m\u001b[0;36m5\u001b[0m\u001b[0;34m]\u001b[0m\u001b[0;34m\u001b[0m\u001b[0;34m\u001b[0m\u001b[0m\n\u001b[1;32m      4\u001b[0m \u001b[0;34m\u001b[0m\u001b[0m\n\u001b[0;32m----> 5\u001b[0;31m \u001b[0ma\u001b[0m\u001b[0;34m[\u001b[0m\u001b[0;36m6\u001b[0m\u001b[0;34m]\u001b[0m \u001b[0;34m=\u001b[0m \u001b[0;36m2\u001b[0m\u001b[0;34m\u001b[0m\u001b[0;34m\u001b[0m\u001b[0m\n\u001b[0m",
      "\u001b[0;31mIndexError\u001b[0m: list assignment index out of range"
     ]
    }
   ],
   "source": [
    "# 주의 1.\n",
    "\n",
    "a  = [1,2,3,4,5]\n",
    "\n",
    "a[6] = 2"
   ]
  },
  {
   "cell_type": "markdown",
   "id": "verbal-leadership",
   "metadata": {},
   "source": [
    "## 2-5-2. 배열형 자료형 - Tuple , Namedtuple\n",
    "\n",
    "- tuple : heterogenous container type, sequence type, iterable, **immutable**한 자료형이다.\n",
    "- namedtuple : index에 이름을 부여해 이름으로 원소를 접근 가능하게 한 튜플.\n",
    "    - 생성 : collections.namedtuple로 튜플을 만드는 클래스 작성\n",
    "    - 참조 : \"튜플이름\".\"index이름(원소이름)\"으로 접근.\n",
    "    - custom class : typing.NamedTuple상속을 통해 생성가능.\n",
    "    - pandas의 columns을 이러하게 조회가능."
   ]
  },
  {
   "cell_type": "code",
   "execution_count": 14,
   "id": "smaller-worcester",
   "metadata": {},
   "outputs": [
    {
     "name": "stdout",
     "output_type": "stream",
     "text": [
      "<class 'type'>\n",
      "1 2 3\n",
      "1 2 3\n"
     ]
    }
   ],
   "source": [
    "# namedtuple 생성\n",
    "import collections as cols\n",
    "\n",
    "# namedtuple을 만드는 \"클래스\" 생성.\n",
    "# NamedTuple => class\n",
    "NT = cols.namedtuple(\"NamedTuple\",\"x,y,z\")\n",
    "print(type(NT))\n",
    "\n",
    "\n",
    "#만든 class로 객체생성\n",
    "nt = NT(1,2,3)\n",
    "\n",
    "#접근\n",
    "print(nt.x,nt.y,nt.z)\n",
    "print(nt[0],nt[1],nt[2])"
   ]
  },
  {
   "cell_type": "code",
   "execution_count": 15,
   "id": "muslim-louis",
   "metadata": {},
   "outputs": [
    {
     "name": "stdout",
     "output_type": "stream",
     "text": [
      "1 2 3\n",
      "1 2 3\n"
     ]
    }
   ],
   "source": [
    "# custom class 생성.\n",
    "\n",
    "import typing\n",
    "\n",
    "class CusNamedTuple(typing.NamedTuple):\n",
    "    x : int\n",
    "    y : int\n",
    "    z : int\n",
    "        \n",
    "\n",
    "c = CusNamedTuple(1,2,3)\n",
    "\n",
    "print(c.x, c.y, c.z)\n",
    "print(c[0],c[1],c[2])"
   ]
  },
  {
   "cell_type": "code",
   "execution_count": 16,
   "id": "creative-tribe",
   "metadata": {},
   "outputs": [
    {
     "data": {
      "text/plain": [
       "True"
      ]
     },
     "execution_count": 16,
     "metadata": {},
     "output_type": "execute_result"
    }
   ],
   "source": [
    "# namedtuple또한 tuple\n",
    "isinstance(c,tuple)"
   ]
  },
  {
   "cell_type": "markdown",
   "id": "pleasant-shanghai",
   "metadata": {},
   "source": [
    "### c.f. Type Hint( 파이썬에서 변수에 특정 자료형을 type으로 지정하는 방식 제공)\n",
    "\n",
    "- : 를 통해서 datatype의 hint를 지정 가능.\n",
    "- \\_\\_annotations__를통해서 함수에서 보관한 type hint 볼 수 있다.\n",
    "- python 3부터 지원이 되었으며, 잘 안쓴다.\n",
    "- 함수에서 arrow function처럼 ->를 통해서 return에 대한 type hint 작성가능.\n",
    "\n",
    "- 주의 :\n",
    "    - 변수의 정의와 선언이 아니라 변수에 관한 \"주석\"을 추가하는 기능 - 할당을 해야된다.\n",
    "    - \"주석\"이기 때문에 다른 type의 변수를 할당해도된다. -> recommandation(권장)의 개념임.\n",
    "    - 함수 내부의 type hint는 볼 수 없다.\n",
    "    "
   ]
  },
  {
   "cell_type": "code",
   "execution_count": 18,
   "id": "bibliographic-birth",
   "metadata": {},
   "outputs": [
    {
     "ename": "NameError",
     "evalue": "name 'x' is not defined",
     "output_type": "error",
     "traceback": [
      "\u001b[0;31m---------------------------------------------------------------------------\u001b[0m",
      "\u001b[0;31mNameError\u001b[0m                                 Traceback (most recent call last)",
      "\u001b[0;32m<ipython-input-18-5249bf89cdb6>\u001b[0m in \u001b[0;36m<module>\u001b[0;34m\u001b[0m\n\u001b[1;32m      3\u001b[0m \u001b[0mx\u001b[0m \u001b[0;34m:\u001b[0m \u001b[0mint\u001b[0m\u001b[0;34m\u001b[0m\u001b[0;34m\u001b[0m\u001b[0m\n\u001b[1;32m      4\u001b[0m \u001b[0;34m\u001b[0m\u001b[0m\n\u001b[0;32m----> 5\u001b[0;31m \u001b[0mx\u001b[0m\u001b[0;34m\u001b[0m\u001b[0;34m\u001b[0m\u001b[0m\n\u001b[0m",
      "\u001b[0;31mNameError\u001b[0m: name 'x' is not defined"
     ]
    }
   ],
   "source": [
    "# Type hint는 정의가 아니다. 따라서 할당해야함\n",
    "\n",
    "x : int\n",
    "    \n",
    "x"
   ]
  },
  {
   "cell_type": "code",
   "execution_count": 19,
   "id": "conscious-monitoring",
   "metadata": {},
   "outputs": [
    {
     "data": {
      "text/plain": [
       "2"
      ]
     },
     "execution_count": 19,
     "metadata": {},
     "output_type": "execute_result"
    }
   ],
   "source": [
    "x : int\n",
    "x = 2\n",
    "x"
   ]
  },
  {
   "cell_type": "code",
   "execution_count": 20,
   "id": "rising-setting",
   "metadata": {},
   "outputs": [
    {
     "data": {
      "text/plain": [
       "'324'"
      ]
     },
     "execution_count": 20,
     "metadata": {},
     "output_type": "execute_result"
    }
   ],
   "source": [
    "x : int\n",
    "x = \"324\"\n",
    "x"
   ]
  },
  {
   "cell_type": "code",
   "execution_count": 28,
   "id": "mobile-prime",
   "metadata": {},
   "outputs": [
    {
     "data": {
      "text/plain": [
       "{'x': int, 'y': int, 'return': int}"
      ]
     },
     "execution_count": 28,
     "metadata": {},
     "output_type": "execute_result"
    }
   ],
   "source": [
    "# 내부의 type hint는 볼 수 없다.\n",
    "def add(x : int , y: int) -> int:\n",
    "    z : int\n",
    "    z = x +y\n",
    "    return z\n",
    "\n",
    "add.__annotations__# z 없음."
   ]
  },
  {
   "cell_type": "markdown",
   "id": "voluntary-windows",
   "metadata": {},
   "source": [
    "### 배열형 자료형 특징을 이용한 간단한 queue class만들기."
   ]
  },
  {
   "cell_type": "code",
   "execution_count": 32,
   "id": "average-steel",
   "metadata": {},
   "outputs": [
    {
     "name": "stdout",
     "output_type": "stream",
     "text": [
      "True\n",
      "[2]\n",
      "2\n",
      "[]\n"
     ]
    }
   ],
   "source": [
    "class Queue:\n",
    "    def __init__(self):\n",
    "        self._list = []\n",
    "    def empty(self):\n",
    "        return True if len(self._list) ==0 else False\n",
    "    def pop(self):\n",
    "        if len(self._list) ==0:\n",
    "            return 0\n",
    "        else :\n",
    "            return self._list.pop(-1)\n",
    "    def insert(self,value):\n",
    "        return self._list.insert(0,value)\n",
    "    def getQueue(self):\n",
    "        return self._list.copy()\n",
    "    \n",
    "q = Queue()\n",
    "print(q.empty())\n",
    "q.insert(2)\n",
    "print(q.getQueue())\n",
    "print(q.pop())\n",
    "print(q.getQueue())"
   ]
  },
  {
   "cell_type": "markdown",
   "id": "respective-carrier",
   "metadata": {},
   "source": [
    "## 2-5-3. { }를 사용하는 자료형 - Dictionary\n",
    "\n",
    "\n",
    "- key(키)와 value(값)으로 mapping되어있는 mapping형 객체이다.\n",
    "    - cols.abc.Mapping을 상속받아서 만듬\n",
    "    - key 값으로는 hashable(해시가능)한 객체를 사용한다.\n",
    "        - hashable이란 immutable한 객체가 서로 unique해서 \"비교\"를 할 수 있는 객체를 뜻한다.\n",
    "        - 즉, key는 중복이 없고 immutable객체를 사용한다. (tuple, str, 숫자형)\n",
    "        - 숫자형 같은 경우 ==(같다)라고 비교가 가능하기 때문에 key로 1과 1.0을 넣을 수 있지만, 컴퓨터는 부동소수점을 근삿값으로 계산하기 때문에 추천하지 않는 방법임.\n",
    "\n",
    "\n",
    "- Dictionary는 mutable, non-sequence, iterable, heterogeneous container type이다.\n",
    "    - 순서가 없기 때문에 indexing, slicing이 불가하다. -> key를 통해서 value를 참조한다.\n",
    "    - mutable이기 때문에, 항상 (key,value)쌍을 추가,삭제,변경할 수있다.\n",
    "    \n",
    "\n",
    "- Dictionary의 생성 \n",
    "    1. literal {}를 사용.\n",
    "    2. dict() instance화.\n",
    "    \n",
    "    \n",
    "- 추가 :\n",
    "    1. {key :value}형태의 dictionary 객체를 update메소드를 통해 추가.\n",
    "    2. d\\[key\\] = value형태로 추가.\n",
    "    \n",
    "    \n",
    "- 검색 :\n",
    "    1. dict\\[key\\]로 참조 -> key가 없으면 KeyError를 일으킴.\n",
    "    2. get 메소드 사용 - key가 있으면 해당 key의 value 반환, key가 없으면 None혹은 default설정했다면 default값 반환\n",
    "    3. setdefault 메소드 사용 - key가 있으면 해당 key의 value 반환, key가 없으면 None 혹은 default 값을 반환하면서 dict에 default값 추가.\n",
    "    \n",
    "    \n",
    "- 삭제 :\n",
    "    1. clear : dict의 모든 항목 제거\n",
    "    2. pop : 해당하는 key를 제거하고 value를 돌려줌.\n",
    "    3. popitem : LIFO로 (key,value)쌍을 돌려줌.\n",
    "    \n",
    "    \n",
    "- 그외 :\n",
    "    1. reversed : 역순으로 반환.\n",
    "    \n",
    "    \n",
    "- 주의 :\n",
    "    - dictionary객체 name 자체를 iterable객체를 필요로 하는 데 넣으면 key값을 기준으로 iterate한다.\n",
    "        - 따라서, dictionary view를 통해서 key,value,item을 각각 iterable하게 꺼낼 수 있다.\n",
    "    - key의 특성때문에 중복된 key를 추가한다면 내부적으로 하나를 삭제함.\n",
    "    - 순서가 없기 때문에 내부적으로 sorting해서 주지만 우리가 순서를 바꿀 수 는 없음.\n",
    "         - 좀 더 정확히는 LIFO를 따름.(3.7버전 이후부터)\n",
    "         - 그래서 나온 것이 OrderedDict class\n",
    "    - keys들의 특성 때문에, 합집합(|)연산이 가능함."
   ]
  },
  {
   "cell_type": "code",
   "execution_count": 34,
   "id": "grateful-currency",
   "metadata": {},
   "outputs": [
    {
     "data": {
      "text/plain": [
       "True"
      ]
     },
     "execution_count": 34,
     "metadata": {},
     "output_type": "execute_result"
    }
   ],
   "source": [
    "# Dictionary의 생성\n",
    "# 순서가 없다.\n",
    "\n",
    "a = dict(one=1, two=2, three=3)\n",
    "b = {'one': 1, 'two': 2, 'three': 3}\n",
    "d = dict([('two', 2), ('one', 1), ('three', 3)])\n",
    "e = dict({'three': 3, 'one': 1, 'two': 2})\n",
    "f = dict({'one': 1, 'three': 3}, two=2)\n",
    "a == b == c == d == e == f"
   ]
  },
  {
   "cell_type": "code",
   "execution_count": 43,
   "id": "earned-insertion",
   "metadata": {},
   "outputs": [
    {
     "name": "stdout",
     "output_type": "stream",
     "text": [
      "False\n",
      "True\n"
     ]
    }
   ],
   "source": [
    "# 주의1.\n",
    "dic = {'one': 1, 'two': 2, 'three': 3}\n",
    "\n",
    "print(1 in dic)\n",
    "print('one' in dic)"
   ]
  },
  {
   "cell_type": "code",
   "execution_count": 64,
   "id": "vital-litigation",
   "metadata": {},
   "outputs": [
    {
     "name": "stdout",
     "output_type": "stream",
     "text": [
      "{'one': 1, 'two': 2}\n"
     ]
    }
   ],
   "source": [
    "# 주의 4.\n",
    "dic1 = {'one':1}\n",
    "dic2 = {'two' :2 }\n",
    "print(dic1 | dic2)"
   ]
  },
  {
   "cell_type": "markdown",
   "id": "canadian-jewel",
   "metadata": {},
   "source": [
    "### Dictionary view object(뷰 객체)\n",
    "\n",
    "- dict.keys() : key값을 돌려줌\n",
    "- dict.values() : value값을 돌려줌\n",
    "- dict.items() : (key,value) 쌍을 가지는 tuple을 돌려줌.\n",
    "    - unpacking가능.\n",
    "    \n",
    "    \n",
    "- iterable하기 때문에 in뒤에 사용가능."
   ]
  },
  {
   "cell_type": "markdown",
   "id": "collaborative-protocol",
   "metadata": {},
   "source": [
    "### OrderedDict class\n",
    "\n",
    "- sequence한 Dictionary \n",
    "- Dictionary이기 때문에 Mapping형 객체이다.\n",
    "- collections module을 import\n",
    "\n",
    "- dictionary view를 통해서 iterable 객체로 사용가능.\n",
    "- update하는 순서대로 원소가 저장됨"
   ]
  },
  {
   "cell_type": "code",
   "execution_count": 68,
   "id": "political-straight",
   "metadata": {},
   "outputs": [
    {
     "name": "stdout",
     "output_type": "stream",
     "text": [
      "<class 'collections.OrderedDict'>\n"
     ]
    },
    {
     "data": {
      "text/plain": [
       "True"
      ]
     },
     "execution_count": 68,
     "metadata": {},
     "output_type": "execute_result"
    }
   ],
   "source": [
    "# ordereddict\n",
    "import collections as cols\n",
    "\n",
    "print(cols.OrderedDict)\n",
    "\n",
    "issubclass(cols.OrderedDict,cols.abc.Mapping)"
   ]
  },
  {
   "cell_type": "code",
   "execution_count": 79,
   "id": "organic-price",
   "metadata": {},
   "outputs": [
    {
     "name": "stdout",
     "output_type": "stream",
     "text": [
      "OrderedDict([('a', 1), ('b', 2), ('c', 3)])\n",
      "odict_items([('a', 1), ('b', 2), ('c', 3)])\n"
     ]
    }
   ],
   "source": [
    "# 생성\n",
    "dd = {'a' :1,'b':2,'c':3}\n",
    "od = cols.OrderedDict(dd)\n",
    "print(od)\n",
    "print(od.items())"
   ]
  },
  {
   "cell_type": "markdown",
   "id": "small-detection",
   "metadata": {},
   "source": [
    "### Counter Class\n",
    "\n",
    "- 같은 원소를 몇 개 가졌는지를 알 수 있는 Datatype\n",
    "- +, -연산 사용가능.\n",
    "- mapping 추상클래스를 상속."
   ]
  },
  {
   "cell_type": "code",
   "execution_count": 80,
   "id": "female-unemployment",
   "metadata": {},
   "outputs": [
    {
     "data": {
      "text/plain": [
       "True"
      ]
     },
     "execution_count": 80,
     "metadata": {},
     "output_type": "execute_result"
    }
   ],
   "source": [
    "import collections as cols\n",
    "\n",
    "issubclass(cols.Counter, cols.abc.Mapping)"
   ]
  },
  {
   "cell_type": "code",
   "execution_count": 82,
   "id": "practical-champagne",
   "metadata": {},
   "outputs": [
    {
     "name": "stdout",
     "output_type": "stream",
     "text": [
      "Counter({1: 3, 4: 3, 3: 2})\n",
      "3\n"
     ]
    }
   ],
   "source": [
    "l = [1,1,1,3,3,4,4,4]\n",
    "c = cols.Counter(l)\n",
    "print(c)\n",
    "\n",
    "# Mapping이기 때문에 key를 통해서 value값 찾기가능.\n",
    "print(c[1])"
   ]
  },
  {
   "cell_type": "code",
   "execution_count": 83,
   "id": "after-electric",
   "metadata": {},
   "outputs": [
    {
     "name": "stdout",
     "output_type": "stream",
     "text": [
      "Counter({1: 6, 4: 6, 3: 4})\n",
      "Counter()\n"
     ]
    }
   ],
   "source": [
    "# +,-지원\n",
    "d = c+c\n",
    "print(d)\n",
    "e = c-c\n",
    "print(e)"
   ]
  },
  {
   "cell_type": "markdown",
   "id": "invisible-object",
   "metadata": {},
   "source": [
    "## 2-5-4. { }를 사용하는 자료형 - Set과 Frozenset\n",
    "\n",
    "- Set : 집합\n",
    "    - 집합의 특성 : 중복이 없고, 순서가 없다. => 이 특성을 그대로 가져옴.\n",
    "    - 집합 연산을 위해 dictionary의 key를 모티브로 만들어졌다.\n",
    "    - 따라서 내부 원소들은 **hashable**하다.\n",
    "    \n",
    "    \n",
    "- set : mutable, non-sequence, iterable, heterogenous type\n",
    "- frozenset : **immutable**, non-sequence, iterable, heterogenous type\n",
    "\n",
    "\n",
    "- set 생성:\n",
    "    - literal :이 없는 {}\n",
    "    - set()를 통한 instance화\n",
    "    - 공집합 \n",
    "        - dictionary가 먼저 만들어졌기 때문에 빈 {}는 dictionary임. 따라서 공집합을 만들 때는 set()를 통해 만들어야됨.\n",
    "        \n",
    "- 연산 : 자세한건 공식문서의 set section확인.\n",
    "    - 일반적인 집합연산(합집합,교집합,차집합,부분집합,진부분집합,대칭차집합,두 집합의 교집합의 유무)을 모두 지원한다.\n",
    "        - 연산자를 사용 : |,&,-,>=,<=,^ 등을 쓸 수있다.\n",
    "        - 메소드를 사용 : union,intersection, ... 등등\n",
    "        - 공식문서에서는 연산자를 사용하는 연산보다 메소드를 사용하는 연산을 더 권장.\n",
    "            - 이유 : 메소드를 사용하면 iterable객체를 내부적으로 set으로 바꿔주면서 연산. 하지만 연산자를 사용하면 두 객체가 무조건 set 혹은 frozenset이어야 한다.\n",
    "    - set과 frozenset의 서로의 비교 및 연산이 가능하다.\n",
    "\n",
    "\n",
    "- 주의 :\n",
    "    - set은 mutable이기때문에 set자체가 set의 원소로 넣을 수 없다.(frozenset은 가능)\n",
    "    - 내부적인 순서가 존재하고 중복에 대한 처리도 내부적으로 이루어져서 순서에 대해서는 우리가 변경할 수 없음.\n",
    "    - frozenset은 immutable, set은 mutable. 따라서, set만 사용하는 내부를 변경시키는 method가 존재한다.( *\\_update )"
   ]
  },
  {
   "cell_type": "markdown",
   "id": "stuck-banks",
   "metadata": {},
   "source": [
    "### 간단한 Heap자료구조 처리하기."
   ]
  },
  {
   "cell_type": "code",
   "execution_count": 89,
   "id": "verified-antenna",
   "metadata": {},
   "outputs": [
    {
     "name": "stdout",
     "output_type": "stream",
     "text": [
      "True\n",
      "{'가을': 100}\n",
      "100\n",
      "{}\n"
     ]
    }
   ],
   "source": [
    "class Heap:\n",
    "    def __init__(self):\n",
    "        self._dict={}\n",
    "    def empty(self):\n",
    "        return True if len(self._dict) == 0 else False\n",
    "    \n",
    "    def pop(self,key):\n",
    "        if self._dict.get(key,0):\n",
    "            return self._dict.pop(key)\n",
    "        else :\n",
    "            return 0\n",
    "    def push(self,key,value):\n",
    "        return self._dict.setdefault(key,value)\n",
    "    def getHeap(self):\n",
    "        return self._dict.copy()\n",
    "    \n",
    "h = Heap()\n",
    "print(h.empty())\n",
    "h.push(\"가을\",100)\n",
    "print(h.getHeap())\n",
    "print(h.pop(\"가을\"))\n",
    "print(h.getHeap())\n"
   ]
  },
  {
   "cell_type": "markdown",
   "id": "academic-holmes",
   "metadata": {},
   "source": [
    "## 2-5-5. 범위(scope)를 처리하는 Class\n",
    "\n",
    "- slice와 range\n",
    "    - 모두 Class\n",
    "    - slice : slicing을 하기 위한 속성을 가짐.\n",
    "    - range : iterable객체의 특성을 가짐(\\_\\_len__,\\_\\_getitem__,**\\_\\_iter__**)"
   ]
  },
  {
   "cell_type": "code",
   "execution_count": 99,
   "id": "catholic-latest",
   "metadata": {},
   "outputs": [
    {
     "name": "stdout",
     "output_type": "stream",
     "text": [
      "{'stop', 'step', 'start', 'indices'}\n",
      "None\n",
      "0\n",
      "10\n"
     ]
    }
   ],
   "source": [
    "# slice 속성 알아보기\n",
    "s = slice(0,10)\n",
    "print(set(dir(s)) - set(dir(object)))\n",
    "\n",
    "print(s.step)\n",
    "print(s.start)\n",
    "print(s.stop)"
   ]
  },
  {
   "cell_type": "code",
   "execution_count": 100,
   "id": "precise-sierra",
   "metadata": {},
   "outputs": [
    {
     "name": "stdout",
     "output_type": "stream",
     "text": [
      "{'step', 'stop', 'count', 'index', '__len__', '__iter__', '__bool__', '__contains__', '__reversed__', '__getitem__', 'start'}\n"
     ]
    }
   ],
   "source": [
    "# range속성 알아보기\n",
    "r = range(10)\n",
    "print(set(dir(r)) - set(dir(object)))"
   ]
  }
 ],
 "metadata": {
  "kernelspec": {
   "display_name": "Python 3",
   "language": "python",
   "name": "python3"
  },
  "language_info": {
   "codemirror_mode": {
    "name": "ipython",
    "version": 3
   },
   "file_extension": ".py",
   "mimetype": "text/x-python",
   "name": "python",
   "nbconvert_exporter": "python",
   "pygments_lexer": "ipython3",
   "version": "3.9.1"
  }
 },
 "nbformat": 4,
 "nbformat_minor": 5
}
