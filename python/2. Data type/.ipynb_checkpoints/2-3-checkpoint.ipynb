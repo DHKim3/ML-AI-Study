{
 "cells": [
  {
   "cell_type": "markdown",
   "id": "antique-xerox",
   "metadata": {},
   "source": [
    "# 2-3. Built-in Data Type - 숫자형"
   ]
  },
  {
   "cell_type": "markdown",
   "id": "actual-truth",
   "metadata": {},
   "source": [
    "- Python에서의 Data Type은 만든 클래스를 통해서 정해진다고 하였다. 따라서 Data Type의 특성을 정해주는 필요한 추상 클래스와 추상 메소드의 구현을 한다면 Custom DataType을 만들 수 있다.\n",
    "\n",
    "- 우리가 알고있는 대부분의 Built-in Datatype은 Container Type(heterogenous)에 속해있다. 따라서 Container Type의 특성을 이해한다면 list, tuple, dict, set의 자세한 특성도 이해가 가능할 것이다. 따라서 다음 두 장에서는 heterogeneous container type에 속하지 않는 숫자형, 문자형 data type에 대해서 다뤄 볼 것이다.\n",
    "\n"
   ]
  },
  {
   "cell_type": "markdown",
   "id": "acute-carry",
   "metadata": {},
   "source": [
    "## 2-3-1. 숫자형\n",
    "\n",
    "- Python에서 숫자형 Data Type은 **int(정수), float(실수,부동소수), bool, complex**로 4가지로 구분된다.\n",
    "\n",
    "- 기본적으로 instance화를 통해서 값을 만들 수 있지만 대부분은 literal을 사용한다.(숫자 [literal](https://docs.python.org/ko/3/reference/lexical_analysis.html#numeric-literals))\n",
    "\n",
    "     - Python에서 숫자형에 대한 literal은 3가지 종류가 있으며 **정수, 실수, 허수**에 대한 3가지 literal이 존재한다. (복소수는 실수와 허수의 덧 셈으로 표기한다.)"
   ]
  },
  {
   "cell_type": "markdown",
   "id": "suffering-catalog",
   "metadata": {},
   "source": [
    "###  int(정수)형\n",
    "\n",
    "- int형은 4가지 형태로 분류된다.\n",
    "    - 10진수(decinteger), 2진수(bininteger), 8진수(octinteger), 16진수(hexinteger)\n",
    "- 근대적 프로그래밍에서는 Dynamic하게 메모리를 확장시켜서 overflow가 없고, 메모리의 끝까지 가게 되면 mac&linux는 python종료, window에서는 재부팅.\n",
    "    - 그래서 속도의 관점으로 봤을 때 느리다.\n",
    "    \n"
   ]
  },
  {
   "cell_type": "code",
   "execution_count": 2,
   "id": "annual-dating",
   "metadata": {},
   "outputs": [
    {
     "ename": "SyntaxError",
     "evalue": "invalid digit '4' in binary literal (<ipython-input-2-3d870d218499>, line 6)",
     "output_type": "error",
     "traceback": [
      "\u001b[0;36m  File \u001b[0;32m\"<ipython-input-2-3d870d218499>\"\u001b[0;36m, line \u001b[0;32m6\u001b[0m\n\u001b[0;31m    c = 0b4 #오류.\u001b[0m\n\u001b[0m         ^\u001b[0m\n\u001b[0;31mSyntaxError\u001b[0m\u001b[0;31m:\u001b[0m invalid digit '4' in binary literal\n"
     ]
    }
   ],
   "source": [
    "# 10진수\n",
    "a=10\n",
    "\n",
    "# 2진수(0b뒤에 (0,1)만 사용)\n",
    "b = 0b01\n",
    "c = 0b4 #오류.(SyntaxError)\n",
    "\n",
    "# 8진수\n",
    "d = 0o1\n",
    "\n",
    "# 16진수\n",
    "\n",
    "e = 0x1"
   ]
  },
  {
   "cell_type": "code",
   "execution_count": 4,
   "id": "empirical-anxiety",
   "metadata": {},
   "outputs": [
    {
     "name": "stdout",
     "output_type": "stream",
     "text": [
      "9223372036854775807\n"
     ]
    },
    {
     "data": {
      "text/plain": [
       "9223372036854776817"
      ]
     },
     "execution_count": 4,
     "metadata": {},
     "output_type": "execute_result"
    }
   ],
   "source": [
    "# python에서는 overflow가 존재 x\n",
    "import sys\n",
    "\n",
    "print(sys.maxsize)\n",
    "\n",
    "a = 9223372036854775807 + 1010\n",
    "\n",
    "a\n",
    "# 오류 안남."
   ]
  },
  {
   "cell_type": "code",
   "execution_count": 5,
   "id": "seasonal-seeking",
   "metadata": {},
   "outputs": [
    {
     "data": {
      "text/plain": [
       "1000000"
      ]
     },
     "execution_count": 5,
     "metadata": {},
     "output_type": "execute_result"
    }
   ],
   "source": [
    "# 표기 tip\n",
    "# 100만을 표시할때 끊어서 표기하는 방법\n",
    "\n",
    "# 1,000,000 -> 1_000_000\n",
    "1_000_000 "
   ]
  },
  {
   "cell_type": "markdown",
   "id": "swedish-enclosure",
   "metadata": {},
   "source": [
    "### float(실수,부동소수)형\n",
    "\n",
    "- 표기(literal)의 종류\n",
    "    - .을 통해서 소수점 표현(일반적표현)\n",
    "    - e를 통해서 큰 자릿수와 아주 작은 값 표현\n",
    "    - inf : infinity의 개념.\n",
    "        - platform마다 inf값이 다름.\n",
    "        - 정수는 무한히 확장하지만, float는 max size보다 큰 수에대해 'inf'로 표현.\n",
    "    - nan => 'Not a number'도 float형 중 하나이다.\n",
    "    \n",
    "- python의 float는 근삿값\n",
    "- python은 interpreter언어 그래서 숫자 연산이 엄청 느리다.\n",
    "    - 대부분의 interpreter언어는 JIT(Just In Time) Compiler를 쓰는데 Cpython은 쓰지 않음.\n",
    "    - JIT Compiler : intepreter언어에서 자주쓸만한 코드들을 실행시점에서 캐싱기술을 통해 저장하면서 쓰는 기술.\n",
    "        - platform에 따라서 JIT Compiler를 사용하는 python도 존재. 하지만 사실상 표준(De factor)인 Cpython은 x\n",
    "        \n",
    "    - 따라서 C언어보다 5~10배 느리다."
   ]
  },
  {
   "cell_type": "code",
   "execution_count": 6,
   "id": "classical-legislation",
   "metadata": {},
   "outputs": [
    {
     "data": {
      "text/plain": [
       "(123.123, 123.123)"
      ]
     },
     "execution_count": 6,
     "metadata": {},
     "output_type": "execute_result"
    }
   ],
   "source": [
    "# 일반적으로 float형 만들기\n",
    "\n",
    "t= float(\"123.123\")\n",
    "f = 123.123\n",
    "\n",
    "t,f"
   ]
  },
  {
   "cell_type": "code",
   "execution_count": 10,
   "id": "lovely-denver",
   "metadata": {},
   "outputs": [
    {
     "data": {
      "text/plain": [
       "1.0"
      ]
     },
     "execution_count": 10,
     "metadata": {},
     "output_type": "execute_result"
    }
   ],
   "source": [
    "# .만 적으면 0생략.\n",
    "a = 1.\n",
    "a"
   ]
  },
  {
   "cell_type": "code",
   "execution_count": 9,
   "id": "gorgeous-recovery",
   "metadata": {},
   "outputs": [
    {
     "data": {
      "text/plain": [
       "(0.0005, 100000000000.0)"
      ]
     },
     "execution_count": 9,
     "metadata": {},
     "output_type": "execute_result"
    }
   ],
   "source": [
    "# e를 사용하여 큰 or 작은 float표현\n",
    "\n",
    "5e-4, 10e10"
   ]
  },
  {
   "cell_type": "code",
   "execution_count": 11,
   "id": "adjusted-democrat",
   "metadata": {},
   "outputs": [
    {
     "data": {
      "text/plain": [
       "0.30000000000000004"
      ]
     },
     "execution_count": 11,
     "metadata": {},
     "output_type": "execute_result"
    }
   ],
   "source": [
    "# python은 근삿값임\n",
    "\n",
    "0.1+0.1+0.1"
   ]
  },
  {
   "cell_type": "code",
   "execution_count": 12,
   "id": "positive-champagne",
   "metadata": {},
   "outputs": [
    {
     "data": {
      "text/plain": [
       "sys.float_info(max=1.7976931348623157e+308, max_exp=1024, max_10_exp=308, min=2.2250738585072014e-308, min_exp=-1021, min_10_exp=-307, dig=15, mant_dig=53, epsilon=2.220446049250313e-16, radix=2, rounds=1)"
      ]
     },
     "execution_count": 12,
     "metadata": {},
     "output_type": "execute_result"
    }
   ],
   "source": [
    "# float의 maxsize\n",
    "import sys\n",
    "sys.float_info"
   ]
  },
  {
   "cell_type": "code",
   "execution_count": 40,
   "id": "biblical-details",
   "metadata": {},
   "outputs": [
    {
     "name": "stdout",
     "output_type": "stream",
     "text": [
      "1.7976931348623157e+308\n",
      "1.7976931348623157e+308\n",
      "True\n",
      "True\n",
      "False\n",
      "False\n"
     ]
    }
   ],
   "source": [
    "# max값 이상의 값도 할당은 가능하지만 int처럼 표시되지는 않음.\n",
    "# (+,-)에 대해서 값에 연산을 취해도 같음.\n",
    "\n",
    "print(1.7976931348623157e+308)\n",
    "print(1.7976931348623157e+308+1)\n",
    "print(1.7976931348623157e+308 + 1000 == 1.7976931348623157e+308)\n",
    "print(1.7976931348623157e+308 - 1000 == 1.7976931348623157e+308)\n",
    "print(1.7976931348623157e+308 * 100 == 1.7976931348623157e+308)\n",
    "print(1.7976931348623157e+308 / 100 == 1.7976931348623157e+308)"
   ]
  },
  {
   "cell_type": "code",
   "execution_count": 19,
   "id": "racial-collins",
   "metadata": {},
   "outputs": [
    {
     "data": {
      "text/plain": [
       "True"
      ]
     },
     "execution_count": 19,
     "metadata": {},
     "output_type": "execute_result"
    }
   ],
   "source": [
    "# infinity - 무한대의 개념이 존재. ==> float의 maxsize와 같거나 더큼.\n",
    "float('inf') == 1.7976931348623157e+308"
   ]
  },
  {
   "cell_type": "code",
   "execution_count": 22,
   "id": "brave-principle",
   "metadata": {},
   "outputs": [
    {
     "name": "stdout",
     "output_type": "stream",
     "text": [
      "False\n",
      "True\n"
     ]
    }
   ],
   "source": [
    "print(float('inf') < 1.7976931348623157e+308)\n",
    "print(float('inf') > 1.7976931348623157e+308)"
   ]
  },
  {
   "cell_type": "code",
   "execution_count": 52,
   "id": "ancient-finding",
   "metadata": {},
   "outputs": [
    {
     "name": "stdout",
     "output_type": "stream",
     "text": [
      "True\n",
      "False\n",
      "False\n"
     ]
    }
   ],
   "source": [
    "# maxsize의 *(곱셈) 연산에 대해서는 'inf'와 같음.\n",
    "\n",
    "print(float('inf') == 1.7976931348623157e+308 * 1010)\n",
    "print(1.7976931348623157e+308 * 1010 == 1.7976931348623157e+308)\n",
    "print(1.7976931348623157e+308 + 1010 == float('inf'))"
   ]
  },
  {
   "cell_type": "code",
   "execution_count": 56,
   "id": "welcome-demonstration",
   "metadata": {},
   "outputs": [
    {
     "data": {
      "text/plain": [
       "nan"
      ]
     },
     "execution_count": 56,
     "metadata": {},
     "output_type": "execute_result"
    }
   ],
   "source": [
    "# nan = \"Not a number\"\n",
    "float('nan')"
   ]
  },
  {
   "cell_type": "markdown",
   "id": "affected-coating",
   "metadata": {},
   "source": [
    "#### c.f. [platform module](https://docs.python.org/ko/3/library/platform.html#module-platform)\n",
    "- 현재 platform에 대한 정보(hardware 및 python정보) 확인 가능."
   ]
  },
  {
   "cell_type": "code",
   "execution_count": 75,
   "id": "infectious-hebrew",
   "metadata": {},
   "outputs": [
    {
     "data": {
      "text/plain": [
       "'3.9.1'"
      ]
     },
     "execution_count": 75,
     "metadata": {},
     "output_type": "execute_result"
    }
   ],
   "source": [
    "import platform\n",
    "\n",
    "platform.python_version()"
   ]
  },
  {
   "cell_type": "markdown",
   "id": "spatial-spectrum",
   "metadata": {},
   "source": [
    "### Complex(복소수) & 허수 표현\n",
    "\n",
    "- 허수 : literal '숫자j'를 통해 허수 표현\n",
    "- 복소수 : '숫자+숫자j'를 통해 표현.\n",
    "\n",
    "- Python에서는 허수는 '0+3j'라고 생각해서 '복소수'취급함."
   ]
  },
  {
   "cell_type": "code",
   "execution_count": 79,
   "id": "quiet-cycle",
   "metadata": {},
   "outputs": [
    {
     "name": "stdout",
     "output_type": "stream",
     "text": [
      "<class 'complex'> <class 'complex'>\n"
     ]
    },
    {
     "data": {
      "text/plain": [
       "complex"
      ]
     },
     "execution_count": 79,
     "metadata": {},
     "output_type": "execute_result"
    }
   ],
   "source": [
    "#허수 & 복소수\n",
    "print(type(3j),type(1+3j))"
   ]
  },
  {
   "cell_type": "markdown",
   "id": "duplicate-washer",
   "metadata": {},
   "source": [
    "### Boolean형 표현\n",
    "\n",
    "- True == 1\n",
    "- False == 0\n",
    "\n",
    "- 각각 int형에 해당되므로 boolean은 int형 클래스를 상속.\n",
    "\n",
    "- None != False\n",
    "    - None은 '없는상태' or '빈 상태'를 뜻함 따라서 0과 같지 않음.\n",
    "    - 하지만, if에 오는 논리 연산에서 python에서는 True or False를 존재론적 관점으로 처리함.\n",
    "        - True : 객체에 item이 존재.\n",
    "        - False : 객체에 item이 존재하지 않음."
   ]
  },
  {
   "cell_type": "code",
   "execution_count": 83,
   "id": "bigger-shipping",
   "metadata": {},
   "outputs": [
    {
     "data": {
      "text/plain": [
       "True"
      ]
     },
     "execution_count": 83,
     "metadata": {},
     "output_type": "execute_result"
    }
   ],
   "source": [
    "True == 1"
   ]
  },
  {
   "cell_type": "code",
   "execution_count": 84,
   "id": "frank-orange",
   "metadata": {},
   "outputs": [
    {
     "data": {
      "text/plain": [
       "True"
      ]
     },
     "execution_count": 84,
     "metadata": {},
     "output_type": "execute_result"
    }
   ],
   "source": [
    "False == 0"
   ]
  },
  {
   "cell_type": "code",
   "execution_count": 86,
   "id": "rising-discrimination",
   "metadata": {},
   "outputs": [
    {
     "data": {
      "text/plain": [
       "False"
      ]
     },
     "execution_count": 86,
     "metadata": {},
     "output_type": "execute_result"
    }
   ],
   "source": [
    "False == None or None ==0"
   ]
  },
  {
   "cell_type": "code",
   "execution_count": 14,
   "id": "renewable-sleeping",
   "metadata": {},
   "outputs": [
    {
     "name": "stdout",
     "output_type": "stream",
     "text": [
      "<class 'bool'> <class 'bool'> <class 'int'> <class 'int'>\n",
      "True\n",
      "4\n"
     ]
    }
   ],
   "source": [
    "# bool은 int형을 상속받음 - 상속받기 때문에 int형과 연산이 가능하다.\n",
    "print(type(True),type(False),type(1),type(0))\n",
    "print(issubclass(bool,int))\n",
    "print(True + 3)"
   ]
  },
  {
   "cell_type": "code",
   "execution_count": 7,
   "id": "olive-college",
   "metadata": {},
   "outputs": [
    {
     "name": "stdout",
     "output_type": "stream",
     "text": [
      "존재 x\n",
      "존재o\n",
      "존재o\n"
     ]
    }
   ],
   "source": [
    "# if \n",
    "x = []\n",
    "if x:\n",
    "    print(\"존재\")\n",
    "else:\n",
    "    print(\"존재 x\")\n",
    "    \n",
    "    \n",
    "# 하지만 None과는 다름.\n",
    "if x == None:\n",
    "    print(\"존재x\")\n",
    "else:\n",
    "    print(\"존재o\")"
   ]
  },
  {
   "cell_type": "markdown",
   "id": "alpine-vancouver",
   "metadata": {},
   "source": [
    "### keyword : None\n",
    "\n",
    "- \"없는 상태\"를 뜻함 - python에서의 null\n",
    "- 앞서 None!= False or 0 이라는 것을 보았다. 이는 None은 '없다'라는 추상적인 개념이기 때문이다.\n",
    "    - 따라서 \\_\\_bool__메소드를 통해서 None의 bool값을 알 수 있다.\n",
    "- 함수에서 return값이 없으면 자동으로 None을 return해줌.\n",
    "- NoneType class로 관리되는 keyword객체이다."
   ]
  },
  {
   "cell_type": "code",
   "execution_count": 8,
   "id": "suitable-certificate",
   "metadata": {},
   "outputs": [
    {
     "data": {
      "text/plain": [
       "NoneType"
      ]
     },
     "execution_count": 8,
     "metadata": {},
     "output_type": "execute_result"
    }
   ],
   "source": [
    "type(None)"
   ]
  },
  {
   "cell_type": "code",
   "execution_count": 11,
   "id": "acquired-newman",
   "metadata": {},
   "outputs": [
    {
     "data": {
      "text/plain": [
       "False"
      ]
     },
     "execution_count": 11,
     "metadata": {},
     "output_type": "execute_result"
    }
   ],
   "source": [
    "None.__bool__()"
   ]
  },
  {
   "cell_type": "code",
   "execution_count": 9,
   "id": "outdoor-exhibit",
   "metadata": {},
   "outputs": [
    {
     "data": {
      "text/plain": [
       "False"
      ]
     },
     "execution_count": 9,
     "metadata": {},
     "output_type": "execute_result"
    }
   ],
   "source": [
    "bool(None)"
   ]
  },
  {
   "cell_type": "code",
   "execution_count": 10,
   "id": "loaded-generic",
   "metadata": {},
   "outputs": [
    {
     "data": {
      "text/plain": [
       "(False, False, False)"
      ]
     },
     "execution_count": 10,
     "metadata": {},
     "output_type": "execute_result"
    }
   ],
   "source": [
    "bool([]),bool(\"\"),bool(0)"
   ]
  },
  {
   "cell_type": "markdown",
   "id": "residential-entrance",
   "metadata": {},
   "source": [
    "## 2-3-2. Extra module for numerical data\n",
    "\n",
    "- python은 built-in number type에 대해서 추가적으로 유리수, 10진수 module을 제공함.\n",
    "\n",
    "    - 유리수 : Fraction module을 통해서 유리수 생성 가능.\n",
    "    - 10진수 : decimal module을 통해서 정밀한 수학 계산 가능."
   ]
  },
  {
   "cell_type": "markdown",
   "id": "coastal-resort",
   "metadata": {},
   "source": [
    "#### Fraction"
   ]
  },
  {
   "cell_type": "code",
   "execution_count": 98,
   "id": "lucky-fairy",
   "metadata": {},
   "outputs": [
    {
     "data": {
      "text/plain": [
       "Fraction(-8, 5)"
      ]
     },
     "execution_count": 98,
     "metadata": {},
     "output_type": "execute_result"
    }
   ],
   "source": [
    "from fractions import Fraction\n",
    "\n",
    "# 유리수 생성 : (분자,분모)\n",
    "f = Fraction(16, -10)\n",
    "\n",
    "# 기약분수와 음수의 유리수는 분자로 이동.\n",
    "f"
   ]
  },
  {
   "cell_type": "code",
   "execution_count": 99,
   "id": "curious-surge",
   "metadata": {},
   "outputs": [
    {
     "data": {
      "text/plain": [
       "(-8, 5)"
      ]
     },
     "execution_count": 99,
     "metadata": {},
     "output_type": "execute_result"
    }
   ],
   "source": [
    "# numerator : 분자\n",
    "# denominator : 분모\n",
    "f.numerator , f.denominator"
   ]
  },
  {
   "cell_type": "code",
   "execution_count": 104,
   "id": "israeli-catholic",
   "metadata": {},
   "outputs": [
    {
     "name": "stdout",
     "output_type": "stream",
     "text": [
      "884279719003555 281474976710656\n",
      "355 113\n",
      "6121026514868073 2251799813685248\n",
      "6369051672525773 4503599627370496\n"
     ]
    }
   ],
   "source": [
    "# 원주율을 인자로 전달(float형) -> 유리수를 만듬(무리수는 근삿값을 사용)\n",
    "import math\n",
    "\n",
    "p = Fraction.from_float(math.pi)\n",
    "# limit_denominator함수를 사용해 \"분모\"를 3자리까지 줄여보기.\n",
    "p2 = Fraction.from_float(math.pi).limit_denominator(1000)\n",
    "# 자연상수 e 및 루트2에 대해서도 가능.\n",
    "e = Fraction.from_float(math.e)\n",
    "q = Fraction.from_float(math.sqrt(2))\n",
    "\n",
    "print(p.numerator, p.denominator)\n",
    "print(p2.numerator, p2.denominator)\n",
    "print(e.numerator, e.denominator)\n",
    "print(q.numerator, q.denominator)"
   ]
  },
  {
   "cell_type": "markdown",
   "id": "certified-karaoke",
   "metadata": {},
   "source": [
    "#### 10진수\n",
    "\n",
    "- 계산의 정밀도를 높이기 위해 사용하는 모듈"
   ]
  },
  {
   "cell_type": "code",
   "execution_count": 113,
   "id": "prompt-colon",
   "metadata": {},
   "outputs": [
    {
     "name": "stdout",
     "output_type": "stream",
     "text": [
      "28\n",
      "0.1428571428571428571428571429\n",
      "0.142857\n"
     ]
    }
   ],
   "source": [
    "import decimal as dec\n",
    "\n",
    "con = dec.getcontext() #정밀도를 확인하기 위해 getcontext 객체 생성\n",
    "print(con.prec)# 소수점 28자리 까지 계산가능\n",
    "print(dec.Decimal(1) / dec.Decimal(7))\n",
    "\n",
    "# 소수점 6자리 까지 계산하게 바꾸기\n",
    "con.prec = 6\n",
    "print(dec.Decimal(1) / dec.Decimal(7))"
   ]
  },
  {
   "cell_type": "code",
   "execution_count": 120,
   "id": "composite-balloon",
   "metadata": {},
   "outputs": [
    {
     "data": {
      "text/plain": [
       "Decimal('1.155727349790921734322182875')"
      ]
     },
     "execution_count": 120,
     "metadata": {},
     "output_type": "execute_result"
    }
   ],
   "source": [
    "# 무리수 => 자연상수e, pi를 통해서 연산해보기\n",
    "\n",
    "import math\n",
    "pi = dec.Decimal(math.pi)\n",
    "e = dec.Decimal(math.e)\n",
    "\n",
    "pi/e"
   ]
  },
  {
   "cell_type": "code",
   "execution_count": 124,
   "id": "acute-transportation",
   "metadata": {},
   "outputs": [
    {
     "data": {
      "text/plain": [
       "Decimal('8.33')"
      ]
     },
     "execution_count": 124,
     "metadata": {},
     "output_type": "execute_result"
    }
   ],
   "source": [
    "# 올림, 버림 메소드 quantize(자릿수, 올림 or 버림)\n",
    "\n",
    "#버림\n",
    "dec.Decimal('8.322').quantize(dec.Decimal('.01'), rounding=dec.ROUND_DOWN)\n",
    "#올림\n",
    "dec.Decimal('8.322').quantize(dec.Decimal('.01'), rounding=dec.ROUND_UP)"
   ]
  },
  {
   "cell_type": "markdown",
   "id": "backed-spotlight",
   "metadata": {},
   "source": [
    "## 2-3-3. [operator module](https://docs.python.org/ko/3.7/library/operator.html#module-operator)과 연산자\n",
    "\n",
    "- 연산자 오버로딩 : 연산자가 Data Type마다 다르게 행동하는 경우(객체지향 section에서 자세히 다룰예정.)\n",
    "    - python은 연산자 오버로딩 지원\n",
    "    \n",
    "\n",
    "- Python에서 제공하는 연산자 모듈이며, 이 모듈에 연산 기호를 뜻하는 literal에 대한 실제 연산을 하는 special method가 구현되어있다.\n",
    "- 즉, custom datatype에서 +에 해당하는 연산을 구현하고 싶으면 operator의 add()에 대응되는 special method를 구현하면된다.\n",
    "\n",
    "- 포함관계를 처리하는 keyword(예약어) 'in'에 해당하는 실제구현이 contains메소드로 구현되어있음. "
   ]
  },
  {
   "cell_type": "code",
   "execution_count": 161,
   "id": "silver-heading",
   "metadata": {},
   "outputs": [
    {
     "name": "stdout",
     "output_type": "stream",
     "text": [
      "__abs__, __add__, __and__, __eq__, __floordiv__, __ge__, __gt__, __invert__, __le__, __lshift__, __lt__, __mod__, __mul__, __ne__, __neg__, __or__, __pos__, __pow__, __rshift__, __sub__, __truediv__, __xor__, "
     ]
    }
   ],
   "source": [
    "# int에는 operator에 구현되어있는 연산을 오버로딩하여 int class에 구현해놓았기 때문에 int형은 (+,-,*,/,**,% ...)등의 연산이 가능하다.\n",
    "import operator as op\n",
    "\n",
    "for i in dir(int):\n",
    "    if i in dir(op):\n",
    "        if i not in ['__doc__', '__index__']:\n",
    "            print(i, end=\", \")"
   ]
  },
  {
   "cell_type": "code",
   "execution_count": 162,
   "id": "tutorial-kingston",
   "metadata": {},
   "outputs": [
    {
     "ename": "TypeError",
     "evalue": "unsupported operand type(s) for +: 'int' and 'Num'",
     "output_type": "error",
     "traceback": [
      "\u001b[0;31m---------------------------------------------------------------------------\u001b[0m",
      "\u001b[0;31mTypeError\u001b[0m                                 Traceback (most recent call last)",
      "\u001b[0;32m<ipython-input-162-a76cb4549cbe>\u001b[0m in \u001b[0;36m<module>\u001b[0;34m\u001b[0m\n\u001b[1;32m      7\u001b[0m \u001b[0mn\u001b[0m \u001b[0;34m=\u001b[0m\u001b[0mNum\u001b[0m\u001b[0;34m(\u001b[0m\u001b[0;36m10\u001b[0m\u001b[0;34m)\u001b[0m\u001b[0;34m\u001b[0m\u001b[0;34m\u001b[0m\u001b[0m\n\u001b[1;32m      8\u001b[0m \u001b[0;34m\u001b[0m\u001b[0m\n\u001b[0;32m----> 9\u001b[0;31m \u001b[0;36m100\u001b[0m \u001b[0;34m+\u001b[0m \u001b[0mn\u001b[0m\u001b[0;34m\u001b[0m\u001b[0;34m\u001b[0m\u001b[0m\n\u001b[0m",
      "\u001b[0;31mTypeError\u001b[0m: unsupported operand type(s) for +: 'int' and 'Num'"
     ]
    }
   ],
   "source": [
    "# 예제 1 , +구현해보기\n",
    "\n",
    "class Num:\n",
    "    def __init__(self,num):\n",
    "        self.Num = num\n",
    "        \n",
    "n =Num(10)\n",
    "\n",
    "100 + n"
   ]
  },
  {
   "cell_type": "code",
   "execution_count": 163,
   "id": "mathematical-currency",
   "metadata": {},
   "outputs": [
    {
     "name": "stdout",
     "output_type": "stream",
     "text": [
      "509\n",
      "309\n"
     ]
    },
    {
     "ename": "TypeError",
     "evalue": "unsupported operand type(s) for *: 'Number' and 'int'",
     "output_type": "error",
     "traceback": [
      "\u001b[0;31m---------------------------------------------------------------------------\u001b[0m",
      "\u001b[0;31mTypeError\u001b[0m                                 Traceback (most recent call last)",
      "\u001b[0;32m<ipython-input-163-92e3b415e951>\u001b[0m in \u001b[0;36m<module>\u001b[0;34m\u001b[0m\n\u001b[1;32m     17\u001b[0m \u001b[0mprint\u001b[0m\u001b[0;34m(\u001b[0m\u001b[0mn\u001b[0m\u001b[0;34m-\u001b[0m\u001b[0;36m200\u001b[0m\u001b[0;34m)\u001b[0m\u001b[0;34m\u001b[0m\u001b[0;34m\u001b[0m\u001b[0m\n\u001b[1;32m     18\u001b[0m \u001b[0;31m# 오류 => 곱셈에 대한 오버로딩 x\u001b[0m\u001b[0;34m\u001b[0m\u001b[0;34m\u001b[0m\u001b[0;34m\u001b[0m\u001b[0m\n\u001b[0;32m---> 19\u001b[0;31m \u001b[0mprint\u001b[0m\u001b[0;34m(\u001b[0m\u001b[0mn\u001b[0m\u001b[0;34m*\u001b[0m\u001b[0;36m300\u001b[0m\u001b[0;34m)\u001b[0m\u001b[0;34m\u001b[0m\u001b[0;34m\u001b[0m\u001b[0m\n\u001b[0m",
      "\u001b[0;31mTypeError\u001b[0m: unsupported operand type(s) for *: 'Number' and 'int'"
     ]
    }
   ],
   "source": [
    "class Number:\n",
    "    def __init__(self,num):\n",
    "        self.Num = num\n",
    "        \n",
    "    def __add__(self,num):\n",
    "        self.Num = self.Num + num\n",
    "        return self.Num\n",
    "    \n",
    "    def __sub__(self,num):\n",
    "        self.Num  = self.Num - num\n",
    "        return self.Num\n",
    "        \n",
    "n = Number(300)\n",
    "\n",
    "\n",
    "print(n+209)\n",
    "print(n-200)\n",
    "# 오류 => 곱셈에 대한 오버로딩 x\n",
    "print(n*300)"
   ]
  },
  {
   "cell_type": "markdown",
   "id": "tribal-mexico",
   "metadata": {},
   "source": [
    "#### 어떤 연산자가 어떤 기호에 mapping되어 있을까? \n",
    "\n",
    "- [다음](https://docs.python.org/ko/3.7/library/operator.html#mapping-operators-to-functions)에서 확인가능."
   ]
  },
  {
   "cell_type": "code",
   "execution_count": 166,
   "id": "missing-radiation",
   "metadata": {},
   "outputs": [
    {
     "name": "stdout",
     "output_type": "stream",
     "text": [
      "True\n",
      "True\n"
     ]
    }
   ],
   "source": [
    "# 예약어 in에 대한 연산 -> 즉 __contains__에 해당하는 스페셜메소드 구현하면 in을 쓸 수 있다.\n",
    "\n",
    "print(op.contains([1,2,3,4,5],3))\n",
    "print(3 in [1,2,3,4,5])"
   ]
  },
  {
   "cell_type": "markdown",
   "id": "timely-competition",
   "metadata": {},
   "source": [
    "#### 연산자에 대한 특징\n",
    "\n",
    "- 숫자형 datatype일때는 값을 계산.\n",
    "- sequence data type일때는 \n",
    "    1. +에 대해서, 같은 type의 두 객체에 대해서 '객체+객체'라면, concatenation\n",
    "    2. +에 대해서, 다른 type의 두 객체에 대해서 '객체+객체\"라면, 오류(TypeError).\n",
    "    3. \\*에 대해서, 같은 type의 두 객체에 대해서 '객체\\*객체'라면, 오류(TypeError).\n",
    "    4. \\*에 대해서, '객체\\*숫자'라면 '숫자'만큼 반복."
   ]
  },
  {
   "cell_type": "code",
   "execution_count": 173,
   "id": "criminal-clause",
   "metadata": {},
   "outputs": [
    {
     "data": {
      "text/plain": [
       "'324234'"
      ]
     },
     "execution_count": 173,
     "metadata": {},
     "output_type": "execute_result"
    }
   ],
   "source": [
    "#1.\n",
    "print('324'+'234')\n",
    "print((2,3,3,4) + (5,43,3,4))"
   ]
  },
  {
   "cell_type": "code",
   "execution_count": 175,
   "id": "ignored-cycle",
   "metadata": {},
   "outputs": [
    {
     "ename": "TypeError",
     "evalue": "can only concatenate str (not \"tuple\") to str",
     "output_type": "error",
     "traceback": [
      "\u001b[0;31m---------------------------------------------------------------------------\u001b[0m",
      "\u001b[0;31mTypeError\u001b[0m                                 Traceback (most recent call last)",
      "\u001b[0;32m<ipython-input-175-c502376fd2d1>\u001b[0m in \u001b[0;36m<module>\u001b[0;34m\u001b[0m\n\u001b[1;32m      1\u001b[0m \u001b[0;31m#2.\u001b[0m\u001b[0;34m\u001b[0m\u001b[0;34m\u001b[0m\u001b[0;34m\u001b[0m\u001b[0m\n\u001b[0;32m----> 2\u001b[0;31m \u001b[0mprint\u001b[0m\u001b[0;34m(\u001b[0m\u001b[0;34m'123'\u001b[0m\u001b[0;34m+\u001b[0m\u001b[0;34m(\u001b[0m\u001b[0;36m3423\u001b[0m\u001b[0;34m,\u001b[0m\u001b[0;36m3\u001b[0m\u001b[0;34m,\u001b[0m\u001b[0;36m2\u001b[0m\u001b[0;34m)\u001b[0m\u001b[0;34m)\u001b[0m\u001b[0;34m\u001b[0m\u001b[0;34m\u001b[0m\u001b[0m\n\u001b[0m",
      "\u001b[0;31mTypeError\u001b[0m: can only concatenate str (not \"tuple\") to str"
     ]
    }
   ],
   "source": [
    "#2.\n",
    "print('123'+(3423,3,2))"
   ]
  },
  {
   "cell_type": "code",
   "execution_count": 176,
   "id": "damaged-shareware",
   "metadata": {},
   "outputs": [
    {
     "ename": "TypeError",
     "evalue": "can't multiply sequence by non-int of type 'str'",
     "output_type": "error",
     "traceback": [
      "\u001b[0;31m---------------------------------------------------------------------------\u001b[0m",
      "\u001b[0;31mTypeError\u001b[0m                                 Traceback (most recent call last)",
      "\u001b[0;32m<ipython-input-176-f7d348f4931d>\u001b[0m in \u001b[0;36m<module>\u001b[0;34m\u001b[0m\n\u001b[1;32m      1\u001b[0m \u001b[0;31m#3.\u001b[0m\u001b[0;34m\u001b[0m\u001b[0;34m\u001b[0m\u001b[0;34m\u001b[0m\u001b[0m\n\u001b[0;32m----> 2\u001b[0;31m \u001b[0mprint\u001b[0m\u001b[0;34m(\u001b[0m\u001b[0;34m'123123'\u001b[0m\u001b[0;34m*\u001b[0m\u001b[0;34m'234545'\u001b[0m\u001b[0;34m)\u001b[0m\u001b[0;34m\u001b[0m\u001b[0;34m\u001b[0m\u001b[0m\n\u001b[0m",
      "\u001b[0;31mTypeError\u001b[0m: can't multiply sequence by non-int of type 'str'"
     ]
    }
   ],
   "source": [
    "#3.\n",
    "print('123123'*'234545')"
   ]
  },
  {
   "cell_type": "code",
   "execution_count": 177,
   "id": "willing-coupon",
   "metadata": {},
   "outputs": [
    {
     "name": "stdout",
     "output_type": "stream",
     "text": [
      "34234342343423434234342343423434234342343423434234342343423434234342343423434234342343423434234342343423434234342343423434234342343423434234342343423434234342343423434234\n"
     ]
    }
   ],
   "source": [
    "#4.\n",
    "print('34234'*34)"
   ]
  },
  {
   "cell_type": "markdown",
   "id": "pending-department",
   "metadata": {},
   "source": [
    "#### range객체 - 내용 뒤로 옮길 것.\n",
    "\n",
    "- 우리가 for 뒤에 자주 사용하는 range객체는 sequence, iterable, homogeneous type이다.\n",
    "- homogeneous 객체지만 in 앞에 다른 type의 객체 사용가능.\n",
    "- sequence객체지만 연산자오버로딩을 하지않아 연산자 사용 불가능."
   ]
  },
  {
   "cell_type": "code",
   "execution_count": 171,
   "id": "regional-mexican",
   "metadata": {},
   "outputs": [
    {
     "data": {
      "text/plain": [
       "False"
      ]
     },
     "execution_count": 171,
     "metadata": {},
     "output_type": "execute_result"
    }
   ],
   "source": [
    "# in\n",
    "'2' in range(3)"
   ]
  },
  {
   "cell_type": "code",
   "execution_count": 172,
   "id": "limiting-locator",
   "metadata": {},
   "outputs": [
    {
     "ename": "TypeError",
     "evalue": "unsupported operand type(s) for +: 'range' and 'range'",
     "output_type": "error",
     "traceback": [
      "\u001b[0;31m---------------------------------------------------------------------------\u001b[0m",
      "\u001b[0;31mTypeError\u001b[0m                                 Traceback (most recent call last)",
      "\u001b[0;32m<ipython-input-172-edcf07508e20>\u001b[0m in \u001b[0;36m<module>\u001b[0;34m\u001b[0m\n\u001b[1;32m      1\u001b[0m \u001b[0;31m# operator\u001b[0m\u001b[0;34m\u001b[0m\u001b[0;34m\u001b[0m\u001b[0;34m\u001b[0m\u001b[0m\n\u001b[0;32m----> 2\u001b[0;31m \u001b[0mrange\u001b[0m\u001b[0;34m(\u001b[0m\u001b[0;36m3\u001b[0m\u001b[0;34m)\u001b[0m \u001b[0;34m+\u001b[0m \u001b[0mrange\u001b[0m\u001b[0;34m(\u001b[0m\u001b[0;36m4\u001b[0m\u001b[0;34m)\u001b[0m\u001b[0;34m\u001b[0m\u001b[0;34m\u001b[0m\u001b[0m\n\u001b[0m",
      "\u001b[0;31mTypeError\u001b[0m: unsupported operand type(s) for +: 'range' and 'range'"
     ]
    }
   ],
   "source": [
    "# operator\n",
    "range(3) + range(4)"
   ]
  }
 ],
 "metadata": {
  "kernelspec": {
   "display_name": "Python 3",
   "language": "python",
   "name": "python3"
  },
  "language_info": {
   "codemirror_mode": {
    "name": "ipython",
    "version": 3
   },
   "file_extension": ".py",
   "mimetype": "text/x-python",
   "name": "python",
   "nbconvert_exporter": "python",
   "pygments_lexer": "ipython3",
   "version": "3.9.1"
  }
 },
 "nbformat": 4,
 "nbformat_minor": 5
}
