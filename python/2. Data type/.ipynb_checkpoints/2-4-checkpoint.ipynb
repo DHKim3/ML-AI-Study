{
 "cells": [
  {
   "cell_type": "markdown",
   "id": "spoken-submission",
   "metadata": {},
   "source": [
    "# 2-4. Built-in DataType - 문자형\n",
    "\n",
    "- 문자형은 아주 큰 범위에서 3가지 type으로 나뉨.\n",
    "- 더 깊숙이 배울려면 memory view를 알아야됨.\n",
    "\n",
    "\n",
    "- 인공지능의 핵심은 숫자형 -> 문자형도 encoding을 통해 숫자로 바꿔야됨.\n",
    "- 기본적으로 sequence, heterogenous, iterable의 특징을 갖는다."
   ]
  },
  {
   "cell_type": "markdown",
   "id": "surprised-georgia",
   "metadata": {},
   "source": [
    "## 2-4-1. str(문자열) class\n",
    "\n",
    "- str class는 unicode를 다루는 type\n",
    "\n",
    "- 일반적으로 literal ''와 \"\"로 표현하거나 str class를 instance화.\n",
    "    - u'', u\"\"로도 표현 가능."
   ]
  },
  {
   "cell_type": "code",
   "execution_count": 10,
   "id": "expired-kelly",
   "metadata": {},
   "outputs": [
    {
     "name": "stdout",
     "output_type": "stream",
     "text": [
      "True\n",
      "True\n",
      "<class 'str'> <class 'str'> <class 'str'>\n"
     ]
    }
   ],
   "source": [
    "st =  str(\"hi\")\n",
    "st2 = \"hi\"\n",
    "st3 = u\"hi\"\n",
    "\n",
    "print(st == st2)\n",
    "print(st == st3)\n",
    "\n",
    "print(type(st),type(st2),type(st3))"
   ]
  },
  {
   "cell_type": "markdown",
   "id": "boolean-newark",
   "metadata": {},
   "source": [
    "##  2-4-2. bytes class\n",
    "\n",
    "- Ascii문자를 사용하는 문자열 class이며, bytes class와 bytearray class가 있다.\n",
    "<br>\n",
    "- bytes class : immutable\n",
    "    - b\"\", b''를 통해 객체 생성\n",
    "    - bytes class 를 통해 객체 생성\n",
    "    - 항상 앞에 b를 붙여준다.\n",
    "    \n",
    "- bytearray class : mutable\n",
    "    - bytearray class를 통해 변경.\n"
   ]
  },
  {
   "cell_type": "code",
   "execution_count": 17,
   "id": "dimensional-cloud",
   "metadata": {},
   "outputs": [
    {
     "name": "stdout",
     "output_type": "stream",
     "text": [
      "<class 'bytes'> <class 'bytes'> b'string' b'string'\n"
     ]
    }
   ],
   "source": [
    "# Bytes 생성\n",
    "b = bytes(b\"string\")\n",
    "b2 = b\"string\"\n",
    "\n",
    "b == b2\n",
    "print(type(b),type(b2),b,b2)"
   ]
  },
  {
   "cell_type": "code",
   "execution_count": 16,
   "id": "saved-tunisia",
   "metadata": {},
   "outputs": [
    {
     "name": "stdout",
     "output_type": "stream",
     "text": [
      "<class 'bytearray'> bytearray(b'hi hi')\n"
     ]
    }
   ],
   "source": [
    "# bytearray 생성\n",
    "ba = bytearray(b\"hi hi\")\n",
    "print(type(ba),ba)"
   ]
  },
  {
   "cell_type": "code",
   "execution_count": 22,
   "id": "emotional-electron",
   "metadata": {},
   "outputs": [
    {
     "name": "stdout",
     "output_type": "stream",
     "text": [
      "True\n",
      "False\n"
     ]
    }
   ],
   "source": [
    "# bytearray는 bytes의 mutable type\n",
    "# __setitem__이 있는지 확인.\n",
    "\n",
    "print('__setitem__' in dir(bytearray))\n",
    "print('__setitem__' in dir(bytes))"
   ]
  },
  {
   "cell_type": "code",
   "execution_count": 26,
   "id": "parallel-excess",
   "metadata": {},
   "outputs": [
    {
     "name": "stdout",
     "output_type": "stream",
     "text": [
      "72 H\n"
     ]
    }
   ],
   "source": [
    "# bytearray의 원소를 참조하면 ascii값이 나옴.\n",
    "# chr를 통해 원래 원소 확인가능.\n",
    "a = bytearray(b\"Hello world!\")\n",
    "\n",
    "print(a[0],chr(a[0]))"
   ]
  },
  {
   "cell_type": "code",
   "execution_count": 27,
   "id": "labeled-auditor",
   "metadata": {},
   "outputs": [
    {
     "data": {
      "text/plain": [
       "bytearray(b'Tello world!')"
      ]
     },
     "execution_count": 27,
     "metadata": {},
     "output_type": "execute_result"
    }
   ],
   "source": [
    "# bytearray는 mutable이기때문에 내용을 변경할때도, \"문자\"의 ascii코드값을 전달해야됨.\n",
    "\n",
    "a = bytearray(b\"Hello world!\")\n",
    "\n",
    "a[0] = ord(\"T\")\n",
    "\n",
    "a"
   ]
  },
  {
   "cell_type": "markdown",
   "id": "seventh-disability",
   "metadata": {},
   "source": [
    "## 2-4-3. Encoding & Decoding\n",
    "\n",
    "- str class와 bytes class 중에 str class(유니코드 문자열)을 처리하는 메소드가 좀 더 많다.(관리하기 편함.)\n",
    "- bytes class는 대부분 16진수로 표시되어 관리\n",
    "    - 따라서 str <-> bytes 사이를 변환하는 메소드가 존재하며, 필요에 따라 쉬운방법을 사용해야 한다.\n",
    "    \n",
    "- encoding : str -> bytes\n",
    "- decoding : bytes -> str"
   ]
  },
  {
   "cell_type": "code",
   "execution_count": 29,
   "id": "operational-frost",
   "metadata": {},
   "outputs": [
    {
     "name": "stdout",
     "output_type": "stream",
     "text": [
      "{'format', 'encode', 'casefold', 'format_map', 'isdecimal', 'isidentifier', 'isnumeric', 'isprintable'}\n",
      "{'fromhex', 'decode', 'hex'}\n"
     ]
    }
   ],
   "source": [
    "# str이 더 많음.\n",
    "# str - encode\n",
    "# bytes - decode\n",
    "print(set(dir(str)) - set(dir(bytes)))\n",
    "print(set(dir(bytes)) - set(dir(str)))"
   ]
  },
  {
   "cell_type": "code",
   "execution_count": 37,
   "id": "posted-kelly",
   "metadata": {},
   "outputs": [
    {
     "name": "stdout",
     "output_type": "stream",
     "text": [
      "False <class 'str'> <class 'bytes'>\n",
      "48656c6c6f20776f726c6421\n",
      "12 12\n",
      "True\n",
      "True\n"
     ]
    }
   ],
   "source": [
    "ss = \"Hello world!\"\n",
    "bb = b\"Hello world!\"\n",
    "print(ss == bb, type(ss),type(bb))\n",
    "# bytes를 16진수로 값 확인.\n",
    "print(bb.hex())\n",
    "\n",
    "\n",
    "# 둘 다 길이는 12로 똑같음. \n",
    "# len(str) -> 12글자 = 글자 수\n",
    "# len(bytes) -> 1바이트 : 길이 1 = byte 수\n",
    "print(len(ss),len(bb))\n",
    "\n",
    "# encode()\n",
    "ss_ = ss.encode()\n",
    "print(ss_ == bb)\n",
    "\n",
    "# decode()\n",
    "bb_ = bb.decode()\n",
    "print(ss == bb_)"
   ]
  },
  {
   "cell_type": "code",
   "execution_count": 40,
   "id": "subtle-merchant",
   "metadata": {},
   "outputs": [
    {
     "data": {
      "text/plain": [
       "(11, 33)"
      ]
     },
     "execution_count": 40,
     "metadata": {},
     "output_type": "execute_result"
    }
   ],
   "source": [
    "# 한국어 - 한글자당 3바이트\n",
    "ss = \"안녕하세요ㅎㅇㅎㅇㅎㅇ\"\n",
    "bb = ss.encode()\n",
    "\n",
    "len(ss),len(bb)"
   ]
  },
  {
   "cell_type": "markdown",
   "id": "coral-classic",
   "metadata": {},
   "source": [
    "### Encoding Decoding 형식\n",
    "\n",
    "- utf-8 : 유니코드 문자를 바이트 문자로 변환할 때 기본형식\n",
    "- utf-16 : 한글 한 글자를 2바이트로 변환.\n",
    "\n",
    "- encoding과 decoding을 할 때 형식을 인자로 지정해서 넣을 수 있다."
   ]
  },
  {
   "cell_type": "code",
   "execution_count": 44,
   "id": "light-tuning",
   "metadata": {},
   "outputs": [
    {
     "name": "stdout",
     "output_type": "stream",
     "text": [
      "fffeecd55cb82000d4c6dcb485c7c8b2e4b22e00\n",
      "9 20\n"
     ]
    }
   ],
   "source": [
    "# utf-16를 이용하여 encoding.\n",
    "\n",
    "s = \"헬로 월드입니다.\"\n",
    "s_1 = s.encode(encoding='utf-16')\n",
    "print(s_1.hex())\n",
    "print(len(s),len(s_1))"
   ]
  },
  {
   "cell_type": "code",
   "execution_count": 46,
   "id": "revised-assets",
   "metadata": {},
   "outputs": [
    {
     "name": "stdout",
     "output_type": "stream",
     "text": [
      "d5ecb85c0020c6d4b4dcc784 ecd55cb82000d4c6dcb484c7\n",
      "12 12\n"
     ]
    }
   ],
   "source": [
    "# Big or little endian 방식\n",
    "\n",
    "ss = \"헬로 월드임\"\n",
    "ss_1 = ss.encode(encoding='utf-16be')# big endian\n",
    "ss_2 = ss.encode(encoding='utf-16le')# littel endian\n",
    "\n",
    "print(ss_1.hex(),ss_2.hex())\n",
    "print(len(ss_1),len(ss_2))"
   ]
  },
  {
   "cell_type": "code",
   "execution_count": 49,
   "id": "endless-cream",
   "metadata": {},
   "outputs": [
    {
     "name": "stdout",
     "output_type": "stream",
     "text": [
      "하이하이월드\n"
     ]
    },
    {
     "ename": "UnicodeDecodeError",
     "evalue": "'utf-16-le' codec can't decode bytes in position 10-11: illegal encoding",
     "output_type": "error",
     "traceback": [
      "\u001b[0;31m---------------------------------------------------------------------------\u001b[0m",
      "\u001b[0;31mUnicodeDecodeError\u001b[0m                        Traceback (most recent call last)",
      "\u001b[0;32m<ipython-input-49-aa62cf27724e>\u001b[0m in \u001b[0;36m<module>\u001b[0;34m\u001b[0m\n\u001b[1;32m      7\u001b[0m \u001b[0;34m\u001b[0m\u001b[0m\n\u001b[1;32m      8\u001b[0m \u001b[0;31m# 원래는 다른 인코딩 코드를 사용하면 해당 코드를 사용하는 나라의 언어로 decoding되지만, 현재는 오류뜸.\u001b[0m\u001b[0;34m\u001b[0m\u001b[0;34m\u001b[0m\u001b[0;34m\u001b[0m\u001b[0m\n\u001b[0;32m----> 9\u001b[0;31m \u001b[0mprint\u001b[0m\u001b[0;34m(\u001b[0m\u001b[0msss_1\u001b[0m\u001b[0;34m.\u001b[0m\u001b[0mdecode\u001b[0m\u001b[0;34m(\u001b[0m\u001b[0mencoding\u001b[0m\u001b[0;34m=\u001b[0m\u001b[0;34m'utf_16le'\u001b[0m\u001b[0;34m)\u001b[0m\u001b[0;34m)\u001b[0m\u001b[0;34m\u001b[0m\u001b[0;34m\u001b[0m\u001b[0m\n\u001b[0m",
      "\u001b[0;32m/usr/local/Cellar/python@3.9/3.9.1_6/Frameworks/Python.framework/Versions/3.9/lib/python3.9/encodings/utf_16_le.py\u001b[0m in \u001b[0;36mdecode\u001b[0;34m(input, errors)\u001b[0m\n\u001b[1;32m     14\u001b[0m \u001b[0;34m\u001b[0m\u001b[0m\n\u001b[1;32m     15\u001b[0m \u001b[0;32mdef\u001b[0m \u001b[0mdecode\u001b[0m\u001b[0;34m(\u001b[0m\u001b[0minput\u001b[0m\u001b[0;34m,\u001b[0m \u001b[0merrors\u001b[0m\u001b[0;34m=\u001b[0m\u001b[0;34m'strict'\u001b[0m\u001b[0;34m)\u001b[0m\u001b[0;34m:\u001b[0m\u001b[0;34m\u001b[0m\u001b[0;34m\u001b[0m\u001b[0m\n\u001b[0;32m---> 16\u001b[0;31m     \u001b[0;32mreturn\u001b[0m \u001b[0mcodecs\u001b[0m\u001b[0;34m.\u001b[0m\u001b[0mutf_16_le_decode\u001b[0m\u001b[0;34m(\u001b[0m\u001b[0minput\u001b[0m\u001b[0;34m,\u001b[0m \u001b[0merrors\u001b[0m\u001b[0;34m,\u001b[0m \u001b[0;32mTrue\u001b[0m\u001b[0;34m)\u001b[0m\u001b[0;34m\u001b[0m\u001b[0;34m\u001b[0m\u001b[0m\n\u001b[0m\u001b[1;32m     17\u001b[0m \u001b[0;34m\u001b[0m\u001b[0m\n\u001b[1;32m     18\u001b[0m \u001b[0;32mclass\u001b[0m \u001b[0mIncrementalEncoder\u001b[0m\u001b[0;34m(\u001b[0m\u001b[0mcodecs\u001b[0m\u001b[0;34m.\u001b[0m\u001b[0mIncrementalEncoder\u001b[0m\u001b[0;34m)\u001b[0m\u001b[0;34m:\u001b[0m\u001b[0;34m\u001b[0m\u001b[0;34m\u001b[0m\u001b[0m\n",
      "\u001b[0;31mUnicodeDecodeError\u001b[0m: 'utf-16-le' codec can't decode bytes in position 10-11: illegal encoding"
     ]
    }
   ],
   "source": [
    "# 같은 형식을 사용하여 decoding\n",
    "\n",
    "sss = \"하이하이월드\"\n",
    "sss_1  = sss.encode(encoding='utf-16be')\n",
    "\n",
    "print(sss_1.decode(encoding='utf_16be'))\n",
    "\n",
    "# 원래는 다른 인코딩 코드를 사용하면 해당 코드를 사용하는 나라의 언어로 decoding되지만, 현재는 오류뜸.\n",
    "print(sss_1.decode(encoding='utf_16le'))"
   ]
  },
  {
   "cell_type": "code",
   "execution_count": null,
   "id": "billion-health",
   "metadata": {},
   "outputs": [],
   "source": []
  }
 ],
 "metadata": {
  "kernelspec": {
   "display_name": "Python 3",
   "language": "python",
   "name": "python3"
  },
  "language_info": {
   "codemirror_mode": {
    "name": "ipython",
    "version": 3
   },
   "file_extension": ".py",
   "mimetype": "text/x-python",
   "name": "python",
   "nbconvert_exporter": "python",
   "pygments_lexer": "ipython3",
   "version": "3.9.1"
  }
 },
 "nbformat": 4,
 "nbformat_minor": 5
}
