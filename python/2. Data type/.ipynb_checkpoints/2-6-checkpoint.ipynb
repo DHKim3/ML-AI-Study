{
 "cells": [
  {
   "cell_type": "markdown",
   "id": "fallen-ribbon",
   "metadata": {},
   "source": [
    "# 2-6 Data type conversion"
   ]
  },
  {
   "cell_type": "markdown",
   "id": "rapid-antenna",
   "metadata": {},
   "source": [
    "- 정의 : Data의 형(type)을 변환한다.\n",
    "\n",
    "- 종류 :\n",
    "    - Coercion(강제변환) : Implicit conversion(암시적 변환)이며 python에서 내부적으로 자동으로 변환시키는 것.\n",
    "        - python에서는 형변환 연산자가 없기 때문에 coercion을 지원한다.\n",
    "        - python에서는 **숫자형 type**에서만 coercion이 이루어진다.\n",
    "        - coercion이 이루어지면 더 상위 class로 바뀐다.\n",
    "            - 이 때의 상위는 상속관계의 상위가 아니라, 수학적으로 상위 superset으로 바뀐다.\n",
    "            \n",
    "    - Casting : Explicit conversion(명시적 변환)이며 개발자가 직접 형을 변환시키는 것을 뜻함.\n",
    "        - python에서는 type을 casting하기 위해서는 **객체를 새로 생성**한다.\n",
    "        - 그래서 instance화를 통해서 casting한다.\n",
    "        - 따라서 생성할때 인자에 맞게 내부적으로 data type에 맞게 처리해준다. 즉, 각 Type의 특성을 이용하려고 사용가능.\n",
    "            - 중복값을 제거하려고 list와 tuple객체를 set객체로 type casting하여 사용.\n",
    "            "
   ]
  },
  {
   "cell_type": "code",
   "execution_count": 1,
   "id": "ecological-abuse",
   "metadata": {},
   "outputs": [
    {
     "name": "stdout",
     "output_type": "stream",
     "text": [
      "<class 'str'> <class 'int'> <class 'list'>\n"
     ]
    }
   ],
   "source": [
    "# Type casting\n",
    "s = '100'\n",
    "i = int(s)\n",
    "l = list(s)\n",
    "\n",
    "print(type(s),type(i),type(l))"
   ]
  },
  {
   "cell_type": "code",
   "execution_count": 7,
   "id": "affecting-jesus",
   "metadata": {},
   "outputs": [
    {
     "name": "stdout",
     "output_type": "stream",
     "text": [
      "400.0 <class 'float'>\n",
      "1 <class 'int'>\n",
      "3.3 <class 'float'>\n",
      "(6.3+5j) <class 'complex'>\n"
     ]
    }
   ],
   "source": [
    "# coresion - 숫자형\n",
    "\n",
    "print(300+100.000,type(300+100.000)) # int + float\n",
    "print(0+True,type(0+True)) # int + bool\n",
    "print(3.3+False,type(3.3+False))# float + bool\n",
    "print(3.3+(3+5j),type(3.3+(3+5j)))# float + complex"
   ]
  }
 ],
 "metadata": {
  "kernelspec": {
   "display_name": "Python 3",
   "language": "python",
   "name": "python3"
  },
  "language_info": {
   "codemirror_mode": {
    "name": "ipython",
    "version": 3
   },
   "file_extension": ".py",
   "mimetype": "text/x-python",
   "name": "python",
   "nbconvert_exporter": "python",
   "pygments_lexer": "ipython3",
   "version": "3.9.1"
  }
 },
 "nbformat": 4,
 "nbformat_minor": 5
}
