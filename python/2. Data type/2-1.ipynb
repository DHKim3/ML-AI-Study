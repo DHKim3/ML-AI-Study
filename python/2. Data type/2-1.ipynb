{
 "cells": [
  {
   "cell_type": "markdown",
   "id": "diagnostic-yesterday",
   "metadata": {},
   "source": [
    "# 2-1. 객체(Type)의 분류\n",
    "\n",
    "\n",
    "#### <목표>\n",
    "\n",
    "- Type(DataType)을 구분하는 몇 가지 기준에 대해서 알아보자.\n",
    "- 내장 DataType(Built-in Type)을 구분기준에 따라서 살펴보자.\n",
    "<br>\n",
    "\n",
    "## 2-1-1. Python 객체와 Type의 특징\n",
    "\n",
    "- Python의 Datatype 혹은 Type은 곧 Class.\n",
    "\n",
    "**Dynamic typing(동적자료형)** : 객체 할당이 자료형을 결정.\n",
    "\n",
    "    - Python의 모든 것은 \"객체(Object)\"이며 그 모든 객체들은 Type(속성,특성)을 갖는다. \n",
    "    - 식별자(변수)에 객체를 어떤 메모리 공간을 참조하게 binding한다는 것은 어떤 Type의 Class의 객체를 할당하는 것과 같은 의미.\n",
    "\n",
    "\n",
    "**Strong Typing(강한자료형)** : 임의의 클래스를 사용하여 자료형을 처리\n",
    "\n",
    "    - 객체에 대한 자료형이 항상 클래스로 결정되어있음.\n",
    "    - 대게 강한 자료형은 같은 클래스로 만들어진 객체일때만 연산가능"
   ]
  },
  {
   "cell_type": "code",
   "execution_count": 1,
   "id": "still-response",
   "metadata": {},
   "outputs": [
    {
     "data": {
      "text/plain": [
       "list"
      ]
     },
     "execution_count": 1,
     "metadata": {},
     "output_type": "execute_result"
    }
   ],
   "source": [
    "#Dynamic typing이해\n",
    "# a에 list를 바인딩(할당) => Type과 __class__함수를통해 자료형이 결정되었음을 확인.\n",
    "a = []\n",
    "type(a)"
   ]
  },
  {
   "cell_type": "code",
   "execution_count": 2,
   "id": "compatible-haiti",
   "metadata": {},
   "outputs": [
    {
     "data": {
      "text/plain": [
       "list"
      ]
     },
     "execution_count": 2,
     "metadata": {},
     "output_type": "execute_result"
    }
   ],
   "source": [
    "a.__class__"
   ]
  },
  {
   "cell_type": "code",
   "execution_count": 3,
   "id": "spatial-battle",
   "metadata": {},
   "outputs": [
    {
     "ename": "NameError",
     "evalue": "name 'b' is not defined",
     "output_type": "error",
     "traceback": [
      "\u001b[0;31m---------------------------------------------------------------------------\u001b[0m",
      "\u001b[0;31mNameError\u001b[0m                                 Traceback (most recent call last)",
      "\u001b[0;32m<ipython-input-3-9d6aae76d362>\u001b[0m in \u001b[0;36m<module>\u001b[0;34m\u001b[0m\n\u001b[1;32m      1\u001b[0m \u001b[0;31m#Strong Typing이해\u001b[0m\u001b[0;34m\u001b[0m\u001b[0;34m\u001b[0m\u001b[0;34m\u001b[0m\u001b[0m\n\u001b[1;32m      2\u001b[0m \u001b[0;31m# b는 할당되어있지 않다면 자료형이 결정되어있지 않음.\u001b[0m\u001b[0;34m\u001b[0m\u001b[0;34m\u001b[0m\u001b[0;34m\u001b[0m\u001b[0m\n\u001b[0;32m----> 3\u001b[0;31m \u001b[0mb\u001b[0m\u001b[0;34m\u001b[0m\u001b[0;34m\u001b[0m\u001b[0m\n\u001b[0m",
      "\u001b[0;31mNameError\u001b[0m: name 'b' is not defined"
     ]
    }
   ],
   "source": [
    "# b는 할당되어있지 않다면 자료형이 결정되어있지 않음.\n",
    "b"
   ]
  },
  {
   "cell_type": "code",
   "execution_count": 4,
   "id": "reduced-reset",
   "metadata": {},
   "outputs": [
    {
     "data": {
      "text/plain": [
       "int"
      ]
     },
     "execution_count": 4,
     "metadata": {},
     "output_type": "execute_result"
    }
   ],
   "source": [
    "# Strong typing 이해\n",
    "\n",
    "c = int('100')# 정수객체 만들기\n",
    "type(c)# int라는 클래스의 객체임."
   ]
  },
  {
   "cell_type": "code",
   "execution_count": 42,
   "id": "resistant-arthritis",
   "metadata": {},
   "outputs": [
    {
     "data": {
      "text/plain": [
       "int"
      ]
     },
     "execution_count": 42,
     "metadata": {},
     "output_type": "execute_result"
    }
   ],
   "source": [
    "c= int()\n",
    "type(c)"
   ]
  },
  {
   "cell_type": "code",
   "execution_count": 5,
   "id": "quiet-brick",
   "metadata": {},
   "outputs": [
    {
     "ename": "TypeError",
     "evalue": "unsupported operand type(s) for +: 'int' and 'str'",
     "output_type": "error",
     "traceback": [
      "\u001b[0;31m---------------------------------------------------------------------------\u001b[0m",
      "\u001b[0;31mTypeError\u001b[0m                                 Traceback (most recent call last)",
      "\u001b[0;32m<ipython-input-5-17e9c6e8a9d7>\u001b[0m in \u001b[0;36m<module>\u001b[0;34m\u001b[0m\n\u001b[1;32m      2\u001b[0m \u001b[0;31m# 당연, 각 Type에 해당하는 Class에 다른 Type과의 연산자 오버로딩을 정의하지 않았기 때문.\u001b[0m\u001b[0;34m\u001b[0m\u001b[0;34m\u001b[0m\u001b[0;34m\u001b[0m\u001b[0m\n\u001b[1;32m      3\u001b[0m \u001b[0;34m\u001b[0m\u001b[0m\n\u001b[0;32m----> 4\u001b[0;31m \u001b[0mb\u001b[0m \u001b[0;34m+\u001b[0m \u001b[0;34m'100'\u001b[0m\u001b[0;34m\u001b[0m\u001b[0;34m\u001b[0m\u001b[0m\n\u001b[0m",
      "\u001b[0;31mTypeError\u001b[0m: unsupported operand type(s) for +: 'int' and 'str'"
     ]
    }
   ],
   "source": [
    "# int형과 문자열 -> 강한 자료형의 다른 Type끼리의 연산불가.\n",
    "# 당연, 각 Type에 해당하는 Class에 다른 Type과의 연산자 오버로딩을 정의하지 않았기 때문.\n",
    "\n",
    "b + '100'"
   ]
  },
  {
   "cell_type": "code",
   "execution_count": 43,
   "id": "affecting-miracle",
   "metadata": {},
   "outputs": [],
   "source": [
    "# 함수와 메소드는 어떤 객체일까?\n",
    "\n",
    "class A(object):\n",
    "    def func(self):\n",
    "        print(\"Hello world\")"
   ]
  },
  {
   "cell_type": "code",
   "execution_count": 45,
   "id": "light-packaging",
   "metadata": {},
   "outputs": [
    {
     "data": {
      "text/plain": [
       "function"
      ]
     },
     "execution_count": 45,
     "metadata": {},
     "output_type": "execute_result"
    }
   ],
   "source": [
    "# function 객체이다.\n",
    "type(A.func)"
   ]
  },
  {
   "cell_type": "code",
   "execution_count": 48,
   "id": "understanding-enemy",
   "metadata": {},
   "outputs": [
    {
     "name": "stdout",
     "output_type": "stream",
     "text": [
      "<class 'method'>\n",
      "<bound method A.func of <__main__.A object at 0x11017db20>>\n"
     ]
    }
   ],
   "source": [
    "#  A의 메소드로 변환되어서 나타나짐\n",
    "a = A()\n",
    "print(type(a.func))\n",
    "print(a.func)"
   ]
  },
  {
   "cell_type": "markdown",
   "id": "under-thirty",
   "metadata": {},
   "source": [
    "## 2-1-2. Container Type\n",
    "\n",
    "\n",
    "\n",
    "- 정의 : Container Type의 객체는 다른 Type의 객체의 \"참조\"를 포함하고있다.\n",
    "- 즉, Container Type의 요소(element)들은 다른 Type일 수 있으며, **쪼개질 수 있다.**\n",
    "    - DB의 원자성(Atomicity)\n",
    "- 쪼개졌을때 *의미*가 있어야한다.\n",
    "\n",
    "- Built-in DataType : List, Tuple, Set, String\n",
    "    - 숫자형 자료형은 숫자 그 자체로 의미를 가지기 때문에 쪼개면 의미가 없음.\n",
    "    \n",
    "#### Homogeneous vs Heterogeneous\n",
    "\n",
    "- Homogeneous : 일반적으로 Container Type중 한 가지의 클래스로 이루어진 것.\n",
    "    - String 자료형\n",
    "    - 'ABC' -> 'A' 'B' 'C' 쪼개도 의미가 잇다.\n",
    "    \n",
    "- Heterogeneous : 일반적으로 Container Type중 내부에 다른 Class로 참조가 되는 Container Type\n",
    "    - List, Tuple, Set\n",
    "\n",
    "#### vs Collection(Container datatype)\n",
    "\n",
    "- [Collection](https://docs.python.org/ko/3/library/collections.html?highlight=collection) 공식문서.\n",
    "- 일반적으로 Collection Class를 Container datatype이라고 공식문서에 명명되어있다. 그래서, Container라는 개념자체와 혼동하여 혹은 합쳐서 용어를 사용하는 경우가 있는데, Container Type은 *개념*의 일종이고 Collection은 python에서 구현한 Container Type에 속하는 **모듈**이다.\n",
    "\n",
    "\n",
    "- Collection 모듈 : 파이썬의 범용 내장 컨테이너 dict, list, set 및 tuple에 대한 대안을 제공하는 특수 Container DataType을 구현.\n",
    "- 자세한 내부 모듈은 공식문서 확인.\n",
    "\n",
    "    - [collections.abc](https://docs.python.org/ko/3/library/collections.abc.html?highlight=collection#module-collections.abc) : 추상 클래스이며 여기에있는 메소드를 사용하여 len()등 우리가 익히 사용하는 함수 및 메소드를 구현(Class단원 참조)\n"
   ]
  },
  {
   "cell_type": "code",
   "execution_count": 9,
   "id": "activated-coral",
   "metadata": {},
   "outputs": [
    {
     "data": {
      "text/plain": [
       "'ABC'"
      ]
     },
     "execution_count": 9,
     "metadata": {},
     "output_type": "execute_result"
    }
   ],
   "source": [
    "# Homogenoeus container type == string\n",
    "\n",
    "'ABC'"
   ]
  },
  {
   "cell_type": "code",
   "execution_count": 10,
   "id": "verified-calculation",
   "metadata": {},
   "outputs": [
    {
     "data": {
      "text/plain": [
       "'A'"
      ]
     },
     "execution_count": 10,
     "metadata": {},
     "output_type": "execute_result"
    }
   ],
   "source": [
    "'A'"
   ]
  },
  {
   "cell_type": "code",
   "execution_count": 11,
   "id": "narrow-collectible",
   "metadata": {},
   "outputs": [
    {
     "data": {
      "text/plain": [
       "'B'"
      ]
     },
     "execution_count": 11,
     "metadata": {},
     "output_type": "execute_result"
    }
   ],
   "source": [
    "'B' # 다 쪼개서 의미를 가질 수 있음."
   ]
  },
  {
   "cell_type": "markdown",
   "id": "allied-generator",
   "metadata": {},
   "source": [
    "### Container Type인지 아닌지 확인 : issubclass 함수사용"
   ]
  },
  {
   "cell_type": "code",
   "execution_count": 35,
   "id": "bright-producer",
   "metadata": {},
   "outputs": [
    {
     "name": "stdout",
     "output_type": "stream",
     "text": [
      "True\n",
      "True\n",
      "True\n",
      "False\n"
     ]
    }
   ],
   "source": [
    "from collections.abc import Container\n",
    "\n",
    "print(issubclass(str, Container))\n",
    "print(issubclass(set, Container))\n",
    "print(issubclass(tuple, Container))\n",
    "\n",
    "# int는 아님.\n",
    "print(issubclass(int, Container))"
   ]
  },
  {
   "cell_type": "markdown",
   "id": "chinese-class",
   "metadata": {},
   "source": [
    "### keyword 'in'\n",
    "\n",
    "- 단, **sequence type**의 container객체 여야 한다.\n",
    "- 또한, heterogenous type은 in 앞의 객체와 in 뒤의 객체의 type이 달라도 된다. ( homogenous 객체 불가)"
   ]
  },
  {
   "cell_type": "code",
   "execution_count": 36,
   "id": "banner-nevada",
   "metadata": {},
   "outputs": [
    {
     "data": {
      "text/plain": [
       "True"
      ]
     },
     "execution_count": 36,
     "metadata": {},
     "output_type": "execute_result"
    }
   ],
   "source": [
    "1 in [1,2,3,4]"
   ]
  },
  {
   "cell_type": "code",
   "execution_count": 38,
   "id": "stupid-baghdad",
   "metadata": {},
   "outputs": [
    {
     "data": {
      "text/plain": [
       "True"
      ]
     },
     "execution_count": 38,
     "metadata": {},
     "output_type": "execute_result"
    }
   ],
   "source": [
    "5 not in [1,2,3,4]"
   ]
  },
  {
   "cell_type": "code",
   "execution_count": 8,
   "id": "thick-tuesday",
   "metadata": {},
   "outputs": [
    {
     "data": {
      "text/plain": [
       "False"
      ]
     },
     "execution_count": 8,
     "metadata": {},
     "output_type": "execute_result"
    }
   ],
   "source": [
    "# list -> heterogeneous container type\n",
    "1 in ['1',2,3,4,5]"
   ]
  },
  {
   "cell_type": "code",
   "execution_count": 7,
   "id": "forced-enemy",
   "metadata": {},
   "outputs": [
    {
     "ename": "TypeError",
     "evalue": "'in <string>' requires string as left operand, not int",
     "output_type": "error",
     "traceback": [
      "\u001b[0;31m---------------------------------------------------------------------------\u001b[0m",
      "\u001b[0;31mTypeError\u001b[0m                                 Traceback (most recent call last)",
      "\u001b[0;32m<ipython-input-7-3b3ea0aae7ec>\u001b[0m in \u001b[0;36m<module>\u001b[0;34m\u001b[0m\n\u001b[1;32m      1\u001b[0m \u001b[0;31m# str -> homogenous type\u001b[0m\u001b[0;34m\u001b[0m\u001b[0;34m\u001b[0m\u001b[0;34m\u001b[0m\u001b[0m\n\u001b[0;32m----> 2\u001b[0;31m \u001b[0;36m1\u001b[0m \u001b[0;32min\u001b[0m \u001b[0;34m'12345'\u001b[0m\u001b[0;34m\u001b[0m\u001b[0;34m\u001b[0m\u001b[0m\n\u001b[0m",
      "\u001b[0;31mTypeError\u001b[0m: 'in <string>' requires string as left operand, not int"
     ]
    }
   ],
   "source": [
    "# str -> homogenous type\n",
    "1 in '12345'"
   ]
  },
  {
   "cell_type": "code",
   "execution_count": 41,
   "id": "dried-sleeve",
   "metadata": {},
   "outputs": [
    {
     "name": "stdout",
     "output_type": "stream",
     "text": [
      "x는 1입니다.\n",
      "x는 1입니다(2)\n",
      "Hello\n",
      "Hello(2)\n"
     ]
    }
   ],
   "source": [
    "# 우아한 사용\n",
    "\n",
    "# 코드 줄이기\n",
    "a= [1,2,3,4]\n",
    "\n",
    "for x in a:\n",
    "    if x == 1:\n",
    "        print(\"x는 1입니다.\")\n",
    "        \n",
    "if 1 in a:\n",
    "    print(\"x는 1입니다(2)\")\n",
    "    \n",
    "# or 연산 대용\n",
    "a = 2\n",
    "\n",
    "if a==1 or a==2:\n",
    "    print(\"Hello\")\n",
    "    \n",
    "if a in [1,2]:\n",
    "    print(\"Hello(2)\")"
   ]
  },
  {
   "cell_type": "markdown",
   "id": "bigger-hanging",
   "metadata": {},
   "source": [
    "## 2-1-2. Mutable Object Type vs Immutable Object Type\n",
    "\n",
    "- ~~모두 Container Type안에서의 분류이다.~~ => Object상의 분류\n",
    "\n",
    "\n",
    "- Mutable : 내부주소값 그대로 사용하면서 재할당없이 내부를 바꿀 수 있는 객체\n",
    "    - 편리하나 바뀐지 모르는 경우가 있기 때문에 실수를 유발\n",
    "        - return의 용법 주의\n",
    "    - list, bytearray, Dict, set이 여기에 속한다.\n",
    "    - call by reference\n",
    "    \n",
    "    \n",
    "- Immutable : 재할당 해야지만 값을 바꿀 수 있음.\n",
    "    - 프로그래밍 관점에서 실수 혹은 오류를 줄일 수 있기 때문에 더 우아한 방법.\n",
    "    - bool, int, float, str, frozenset, tuple, bytes\n",
    "    - call by value\n",
    "    - 함수형 패러다임에서는 Immutable이 많음."
   ]
  },
  {
   "cell_type": "code",
   "execution_count": 15,
   "id": "remarkable-paint",
   "metadata": {},
   "outputs": [
    {
     "ename": "TypeError",
     "evalue": "'str' object does not support item assignment",
     "output_type": "error",
     "traceback": [
      "\u001b[0;31m---------------------------------------------------------------------------\u001b[0m",
      "\u001b[0;31mTypeError\u001b[0m                                 Traceback (most recent call last)",
      "\u001b[0;32m<ipython-input-15-915336cd6240>\u001b[0m in \u001b[0;36m<module>\u001b[0;34m\u001b[0m\n\u001b[1;32m      1\u001b[0m \u001b[0;31m# mutable실습\u001b[0m\u001b[0;34m\u001b[0m\u001b[0;34m\u001b[0m\u001b[0;34m\u001b[0m\u001b[0m\n\u001b[1;32m      2\u001b[0m \u001b[0mvar\u001b[0m \u001b[0;34m=\u001b[0m \u001b[0;34m\"문자열\"\u001b[0m\u001b[0;34m\u001b[0m\u001b[0;34m\u001b[0m\u001b[0m\n\u001b[0;32m----> 3\u001b[0;31m \u001b[0mvar\u001b[0m\u001b[0;34m[\u001b[0m\u001b[0;36m0\u001b[0m\u001b[0;34m]\u001b[0m \u001b[0;34m=\u001b[0m \u001b[0;34m\"가\"\u001b[0m\u001b[0;31m#변경불가\u001b[0m\u001b[0;34m\u001b[0m\u001b[0;34m\u001b[0m\u001b[0m\n\u001b[0m",
      "\u001b[0;31mTypeError\u001b[0m: 'str' object does not support item assignment"
     ]
    }
   ],
   "source": [
    "# Immutable 실습\n",
    "var = \"문자열\"\n",
    "var[0] = \"가\"#변경불가"
   ]
  },
  {
   "cell_type": "code",
   "execution_count": 17,
   "id": "consecutive-holiday",
   "metadata": {},
   "outputs": [
    {
     "name": "stdout",
     "output_type": "stream",
     "text": [
      "가자열\n",
      "문자열\n"
     ]
    }
   ],
   "source": [
    "# replace함수를 통해 s에 재할당\n",
    "s = var.replace(\"문\",\"가\")\n",
    "print(s)\n",
    "print(var)"
   ]
  },
  {
   "cell_type": "code",
   "execution_count": 18,
   "id": "helpful-danger",
   "metadata": {},
   "outputs": [
    {
     "data": {
      "text/plain": [
       "['100', 2, 3, 4]"
      ]
     },
     "execution_count": 18,
     "metadata": {},
     "output_type": "execute_result"
    }
   ],
   "source": [
    "# Mutable 실습\n",
    "li = [1,2,3,4]\n",
    "li[0] = '100'\n",
    "li"
   ]
  },
  {
   "cell_type": "code",
   "execution_count": 19,
   "id": "historic-mystery",
   "metadata": {},
   "outputs": [
    {
     "data": {
      "text/plain": [
       "['100', 999, 3, 4]"
      ]
     },
     "execution_count": 19,
     "metadata": {},
     "output_type": "execute_result"
    }
   ],
   "source": [
    "# __setitem__\n",
    "li.__setitem__(1,999)\n",
    "li"
   ]
  },
  {
   "cell_type": "markdown",
   "id": "driven-humor",
   "metadata": {},
   "source": [
    "### Datatype return의  3가지 \n",
    "\n",
    "- return의 3가지 특징을 list의 메소드를 통해 알아보자.\n",
    "\n",
    "1. 자기 자신이 바뀌었고 return 없음\n",
    "    - append \n",
    "2. 자기 자신이 바뀌었고 return 있음\n",
    "    - pop\n",
    "3. 자기 자신 바뀌는게 없고 return 있음\n",
    "    - count"
   ]
  },
  {
   "cell_type": "code",
   "execution_count": 1,
   "id": "green-filing",
   "metadata": {},
   "outputs": [],
   "source": [
    "# 1.\n",
    "a = [1,2,3,4,5]\n",
    "a.append(6)"
   ]
  },
  {
   "cell_type": "code",
   "execution_count": 2,
   "id": "animal-surgery",
   "metadata": {},
   "outputs": [
    {
     "data": {
      "text/plain": [
       "6"
      ]
     },
     "execution_count": 2,
     "metadata": {},
     "output_type": "execute_result"
    }
   ],
   "source": [
    "# 2.\n",
    "a.pop()"
   ]
  },
  {
   "cell_type": "code",
   "execution_count": 6,
   "id": "comparable-customs",
   "metadata": {},
   "outputs": [
    {
     "data": {
      "text/plain": [
       "1"
      ]
     },
     "execution_count": 6,
     "metadata": {},
     "output_type": "execute_result"
    }
   ],
   "source": [
    "#3. count -> 인자로 보낸 값이 몇개 있는지 return\n",
    "a.count(4)"
   ]
  },
  {
   "cell_type": "markdown",
   "id": "turkish-screw",
   "metadata": {},
   "source": [
    "#### Mutable class인지 아닌지 구분?\n",
    "\n",
    "- 모든 Class에는 속성과 함수 등을 관리하는 \\__dict__가 구현되며, 여기에 java에서의 getter, setter가 구현되어있음.\n",
    "\n",
    "- immutable일때는 **변경불가** 이므로 \\__setitem__과 \\__delitem__구현이 되어있지 않음."
   ]
  },
  {
   "cell_type": "code",
   "execution_count": 27,
   "id": "specialized-simpson",
   "metadata": {},
   "outputs": [
    {
     "name": "stdout",
     "output_type": "stream",
     "text": [
      "True\n",
      "False\n",
      "False\n"
     ]
    }
   ],
   "source": [
    "# immutable : __getitem__존재, __setitem__과 __delitem__ 존재하지 않음.\n",
    "print('__getitem__' in str.__dict__)\n",
    "print('__setitem__' in str.__dict__)\n",
    "print('__delitem__' in str.__dict__)"
   ]
  },
  {
   "cell_type": "code",
   "execution_count": 28,
   "id": "planned-homework",
   "metadata": {},
   "outputs": [
    {
     "name": "stdout",
     "output_type": "stream",
     "text": [
      "True\n",
      "True\n",
      "True\n"
     ]
    }
   ],
   "source": [
    "# mutable : 모두 구현\n",
    "print('__getitem__' in list.__dict__)\n",
    "print('__setitem__' in list.__dict__)\n",
    "print('__delitem__' in list.__dict__)"
   ]
  },
  {
   "cell_type": "markdown",
   "id": "future-pittsburgh",
   "metadata": {},
   "source": [
    "### id()\n",
    "\n",
    "- 실제 메모리상의 주소이며 **고유한** 객체의 값이다. (unique)\n",
    "- 다만, CPython이외의 Python 인터프리터에서는 실제 메모리상의 주소는 *아니다.*\n",
    "\n",
    "\n",
    "- Python은 앞서 말했듯, 고유한 id를 가진 객체는 하나만 메모리에 하나만 존재한다.\n",
    "- 하지만 내부를 변화시킬 수 있냐 아니냐에 따라서 id()를 사용한 결과가 달라진다."
   ]
  },
  {
   "cell_type": "code",
   "execution_count": 27,
   "id": "english-shoulder",
   "metadata": {},
   "outputs": [
    {
     "name": "stdout",
     "output_type": "stream",
     "text": [
      "True\n",
      "False\n"
     ]
    }
   ],
   "source": [
    "# immutable - 변경 불가능하기 때문에, 변경한다면 달라짐.\n",
    "a = \"ABC\"\n",
    "b = a\n",
    "print(id(a) == id(b))\n",
    "a = a+\"C\"\n",
    "print(id(a) == id(b))"
   ]
  },
  {
   "cell_type": "code",
   "execution_count": 28,
   "id": "blond-parts",
   "metadata": {},
   "outputs": [
    {
     "name": "stdout",
     "output_type": "stream",
     "text": [
      "True\n",
      "True\n"
     ]
    }
   ],
   "source": [
    "# mutable - 변경가능하기 때문에 달라지지 않음.\n",
    "a = [10,20]\n",
    "b = a\n",
    "print(id(a) == id(b))\n",
    "a.pop()\n",
    "print(id(a) == id(b))"
   ]
  },
  {
   "cell_type": "markdown",
   "id": "manual-chosen",
   "metadata": {},
   "source": [
    " - 대게 id를 사용하여 mutable과 immutable을 비교한다. 하지만 개인적인 생각으로는 이렇게 비교하는 것은 재할당의 관점에서 생각한다면 비교의 대상이 잘못되었다고 생각한다(물론, 이해를 위한 가장 쉬운 예시이다.) 그 이유는 재할당의 관점에서 Mutable객체 또한 재할당을 한다면, 메모리 주소가 바뀐다.\n",
    "\n",
    "다음 예시를 보자"
   ]
  },
  {
   "cell_type": "code",
   "execution_count": 29,
   "id": "flying-feeling",
   "metadata": {},
   "outputs": [
    {
     "name": "stdout",
     "output_type": "stream",
     "text": [
      "True\n",
      "False\n"
     ]
    }
   ],
   "source": [
    "a = [10,20]\n",
    "b = a\n",
    "print(id(a) == id(b))\n",
    "a = a.pop()\n",
    "print(id(a) == id(b))"
   ]
  },
  {
   "cell_type": "markdown",
   "id": "august-bryan",
   "metadata": {},
   "source": [
    "- 결국, mutable은 변경할 수 있기때문에 고유한 객체가 만들어진 후의 시점에서도 내부를 변경할 수 있다.\n",
    "    - 즉, 내부를 변경할 수 있는 메소드가 있다.(dir혹은 \\_\\_dict__로 확인가능)\n",
    "\n",
    "\n",
    "- Immutable은 고유한 객체가 만들어진 후의 시점에 **변경불가**하기 때문에 내부를 변경하지 못해 **다른 값으로 재할당** 하는 것임에 유의하는 것이 좋다."
   ]
  },
  {
   "cell_type": "markdown",
   "id": "comparative-sweet",
   "metadata": {},
   "source": [
    "### Python object interning\n",
    "\n",
    "- 정의 : 메모리 공유 기법으로서 이미 생성된 Object(객체)를 reuse(재사용)하는 기법. 대게 Immutable객체에 대해서 쓰며 개발자가 필요한 경우 function을 통해 interning을 지정 할 수 있다.\n",
    "    - 이점 : 메모리의 효율성\n",
    "    \n",
    "\n",
    "- Python interning : 몇 가지 immutable객체에 대해서 default로 interning을 지정해놓았음.\n",
    "    - 문자형 type 중 20자 미만의 공백을 포함하지 않는 문자열 같은 메모리 공유.\n",
    "    - 숫자형 type 중 -5 ~ 256 까지는 메모리가 정해져 있어서 같은 메모리 공유.\n",
    "    - python sys.intern() : intern 객체.\n",
    "    - 주의점 : is 사용 주의.\n",
    "    "
   ]
  },
  {
   "cell_type": "code",
   "execution_count": 4,
   "id": "binary-azerbaijan",
   "metadata": {},
   "outputs": [
    {
     "name": "stdout",
     "output_type": "stream",
     "text": [
      "4398773296 4398773296\n",
      "4398774192 4398775216\n"
     ]
    }
   ],
   "source": [
    "# 문자형 : 20미만의 공백을 포함하지 않는 문자열.\n",
    "\n",
    "a = \"Hi\"\n",
    "a2 = \"Hi\"\n",
    "print(id(a),id(a2))\n",
    "\n",
    "b = \"Hello world!\"\n",
    "b2 = \"Hello world!\"\n",
    "print(id(b),id(b2))"
   ]
  },
  {
   "cell_type": "code",
   "execution_count": 5,
   "id": "crazy-travel",
   "metadata": {},
   "outputs": [
    {
     "name": "stdout",
     "output_type": "stream",
     "text": [
      "4364302736 4364302736\n",
      "4398157456 4398157264\n"
     ]
    }
   ],
   "source": [
    "# 숫자형 : -5 ~ 256\n",
    "a = 256\n",
    "a2 = 256\n",
    "print(id(a),id(a2))\n",
    "\n",
    "b = 257\n",
    "b2 = 257\n",
    "\n",
    "print(id(b),id(b2))\n"
   ]
  },
  {
   "cell_type": "code",
   "execution_count": 10,
   "id": "maritime-builder",
   "metadata": {},
   "outputs": [
    {
     "name": "stdout",
     "output_type": "stream",
     "text": [
      "4398870576 4399368816 False\n",
      "4398870576 4398870576 True\n"
     ]
    }
   ],
   "source": [
    "from sys import intern\n",
    " \n",
    "c = intern('Hello world!')\n",
    "d = 'Hello world!'\n",
    "print(id(c), id(d), c is d)\n",
    " \n",
    "e = intern('Hello world!')\n",
    "print(id(c), id(e), c is e)"
   ]
  },
  {
   "cell_type": "markdown",
   "id": "oriented-badge",
   "metadata": {},
   "source": [
    "### is vs ==\n",
    "\n",
    "- == : 값만 비교<br>\n",
    "- is : id값을 통해서 고유한 객체인지를 비교."
   ]
  },
  {
   "cell_type": "code",
   "execution_count": 39,
   "id": "mighty-judges",
   "metadata": {},
   "outputs": [
    {
     "name": "stdout",
     "output_type": "stream",
     "text": [
      "True\n",
      "True\n",
      "False\n",
      "True\n"
     ]
    }
   ],
   "source": [
    "# tuple - container, immutable\n",
    "a = c= 1,\n",
    "b = 1,\n",
    "print(a == b)\n",
    "print(b == c)\n",
    "\n",
    "\n",
    "print(a is b)\n",
    "print(a is c)"
   ]
  },
  {
   "cell_type": "code",
   "execution_count": 40,
   "id": "addressed-monte",
   "metadata": {},
   "outputs": [
    {
     "name": "stdout",
     "output_type": "stream",
     "text": [
      "True\n",
      "True\n",
      "True\n",
      "True\n"
     ]
    }
   ],
   "source": [
    "# 주의 - int는 immutable type이지만 container가 아니다. 따라서, 같은 int값은 어떻게 해도 같은 고유한 객체를 가리킨다.\n",
    "\n",
    "a= c = 10\n",
    "b= 10\n",
    "\n",
    "print(a == b)\n",
    "print(b == c)\n",
    "\n",
    "\n",
    "print(a is b)\n",
    "print(a is c)"
   ]
  },
  {
   "cell_type": "markdown",
   "id": "illegal-woman",
   "metadata": {},
   "source": [
    "### Copy\n",
    "\n",
    "- Programming에서는 일반적으로 copy모듈을 통해서 복사를 지원한다. \n",
    "- 기본적으로는 Swallow Copy를 지원한다.\n",
    "- 우리가 유의해서 보아햐 될 부분은 바로 Mutable객체에 대한 Copy이다.\n",
    "    - 앞서 언급했듯, immutable은 불변하기 때문에 할당의 개념으로 보아야한다."
   ]
  },
  {
   "cell_type": "markdown",
   "id": "usual-waste",
   "metadata": {},
   "source": [
    "#### Simple Copy\n",
    "\n",
    "- 단순복사는 우리가 일반적으로 하나의 변수를 다른 변수에 할당함으로써 같은 객체를 참조하는 것을 말한다."
   ]
  },
  {
   "cell_type": "code",
   "execution_count": 42,
   "id": "attempted-reply",
   "metadata": {},
   "outputs": [
    {
     "name": "stdout",
     "output_type": "stream",
     "text": [
      "[1, 2, 3] [1, 2, 3]\n",
      "4407063104 4407063104\n"
     ]
    }
   ],
   "source": [
    "# mutable\n",
    "a = [1,2]\n",
    "b = a    # 단순 복사\n",
    "b.append(3)\n",
    "print(a,b)\n",
    "print(id(a),id(b))"
   ]
  },
  {
   "cell_type": "markdown",
   "id": "favorite-express",
   "metadata": {},
   "source": [
    "#### swallow copy\n",
    "\n",
    "- 기본적으로 python에서 swallow copy를 지원하여 단순객체에서는 앞선 단순 복사와 하는 역할이 비슷하다.\n",
    "- 하지만, 대표적으로 list dict처럼 mutable한 heterogeneous container type에서는 복합적인 type을 갖는 객체들을 수용할 수 있으므로 이러한 **복합객체**에서는 내부 객체 type에 따라 다른 양상을 보인다."
   ]
  },
  {
   "cell_type": "code",
   "execution_count": 51,
   "id": "proper-airplane",
   "metadata": {},
   "outputs": [
    {
     "name": "stdout",
     "output_type": "stream",
     "text": [
      "[1, 2, 3, 4] [1, 2, 3, 4]\n",
      "4405298368 4405298176\n",
      "4371757360 4371757392 4371757360 4371757392\n",
      "[1, 2, 3, 4] [999, 2, 3, 4]\n",
      "4405298368 4405298176\n",
      "4371757360 4371757392 4405017008 4371757392\n"
     ]
    }
   ],
   "source": [
    "# 내부객체가 immutable \n",
    "import copy\n",
    "\n",
    "a = [1,2,3,4]\n",
    "b = copy.copy(a)\n",
    "print(a,b)\n",
    "print(id(a),id(b))\n",
    "print(id(a[0]),id(a[1]), id(b[0]),id(b[1]))\n",
    "\n",
    "b[0] = 999\n",
    "\n",
    "print(a,b)\n",
    "print(id(a),id(b))\n",
    "print(id(a[0]),id(a[1]), id(b[0]),id(b[1]))"
   ]
  },
  {
   "cell_type": "code",
   "execution_count": 54,
   "id": "chicken-commerce",
   "metadata": {},
   "outputs": [
    {
     "name": "stdout",
     "output_type": "stream",
     "text": [
      "[1, [2, 3, 4]] [1, [2, 3, 4]]\n",
      "4405418048 4406532608\n",
      "4371757360 4406502720 4371757360 4406502720\n",
      "[1, [2, 3, 33]] [1, [2, 3, 33]]\n",
      "4405418048 4406532608\n",
      "4371757360 4406502720 4371757360 4406502720\n"
     ]
    }
   ],
   "source": [
    "# 내부객체가 mutable\n",
    "# copy모듈을 import하지않고 그냥 객체.copy()를 써도됨\n",
    "import copy\n",
    "\n",
    "a = [1,[2,3,4]]\n",
    "b = copy.copy(a)\n",
    "c = a.copy()# swallow copy 사용가능.\n",
    "print(a,b)\n",
    "print(id(a),id(b))\n",
    "print(id(a[0]),id(a[1]), id(b[0]),id(b[1]))\n",
    "\n",
    "b[1][2] = 33\n",
    "\n",
    "print(a,b)\n",
    "print(id(a),id(b))\n",
    "print(id(a[0]),id(a[1]), id(b[0]),id(b[1]))"
   ]
  },
  {
   "cell_type": "markdown",
   "id": "simplified-blackjack",
   "metadata": {},
   "source": [
    "- 이러한 현상이 나타나는 이유는 바로 swallow copy의 특성에서 찾아볼 수 있다.\n",
    "    1. 복합객체의 제일 바깥 객체는 복사하여 다른 id값일 가리킨다.\n",
    "    2. 내부객체는 raw 객체의 주소를 그대로 참조하고 있다.\n",
    "    3. 따라서 내부 객체를 변화시킬 때, 단순 복사처럼 내부 객체가 mutable이라면 주소를 유지 한테 변화시키고 immutable이라면 변경불가하다.\n",
    "    \n",
    "- 이러한 방식때문에 큰 data를 다뤄야하는 실무에서 실수가 발생할 가능성이 높아진다.\n",
    "\n",
    "=> 따라서, 이 문제를 해결하기 위해 python에서는 **deepcopy** method를 제공한다. "
   ]
  },
  {
   "cell_type": "markdown",
   "id": "severe-execution",
   "metadata": {},
   "source": [
    "#### deepcopy()\n",
    "\n",
    "    - swallow copy의 문제점을 해결하기위해서 재귀적으로 복합객체의 내부객체까지 복사해서 완전 새로운 객체를 만드는 함수.\n",
    "    - swallow copy와 같이 copy module를 통해 사용 가능"
   ]
  },
  {
   "cell_type": "code",
   "execution_count": 55,
   "id": "velvet-andrew",
   "metadata": {},
   "outputs": [
    {
     "name": "stdout",
     "output_type": "stream",
     "text": [
      "[1, [2, 3]] [1, [2, 3]]\n",
      "4405433472 4407175296\n",
      "4371757360 4405435392 4371757360 4405435648\n"
     ]
    }
   ],
   "source": [
    "import copy\n",
    "\n",
    "a = [1,[2,3]]\n",
    "\n",
    "b = copy.deepcopy(a)\n",
    "\n",
    "print(a,b)\n",
    "print(id(a),id(b))\n",
    "print(id(a[0]),id(a[1]), id(b[0]),id(b[1]))"
   ]
  }
 ],
 "metadata": {
  "kernelspec": {
   "display_name": "Python 3",
   "language": "python",
   "name": "python3"
  },
  "language_info": {
   "codemirror_mode": {
    "name": "ipython",
    "version": 3
   },
   "file_extension": ".py",
   "mimetype": "text/x-python",
   "name": "python",
   "nbconvert_exporter": "python",
   "pygments_lexer": "ipython3",
   "version": "3.9.1"
  }
 },
 "nbformat": 4,
 "nbformat_minor": 5
}
